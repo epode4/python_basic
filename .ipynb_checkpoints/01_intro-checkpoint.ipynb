{
 "cells": [
  {
   "cell_type": "markdown",
   "id": "e081467e-5e2f-4c4d-bfc9-816b1b8e6f4e",
   "metadata": {},
   "source": [
    "# 01. Intro\n",
    "\n",
    "## 단축키\n",
    "\n",
    "- ctrl + enter :  지금 cell 실행\n",
    "- shift + enter : 지금 cell 실행 & 아래로 이동\n",
    "- alt + enter : 지금 cell 실행 & 아래에 새로운 cell 추가\n",
    "\n",
    "## 주의사항\n",
    "\n",
    "1. Apple / apple 주의 (대소문자)\n",
    "2. git add . / git add. 주의 (띄어쓰기)\n",
    "3. message / massage 주의 (철자)"
   ]
  },
  {
   "cell_type": "code",
   "execution_count": 5,
   "id": "4e7787c9-9125-4bab-973a-2e6d2cd67270",
   "metadata": {},
   "outputs": [],
   "source": [
    "# 주석을 나타냅니다. (Ctrl + slash)"
   ]
  },
  {
   "cell_type": "markdown",
   "id": "3d998c7b-441f-4f16-93d1-eb67e8704572",
   "metadata": {},
   "source": [
    "esc + m : markdown으로 변환"
   ]
  },
  {
   "cell_type": "markdown",
   "id": "de4fbe2f-9add-4ac3-9075-f2daf1be16ea",
   "metadata": {},
   "source": [
    "# 1. 변수\n",
    "\n",
    "변수이름 = 값 (할당)\n",
    "\n",
    "- 변수이름은 어떤 이름이든 상관 없음\n",
    "- 다만 영어, 숫자, _를 이용하여 선언\n",
    "- 키워드는 사용 불가"
   ]
  },
  {
   "cell_type": "code",
   "execution_count": 7,
   "id": "34135c71-9072-4e64-8d20-c94cd647f5c2",
   "metadata": {},
   "outputs": [],
   "source": [
    "a = 10"
   ]
  },
  {
   "cell_type": "code",
   "execution_count": 8,
   "id": "d6e68c64-9195-4fb2-ab11-c847328cc5bb",
   "metadata": {},
   "outputs": [
    {
     "data": {
      "text/plain": [
       "10"
      ]
     },
     "execution_count": 8,
     "metadata": {},
     "output_type": "execute_result"
    }
   ],
   "source": [
    "a"
   ]
  },
  {
   "cell_type": "code",
   "execution_count": 9,
   "id": "f230eed2-8601-4099-b7c1-57f5a06e8432",
   "metadata": {},
   "outputs": [
    {
     "data": {
      "text/plain": [
       "['False',\n",
       " 'None',\n",
       " 'True',\n",
       " 'and',\n",
       " 'as',\n",
       " 'assert',\n",
       " 'async',\n",
       " 'await',\n",
       " 'break',\n",
       " 'class',\n",
       " 'continue',\n",
       " 'def',\n",
       " 'del',\n",
       " 'elif',\n",
       " 'else',\n",
       " 'except',\n",
       " 'finally',\n",
       " 'for',\n",
       " 'from',\n",
       " 'global',\n",
       " 'if',\n",
       " 'import',\n",
       " 'in',\n",
       " 'is',\n",
       " 'lambda',\n",
       " 'nonlocal',\n",
       " 'not',\n",
       " 'or',\n",
       " 'pass',\n",
       " 'raise',\n",
       " 'return',\n",
       " 'try',\n",
       " 'while',\n",
       " 'with',\n",
       " 'yield']"
      ]
     },
     "execution_count": 9,
     "metadata": {},
     "output_type": "execute_result"
    }
   ],
   "source": [
    "import keyword \n",
    "keyword.kwlist"
   ]
  },
  {
   "cell_type": "markdown",
   "id": "d94330ec-acf6-40fa-a34a-adbd11b27b8d",
   "metadata": {},
   "source": [
    "### 1.1. number"
   ]
  },
  {
   "cell_type": "code",
   "execution_count": 10,
   "id": "2d938922-3738-4b8c-9f09-f17a4e02bac5",
   "metadata": {},
   "outputs": [],
   "source": [
    "a = 1000000"
   ]
  },
  {
   "cell_type": "code",
   "execution_count": 11,
   "id": "3033dfee-adb7-4104-840c-4361659e8820",
   "metadata": {},
   "outputs": [
    {
     "data": {
      "text/plain": [
       "1000000"
      ]
     },
     "execution_count": 11,
     "metadata": {},
     "output_type": "execute_result"
    }
   ],
   "source": [
    "a"
   ]
  },
  {
   "cell_type": "markdown",
   "id": "ec57c949-ceac-45d2-a0c8-aba1c7431a89",
   "metadata": {},
   "source": [
    "숫자에는 정수 형태가 기본적으로 들어감"
   ]
  },
  {
   "cell_type": "code",
   "execution_count": 12,
   "id": "e54be568-10af-4312-93e0-03c2544e8abd",
   "metadata": {},
   "outputs": [
    {
     "data": {
      "text/plain": [
       "int"
      ]
     },
     "execution_count": 12,
     "metadata": {},
     "output_type": "execute_result"
    }
   ],
   "source": [
    "type(a)"
   ]
  },
  {
   "cell_type": "code",
   "execution_count": 13,
   "id": "ed2ba829-1cfc-4c67-986e-197797ec4ec3",
   "metadata": {},
   "outputs": [],
   "source": [
    "b = 1.1"
   ]
  },
  {
   "cell_type": "code",
   "execution_count": 14,
   "id": "6a8d7062-54b4-4549-b4c1-c3893901481e",
   "metadata": {},
   "outputs": [
    {
     "data": {
      "text/plain": [
       "1.1"
      ]
     },
     "execution_count": 14,
     "metadata": {},
     "output_type": "execute_result"
    }
   ],
   "source": [
    "b"
   ]
  },
  {
   "cell_type": "code",
   "execution_count": 16,
   "id": "ffd0c808-d291-4086-a40f-522f46634939",
   "metadata": {},
   "outputs": [
    {
     "data": {
      "text/plain": [
       "float"
      ]
     },
     "execution_count": 16,
     "metadata": {},
     "output_type": "execute_result"
    }
   ],
   "source": [
    "type(b)"
   ]
  },
  {
   "cell_type": "code",
   "execution_count": 17,
   "id": "86bfaf48-3ab2-417a-8390-ce394e05cfd1",
   "metadata": {},
   "outputs": [],
   "source": [
    "c = 1 - 4j"
   ]
  },
  {
   "cell_type": "code",
   "execution_count": 18,
   "id": "069142f6-2205-44c0-89bc-f42c24e86852",
   "metadata": {},
   "outputs": [
    {
     "data": {
      "text/plain": [
       "(1-4j)"
      ]
     },
     "execution_count": 18,
     "metadata": {},
     "output_type": "execute_result"
    }
   ],
   "source": [
    "c"
   ]
  },
  {
   "cell_type": "code",
   "execution_count": 19,
   "id": "b18ee872-9060-4bf4-9602-833ce7d559ea",
   "metadata": {},
   "outputs": [
    {
     "data": {
      "text/plain": [
       "complex"
      ]
     },
     "execution_count": 19,
     "metadata": {},
     "output_type": "execute_result"
    }
   ],
   "source": [
    "type(c)"
   ]
  },
  {
   "cell_type": "markdown",
   "id": "aacd1621-8921-4902-a9ac-e212cad6692e",
   "metadata": {},
   "source": [
    "int = 정수, float =  소수, complex = 복소수"
   ]
  },
  {
   "cell_type": "code",
   "execution_count": 22,
   "id": "a25494f8-175a-48b6-a7e0-44fd77cbf9c4",
   "metadata": {},
   "outputs": [
    {
     "data": {
      "text/plain": [
       "-4.0"
      ]
     },
     "execution_count": 22,
     "metadata": {},
     "output_type": "execute_result"
    }
   ],
   "source": [
    "c.imag"
   ]
  },
  {
   "cell_type": "code",
   "execution_count": 23,
   "id": "7a918f0b-fe51-4ec6-a790-74d7f7b34d97",
   "metadata": {},
   "outputs": [
    {
     "data": {
      "text/plain": [
       "1.0"
      ]
     },
     "execution_count": 23,
     "metadata": {},
     "output_type": "execute_result"
    }
   ],
   "source": [
    "c.real"
   ]
  },
  {
   "cell_type": "markdown",
   "id": "6cd694fd-fc60-45e9-986b-f9f9d38a07e6",
   "metadata": {},
   "source": [
    "### 1.2 Boolean\n",
    "\n",
    "True, False로 이루어진 type"
   ]
  },
  {
   "cell_type": "code",
   "execution_count": 24,
   "id": "e6f8aec8-31e8-4cd1-924b-53238135fc2e",
   "metadata": {},
   "outputs": [],
   "source": [
    "a = True"
   ]
  },
  {
   "cell_type": "code",
   "execution_count": 25,
   "id": "c55c444b-b5ef-49a1-b37f-71fd8c152285",
   "metadata": {},
   "outputs": [
    {
     "data": {
      "text/plain": [
       "bool"
      ]
     },
     "execution_count": 25,
     "metadata": {},
     "output_type": "execute_result"
    }
   ],
   "source": [
    "type(a)"
   ]
  },
  {
   "cell_type": "code",
   "execution_count": 26,
   "id": "ac5a3095-4569-4198-9033-b4d99df809ed",
   "metadata": {},
   "outputs": [],
   "source": [
    "b = False"
   ]
  },
  {
   "cell_type": "code",
   "execution_count": 27,
   "id": "f7a0f12b-0c35-472e-b113-2a4d950e6ab8",
   "metadata": {},
   "outputs": [
    {
     "data": {
      "text/plain": [
       "bool"
      ]
     },
     "execution_count": 27,
     "metadata": {},
     "output_type": "execute_result"
    }
   ],
   "source": [
    "type(b)"
   ]
  },
  {
   "cell_type": "code",
   "execution_count": 28,
   "id": "6e068f6c-12ba-49a2-bf4a-5cdc81a07631",
   "metadata": {},
   "outputs": [
    {
     "data": {
      "text/plain": [
       "False"
      ]
     },
     "execution_count": 28,
     "metadata": {},
     "output_type": "execute_result"
    }
   ],
   "source": [
    "bool(0)"
   ]
  },
  {
   "cell_type": "code",
   "execution_count": 29,
   "id": "9b1ad475-8d36-43e6-a0bc-5a2c2fa3fb6c",
   "metadata": {},
   "outputs": [
    {
     "data": {
      "text/plain": [
       "True"
      ]
     },
     "execution_count": 29,
     "metadata": {},
     "output_type": "execute_result"
    }
   ],
   "source": [
    "bool(1)"
   ]
  },
  {
   "cell_type": "markdown",
   "id": "1350683a-ea8f-4432-8377-06e09099875d",
   "metadata": {},
   "source": [
    "bool() = True, False인지 확인해주는 함수"
   ]
  },
  {
   "cell_type": "markdown",
   "id": "9b99c25a-4775-42fa-8580-69e4203d792c",
   "metadata": {},
   "source": [
    "### 1.3 None"
   ]
  },
  {
   "cell_type": "code",
   "execution_count": 30,
   "id": "25b2147b-3498-4eb0-bcdb-b223c14cec18",
   "metadata": {},
   "outputs": [],
   "source": [
    "a = None"
   ]
  },
  {
   "cell_type": "code",
   "execution_count": 31,
   "id": "6599e7ed-082c-4ea0-a61a-adb30e7b057b",
   "metadata": {},
   "outputs": [
    {
     "data": {
      "text/plain": [
       "NoneType"
      ]
     },
     "execution_count": 31,
     "metadata": {},
     "output_type": "execute_result"
    }
   ],
   "source": [
    "type(a)"
   ]
  },
  {
   "cell_type": "markdown",
   "id": "4b35faf8-4949-4fdd-8150-e7e8b7b0e921",
   "metadata": {},
   "source": [
    "Nonetype = 값이 아무것도 들어있지 않다"
   ]
  },
  {
   "cell_type": "markdown",
   "id": "436e126e-acd9-4eae-9afd-a4a162ff4b27",
   "metadata": {},
   "source": [
    "### 1.4 String\n",
    "\n",
    "- 문자열은 `'` `\"`를 이용하여 표현"
   ]
  },
  {
   "cell_type": "code",
   "execution_count": 32,
   "id": "94672fff-dbc2-4e74-b444-f50de7004252",
   "metadata": {},
   "outputs": [],
   "source": [
    "a = 'hello'"
   ]
  },
  {
   "cell_type": "code",
   "execution_count": 33,
   "id": "ac25d681-a855-4e67-8d45-b8e578a6847c",
   "metadata": {},
   "outputs": [
    {
     "data": {
      "text/plain": [
       "str"
      ]
     },
     "execution_count": 33,
     "metadata": {},
     "output_type": "execute_result"
    }
   ],
   "source": [
    "type(a)"
   ]
  },
  {
   "cell_type": "markdown",
   "id": "46985bf2-0298-4c62-aa7f-d80389ff1a97",
   "metadata": {},
   "source": [
    "`'` `\"` 둘 중에 무엇을 사용하든 상관없지만 일관되게 하나만 사용하기"
   ]
  },
  {
   "cell_type": "code",
   "execution_count": 35,
   "id": "b26fd872-59a8-4839-8f73-14c72e935f19",
   "metadata": {},
   "outputs": [
    {
     "name": "stdin",
     "output_type": "stream",
     "text": [
      " 22\n"
     ]
    },
    {
     "name": "stdout",
     "output_type": "stream",
     "text": [
      "22\n",
      "<class 'str'>\n"
     ]
    }
   ],
   "source": [
    "age = input()\n",
    "print(age)\n",
    "print(type(age))"
   ]
  },
  {
   "cell_type": "markdown",
   "id": "45296182-d1d9-4e0a-9e23-d25e658ed129",
   "metadata": {},
   "source": [
    "어떤 값을 넣든지 문자열로 인식됨 "
   ]
  },
  {
   "cell_type": "code",
   "execution_count": 36,
   "id": "9cb33b60-01b9-4d70-be1c-74c61efa1ad1",
   "metadata": {},
   "outputs": [
    {
     "ename": "SyntaxError",
     "evalue": "invalid syntax. Perhaps you forgot a comma? (2754287516.py, line 1)",
     "output_type": "error",
     "traceback": [
      "\u001b[1;36m  Cell \u001b[1;32mIn[36], line 1\u001b[1;36m\u001b[0m\n\u001b[1;33m    print('안녕하세요 '최세인'입니다')\u001b[0m\n\u001b[1;37m          ^\u001b[0m\n\u001b[1;31mSyntaxError\u001b[0m\u001b[1;31m:\u001b[0m invalid syntax. Perhaps you forgot a comma?\n"
     ]
    }
   ],
   "source": [
    "print('안녕하세요 '최세인'입니다')"
   ]
  },
  {
   "cell_type": "code",
   "execution_count": 37,
   "id": "4bc7d175-5572-4774-a42e-ef36984f8a42",
   "metadata": {},
   "outputs": [
    {
     "name": "stdout",
     "output_type": "stream",
     "text": [
      "안녕하세요 '최세인'입니다\n"
     ]
    }
   ],
   "source": [
    "print(\"안녕하세요 '최세인'입니다\")"
   ]
  },
  {
   "cell_type": "markdown",
   "id": "3791bcbb-dc05-4111-aef3-820830b9387d",
   "metadata": {},
   "source": [
    "따옴표를 사용하고 싶으면 홑따옴표와 쌍따옴표를 복합적으로 사용해야 함"
   ]
  },
  {
   "cell_type": "code",
   "execution_count": 38,
   "id": "ec2596c3-a514-4b73-bd0a-f446ff4e4ff7",
   "metadata": {},
   "outputs": [
    {
     "name": "stdout",
     "output_type": "stream",
     "text": [
      "안녕하세요 '최세인'입니다\n"
     ]
    }
   ],
   "source": [
    "print('안녕하세요 \\'최세인\\'입니다')"
   ]
  },
  {
   "cell_type": "markdown",
   "id": "e3b88c1d-70a5-472f-95a0-80bf91b2d495",
   "metadata": {},
   "source": [
    "혹은 역슬래쉬(escape)를 사용해서 뒤에 나오는 홑따옴표가 문자열에 사용되는 홑따옴표라는 것을 알리기"
   ]
  },
  {
   "cell_type": "code",
   "execution_count": 40,
   "id": "3bf80095-63f4-4ecf-8a55-cbf01db94089",
   "metadata": {},
   "outputs": [],
   "source": [
    "a = '''\n",
    "여기는 문자열입니다\n",
    "엔터를 쳐서 여러 줄을 작성할 수 있습니다\n",
    "'''"
   ]
  },
  {
   "cell_type": "code",
   "execution_count": 42,
   "id": "855d1495-c427-4413-9ff4-819b7c6a5694",
   "metadata": {},
   "outputs": [
    {
     "name": "stdout",
     "output_type": "stream",
     "text": [
      "\n",
      "여기는 문자열입니다\n",
      "엔터를 쳐서 여러 줄을 작성할 수 있습니다\n",
      "\n"
     ]
    }
   ],
   "source": [
    "print(a)"
   ]
  },
  {
   "cell_type": "code",
   "execution_count": 44,
   "id": "83301b01-faad-4ded-b514-2c832bb968ae",
   "metadata": {},
   "outputs": [
    {
     "name": "stdout",
     "output_type": "stream",
     "text": [
      "엔터를 입력해봐요 \n",
      "다음줄입니다. \t들여쓰기도 가능합니다.\n"
     ]
    }
   ],
   "source": [
    "print('엔터를 입력해봐요 \\n다음줄입니다. \\t들여쓰기도 가능합니다.')"
   ]
  },
  {
   "cell_type": "markdown",
   "id": "69789222-4e4b-4b1f-87d5-81dcb0320da5",
   "metadata": {},
   "source": [
    "`\\n`은 다음줄로 이동, `\\t`는 tab 기능"
   ]
  },
  {
   "cell_type": "code",
   "execution_count": 46,
   "id": "07cb4997-c489-49d5-8fa3-5729173b7505",
   "metadata": {},
   "outputs": [
    {
     "name": "stdout",
     "output_type": "stream",
     "text": [
      "하나 둘 셋!"
     ]
    }
   ],
   "source": [
    "print('하나', '둘', '셋', end='!')"
   ]
  },
  {
   "cell_type": "code",
   "execution_count": 52,
   "id": "1c204808-a18f-4751-8bb7-0fc1fe3cda2e",
   "metadata": {},
   "outputs": [
    {
     "name": "stdout",
     "output_type": "stream",
     "text": [
      "하나!둘!셋\n"
     ]
    }
   ],
   "source": [
    "print('하나', '둘', '셋', sep='!')"
   ]
  },
  {
   "cell_type": "markdown",
   "id": "5544629f-9dc3-47d8-89e9-3e567d92b2d5",
   "metadata": {},
   "source": [
    "### String interpolation\n",
    "\n",
    "1. %-formatting\n",
    "2. str.format()\n",
    "3. f-string"
   ]
  },
  {
   "cell_type": "code",
   "execution_count": 48,
   "id": "53e0e44e-580a-4c07-8a1f-34ded62d781b",
   "metadata": {},
   "outputs": [],
   "source": [
    "age = 20"
   ]
  },
  {
   "cell_type": "code",
   "execution_count": 49,
   "id": "26ead45a-6890-4cf8-b7dd-02e4484a1df8",
   "metadata": {},
   "outputs": [
    {
     "name": "stdout",
     "output_type": "stream",
     "text": [
      "20\n"
     ]
    }
   ],
   "source": [
    "print(age)"
   ]
  },
  {
   "cell_type": "code",
   "execution_count": 54,
   "id": "135b7c11-e859-4f95-8d73-d79807bbefb1",
   "metadata": {},
   "outputs": [
    {
     "name": "stdout",
     "output_type": "stream",
     "text": [
      "홍길동은 20 살입니다.\n"
     ]
    }
   ],
   "source": [
    "print('홍길동은 %s 살입니다.' % age)"
   ]
  },
  {
   "cell_type": "code",
   "execution_count": 57,
   "id": "d7e50353-6a8a-4d2e-9b4f-ce5b7c896ff6",
   "metadata": {},
   "outputs": [
    {
     "name": "stdout",
     "output_type": "stream",
     "text": [
      "홍길동은 20살입니다.\n"
     ]
    }
   ],
   "source": [
    "print('홍길동은 {}살입니다.' .format(age))"
   ]
  },
  {
   "cell_type": "code",
   "execution_count": 59,
   "id": "89e75548-a70c-4ffa-a686-a9fb3ad7867b",
   "metadata": {},
   "outputs": [
    {
     "name": "stdout",
     "output_type": "stream",
     "text": [
      "홍길동은 20살입니다.\n"
     ]
    }
   ],
   "source": [
    "print(f'홍길동은 {age}살입니다.')"
   ]
  }
 ],
 "metadata": {
  "kernelspec": {
   "display_name": "Python 3 (ipykernel)",
   "language": "python",
   "name": "python3"
  },
  "language_info": {
   "codemirror_mode": {
    "name": "ipython",
    "version": 3
   },
   "file_extension": ".py",
   "mimetype": "text/x-python",
   "name": "python",
   "nbconvert_exporter": "python",
   "pygments_lexer": "ipython3",
   "version": "3.11.4"
  }
 },
 "nbformat": 4,
 "nbformat_minor": 5
}
