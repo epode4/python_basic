{
 "cells": [
  {
   "cell_type": "markdown",
   "id": "e081467e-5e2f-4c4d-bfc9-816b1b8e6f4e",
   "metadata": {},
   "source": [
    "# 01. Intro\n",
    "\n",
    "## 단축키\n",
    "\n",
    "- ctrl + enter :  지금 cell 실행\n",
    "- shift + enter : 지금 cell 실행 & 아래로 이동\n",
    "- alt + enter : 지금 cell 실행 & 아래에 새로운 cell 추가\n",
    "\n",
    "## 주의사항\n",
    "\n",
    "1. Apple / apple 주의 (대소문자)\n",
    "2. git add . / git add. 주의 (띄어쓰기)\n",
    "3. message / massage 주의 (철자)"
   ]
  },
  {
   "cell_type": "code",
   "execution_count": 5,
   "id": "4e7787c9-9125-4bab-973a-2e6d2cd67270",
   "metadata": {},
   "outputs": [],
   "source": [
    "# 주석을 나타냅니다. (Ctrl + slash)"
   ]
  },
  {
   "cell_type": "markdown",
   "id": "3d998c7b-441f-4f16-93d1-eb67e8704572",
   "metadata": {},
   "source": [
    "esc + m : markdown으로 변환"
   ]
  },
  {
   "cell_type": "markdown",
   "id": "de4fbe2f-9add-4ac3-9075-f2daf1be16ea",
   "metadata": {},
   "source": [
    "# 1. 변수\n",
    "\n",
    "변수이름 = 값 (할당)\n",
    "\n",
    "- 변수이름은 어떤 이름이든 상관 없음\n",
    "- 다만 영어, 숫자, _를 이용하여 선언\n",
    "- 키워드는 사용 불가"
   ]
  },
  {
   "cell_type": "code",
   "execution_count": 7,
   "id": "34135c71-9072-4e64-8d20-c94cd647f5c2",
   "metadata": {},
   "outputs": [],
   "source": [
    "a = 10"
   ]
  },
  {
   "cell_type": "code",
   "execution_count": 8,
   "id": "d6e68c64-9195-4fb2-ab11-c847328cc5bb",
   "metadata": {},
   "outputs": [
    {
     "data": {
      "text/plain": [
       "10"
      ]
     },
     "execution_count": 8,
     "metadata": {},
     "output_type": "execute_result"
    }
   ],
   "source": [
    "a"
   ]
  },
  {
   "cell_type": "code",
   "execution_count": 9,
   "id": "f230eed2-8601-4099-b7c1-57f5a06e8432",
   "metadata": {},
   "outputs": [
    {
     "data": {
      "text/plain": [
       "['False',\n",
       " 'None',\n",
       " 'True',\n",
       " 'and',\n",
       " 'as',\n",
       " 'assert',\n",
       " 'async',\n",
       " 'await',\n",
       " 'break',\n",
       " 'class',\n",
       " 'continue',\n",
       " 'def',\n",
       " 'del',\n",
       " 'elif',\n",
       " 'else',\n",
       " 'except',\n",
       " 'finally',\n",
       " 'for',\n",
       " 'from',\n",
       " 'global',\n",
       " 'if',\n",
       " 'import',\n",
       " 'in',\n",
       " 'is',\n",
       " 'lambda',\n",
       " 'nonlocal',\n",
       " 'not',\n",
       " 'or',\n",
       " 'pass',\n",
       " 'raise',\n",
       " 'return',\n",
       " 'try',\n",
       " 'while',\n",
       " 'with',\n",
       " 'yield']"
      ]
     },
     "execution_count": 9,
     "metadata": {},
     "output_type": "execute_result"
    }
   ],
   "source": [
    "import keyword \n",
    "keyword.kwlist"
   ]
  },
  {
   "cell_type": "markdown",
   "id": "d94330ec-acf6-40fa-a34a-adbd11b27b8d",
   "metadata": {},
   "source": [
    "### 1.1. number"
   ]
  },
  {
   "cell_type": "code",
   "execution_count": 10,
   "id": "2d938922-3738-4b8c-9f09-f17a4e02bac5",
   "metadata": {},
   "outputs": [],
   "source": [
    "a = 1000000"
   ]
  },
  {
   "cell_type": "code",
   "execution_count": 11,
   "id": "3033dfee-adb7-4104-840c-4361659e8820",
   "metadata": {},
   "outputs": [
    {
     "data": {
      "text/plain": [
       "1000000"
      ]
     },
     "execution_count": 11,
     "metadata": {},
     "output_type": "execute_result"
    }
   ],
   "source": [
    "a"
   ]
  },
  {
   "cell_type": "markdown",
   "id": "ec57c949-ceac-45d2-a0c8-aba1c7431a89",
   "metadata": {},
   "source": [
    "- 숫자에는 정수 형태가 기본적으로 들어감"
   ]
  },
  {
   "cell_type": "code",
   "execution_count": 12,
   "id": "e54be568-10af-4312-93e0-03c2544e8abd",
   "metadata": {},
   "outputs": [
    {
     "data": {
      "text/plain": [
       "int"
      ]
     },
     "execution_count": 12,
     "metadata": {},
     "output_type": "execute_result"
    }
   ],
   "source": [
    "type(a)"
   ]
  },
  {
   "cell_type": "code",
   "execution_count": 13,
   "id": "ed2ba829-1cfc-4c67-986e-197797ec4ec3",
   "metadata": {},
   "outputs": [],
   "source": [
    "b = 1.1"
   ]
  },
  {
   "cell_type": "code",
   "execution_count": 14,
   "id": "6a8d7062-54b4-4549-b4c1-c3893901481e",
   "metadata": {},
   "outputs": [
    {
     "data": {
      "text/plain": [
       "1.1"
      ]
     },
     "execution_count": 14,
     "metadata": {},
     "output_type": "execute_result"
    }
   ],
   "source": [
    "b"
   ]
  },
  {
   "cell_type": "code",
   "execution_count": 16,
   "id": "ffd0c808-d291-4086-a40f-522f46634939",
   "metadata": {},
   "outputs": [
    {
     "data": {
      "text/plain": [
       "float"
      ]
     },
     "execution_count": 16,
     "metadata": {},
     "output_type": "execute_result"
    }
   ],
   "source": [
    "type(b)"
   ]
  },
  {
   "cell_type": "code",
   "execution_count": 17,
   "id": "86bfaf48-3ab2-417a-8390-ce394e05cfd1",
   "metadata": {},
   "outputs": [],
   "source": [
    "c = 1 - 4j"
   ]
  },
  {
   "cell_type": "code",
   "execution_count": 18,
   "id": "069142f6-2205-44c0-89bc-f42c24e86852",
   "metadata": {},
   "outputs": [
    {
     "data": {
      "text/plain": [
       "(1-4j)"
      ]
     },
     "execution_count": 18,
     "metadata": {},
     "output_type": "execute_result"
    }
   ],
   "source": [
    "c"
   ]
  },
  {
   "cell_type": "code",
   "execution_count": 19,
   "id": "b18ee872-9060-4bf4-9602-833ce7d559ea",
   "metadata": {},
   "outputs": [
    {
     "data": {
      "text/plain": [
       "complex"
      ]
     },
     "execution_count": 19,
     "metadata": {},
     "output_type": "execute_result"
    }
   ],
   "source": [
    "type(c)"
   ]
  },
  {
   "cell_type": "markdown",
   "id": "aacd1621-8921-4902-a9ac-e212cad6692e",
   "metadata": {},
   "source": [
    "- int = 정수, float =  소수, complex = 복소수"
   ]
  },
  {
   "cell_type": "code",
   "execution_count": 22,
   "id": "a25494f8-175a-48b6-a7e0-44fd77cbf9c4",
   "metadata": {},
   "outputs": [
    {
     "data": {
      "text/plain": [
       "-4.0"
      ]
     },
     "execution_count": 22,
     "metadata": {},
     "output_type": "execute_result"
    }
   ],
   "source": [
    "c.imag"
   ]
  },
  {
   "cell_type": "code",
   "execution_count": 23,
   "id": "7a918f0b-fe51-4ec6-a790-74d7f7b34d97",
   "metadata": {},
   "outputs": [
    {
     "data": {
      "text/plain": [
       "1.0"
      ]
     },
     "execution_count": 23,
     "metadata": {},
     "output_type": "execute_result"
    }
   ],
   "source": [
    "c.real"
   ]
  },
  {
   "cell_type": "markdown",
   "id": "6cd694fd-fc60-45e9-986b-f9f9d38a07e6",
   "metadata": {},
   "source": [
    "### 1.2 Boolean\n",
    "\n",
    "True, False로 이루어진 type"
   ]
  },
  {
   "cell_type": "code",
   "execution_count": 24,
   "id": "e6f8aec8-31e8-4cd1-924b-53238135fc2e",
   "metadata": {},
   "outputs": [],
   "source": [
    "a = True"
   ]
  },
  {
   "cell_type": "code",
   "execution_count": 25,
   "id": "c55c444b-b5ef-49a1-b37f-71fd8c152285",
   "metadata": {},
   "outputs": [
    {
     "data": {
      "text/plain": [
       "bool"
      ]
     },
     "execution_count": 25,
     "metadata": {},
     "output_type": "execute_result"
    }
   ],
   "source": [
    "type(a)"
   ]
  },
  {
   "cell_type": "code",
   "execution_count": 26,
   "id": "ac5a3095-4569-4198-9033-b4d99df809ed",
   "metadata": {},
   "outputs": [],
   "source": [
    "b = False"
   ]
  },
  {
   "cell_type": "code",
   "execution_count": 27,
   "id": "f7a0f12b-0c35-472e-b113-2a4d950e6ab8",
   "metadata": {},
   "outputs": [
    {
     "data": {
      "text/plain": [
       "bool"
      ]
     },
     "execution_count": 27,
     "metadata": {},
     "output_type": "execute_result"
    }
   ],
   "source": [
    "type(b)"
   ]
  },
  {
   "cell_type": "code",
   "execution_count": 28,
   "id": "6e068f6c-12ba-49a2-bf4a-5cdc81a07631",
   "metadata": {},
   "outputs": [
    {
     "data": {
      "text/plain": [
       "False"
      ]
     },
     "execution_count": 28,
     "metadata": {},
     "output_type": "execute_result"
    }
   ],
   "source": [
    "bool(0)"
   ]
  },
  {
   "cell_type": "code",
   "execution_count": 29,
   "id": "9b1ad475-8d36-43e6-a0bc-5a2c2fa3fb6c",
   "metadata": {},
   "outputs": [
    {
     "data": {
      "text/plain": [
       "True"
      ]
     },
     "execution_count": 29,
     "metadata": {},
     "output_type": "execute_result"
    }
   ],
   "source": [
    "bool(1)"
   ]
  },
  {
   "cell_type": "markdown",
   "id": "1350683a-ea8f-4432-8377-06e09099875d",
   "metadata": {},
   "source": [
    "- bool() = True, False인지 확인해주는 함수"
   ]
  },
  {
   "cell_type": "markdown",
   "id": "9b99c25a-4775-42fa-8580-69e4203d792c",
   "metadata": {},
   "source": [
    "### 1.3 None"
   ]
  },
  {
   "cell_type": "code",
   "execution_count": 30,
   "id": "25b2147b-3498-4eb0-bcdb-b223c14cec18",
   "metadata": {},
   "outputs": [],
   "source": [
    "a = None"
   ]
  },
  {
   "cell_type": "code",
   "execution_count": 31,
   "id": "6599e7ed-082c-4ea0-a61a-adb30e7b057b",
   "metadata": {},
   "outputs": [
    {
     "data": {
      "text/plain": [
       "NoneType"
      ]
     },
     "execution_count": 31,
     "metadata": {},
     "output_type": "execute_result"
    }
   ],
   "source": [
    "type(a)"
   ]
  },
  {
   "cell_type": "markdown",
   "id": "4b35faf8-4949-4fdd-8150-e7e8b7b0e921",
   "metadata": {},
   "source": [
    "- Nonetype = 값이 아무것도 들어있지 않다"
   ]
  },
  {
   "cell_type": "markdown",
   "id": "436e126e-acd9-4eae-9afd-a4a162ff4b27",
   "metadata": {},
   "source": [
    "### 1.4 String\n",
    "\n",
    "- 문자열은 `'` `\"`를 이용하여 표현"
   ]
  },
  {
   "cell_type": "code",
   "execution_count": 32,
   "id": "94672fff-dbc2-4e74-b444-f50de7004252",
   "metadata": {},
   "outputs": [],
   "source": [
    "a = 'hello'"
   ]
  },
  {
   "cell_type": "code",
   "execution_count": 33,
   "id": "ac25d681-a855-4e67-8d45-b8e578a6847c",
   "metadata": {},
   "outputs": [
    {
     "data": {
      "text/plain": [
       "str"
      ]
     },
     "execution_count": 33,
     "metadata": {},
     "output_type": "execute_result"
    }
   ],
   "source": [
    "type(a)"
   ]
  },
  {
   "cell_type": "markdown",
   "id": "46985bf2-0298-4c62-aa7f-d80389ff1a97",
   "metadata": {},
   "source": [
    "- `'` `\"` 둘 중에 무엇을 사용하든 상관없지만 일관되게 하나만 사용하기"
   ]
  },
  {
   "cell_type": "code",
   "execution_count": 35,
   "id": "b26fd872-59a8-4839-8f73-14c72e935f19",
   "metadata": {},
   "outputs": [
    {
     "name": "stdin",
     "output_type": "stream",
     "text": [
      " 22\n"
     ]
    },
    {
     "name": "stdout",
     "output_type": "stream",
     "text": [
      "22\n",
      "<class 'str'>\n"
     ]
    }
   ],
   "source": [
    "age = input()\n",
    "print(age)\n",
    "print(type(age))"
   ]
  },
  {
   "cell_type": "markdown",
   "id": "45296182-d1d9-4e0a-9e23-d25e658ed129",
   "metadata": {},
   "source": [
    "- 어떤 값을 넣든지 문자열로 인식됨 "
   ]
  },
  {
   "cell_type": "code",
   "execution_count": 36,
   "id": "9cb33b60-01b9-4d70-be1c-74c61efa1ad1",
   "metadata": {},
   "outputs": [
    {
     "ename": "SyntaxError",
     "evalue": "invalid syntax. Perhaps you forgot a comma? (2754287516.py, line 1)",
     "output_type": "error",
     "traceback": [
      "\u001b[1;36m  Cell \u001b[1;32mIn[36], line 1\u001b[1;36m\u001b[0m\n\u001b[1;33m    print('안녕하세요 '최세인'입니다')\u001b[0m\n\u001b[1;37m          ^\u001b[0m\n\u001b[1;31mSyntaxError\u001b[0m\u001b[1;31m:\u001b[0m invalid syntax. Perhaps you forgot a comma?\n"
     ]
    }
   ],
   "source": [
    "print('안녕하세요 '최세인'입니다')"
   ]
  },
  {
   "cell_type": "code",
   "execution_count": 37,
   "id": "4bc7d175-5572-4774-a42e-ef36984f8a42",
   "metadata": {},
   "outputs": [
    {
     "name": "stdout",
     "output_type": "stream",
     "text": [
      "안녕하세요 '최세인'입니다\n"
     ]
    }
   ],
   "source": [
    "print(\"안녕하세요 '최세인'입니다\")"
   ]
  },
  {
   "cell_type": "markdown",
   "id": "3791bcbb-dc05-4111-aef3-820830b9387d",
   "metadata": {},
   "source": [
    "- 따옴표를 사용하고 싶으면 홑따옴표와 쌍따옴표를 복합적으로 사용해야 함"
   ]
  },
  {
   "cell_type": "code",
   "execution_count": 38,
   "id": "ec2596c3-a514-4b73-bd0a-f446ff4e4ff7",
   "metadata": {},
   "outputs": [
    {
     "name": "stdout",
     "output_type": "stream",
     "text": [
      "안녕하세요 '최세인'입니다\n"
     ]
    }
   ],
   "source": [
    "print('안녕하세요 \\'최세인\\'입니다')"
   ]
  },
  {
   "cell_type": "markdown",
   "id": "e3b88c1d-70a5-472f-95a0-80bf91b2d495",
   "metadata": {},
   "source": [
    "- 혹은 역슬래쉬(escape)를 사용해서 뒤에 나오는 홑따옴표가 문자열에 사용되는 홑따옴표라는 것을 알리기"
   ]
  },
  {
   "cell_type": "code",
   "execution_count": 40,
   "id": "3bf80095-63f4-4ecf-8a55-cbf01db94089",
   "metadata": {},
   "outputs": [],
   "source": [
    "a = '''\n",
    "여기는 문자열입니다\n",
    "엔터를 쳐서 여러 줄을 작성할 수 있습니다\n",
    "'''"
   ]
  },
  {
   "cell_type": "code",
   "execution_count": 42,
   "id": "855d1495-c427-4413-9ff4-819b7c6a5694",
   "metadata": {},
   "outputs": [
    {
     "name": "stdout",
     "output_type": "stream",
     "text": [
      "\n",
      "여기는 문자열입니다\n",
      "엔터를 쳐서 여러 줄을 작성할 수 있습니다\n",
      "\n"
     ]
    }
   ],
   "source": [
    "print(a)"
   ]
  },
  {
   "cell_type": "code",
   "execution_count": 44,
   "id": "83301b01-faad-4ded-b514-2c832bb968ae",
   "metadata": {},
   "outputs": [
    {
     "name": "stdout",
     "output_type": "stream",
     "text": [
      "엔터를 입력해봐요 \n",
      "다음줄입니다. \t들여쓰기도 가능합니다.\n"
     ]
    }
   ],
   "source": [
    "print('엔터를 입력해봐요 \\n다음줄입니다. \\t들여쓰기도 가능합니다.')"
   ]
  },
  {
   "cell_type": "markdown",
   "id": "69789222-4e4b-4b1f-87d5-81dcb0320da5",
   "metadata": {},
   "source": [
    "- `\\n`은 다음줄로 이동, `\\t`는 tab 기능"
   ]
  },
  {
   "cell_type": "code",
   "execution_count": 46,
   "id": "07cb4997-c489-49d5-8fa3-5729173b7505",
   "metadata": {},
   "outputs": [
    {
     "name": "stdout",
     "output_type": "stream",
     "text": [
      "하나 둘 셋!"
     ]
    }
   ],
   "source": [
    "print('하나', '둘', '셋', end='!')"
   ]
  },
  {
   "cell_type": "code",
   "execution_count": 52,
   "id": "1c204808-a18f-4751-8bb7-0fc1fe3cda2e",
   "metadata": {},
   "outputs": [
    {
     "name": "stdout",
     "output_type": "stream",
     "text": [
      "하나!둘!셋\n"
     ]
    }
   ],
   "source": [
    "print('하나', '둘', '셋', sep='!')"
   ]
  },
  {
   "cell_type": "markdown",
   "id": "5544629f-9dc3-47d8-89e9-3e567d92b2d5",
   "metadata": {},
   "source": [
    "### String interpolation\n",
    "\n",
    "1. %-formatting\n",
    "2. str.format()\n",
    "3. f-string"
   ]
  },
  {
   "cell_type": "code",
   "execution_count": 48,
   "id": "53e0e44e-580a-4c07-8a1f-34ded62d781b",
   "metadata": {},
   "outputs": [],
   "source": [
    "age = 20"
   ]
  },
  {
   "cell_type": "code",
   "execution_count": 49,
   "id": "26ead45a-6890-4cf8-b7dd-02e4484a1df8",
   "metadata": {},
   "outputs": [
    {
     "name": "stdout",
     "output_type": "stream",
     "text": [
      "20\n"
     ]
    }
   ],
   "source": [
    "print(age)"
   ]
  },
  {
   "cell_type": "code",
   "execution_count": 54,
   "id": "135b7c11-e859-4f95-8d73-d79807bbefb1",
   "metadata": {},
   "outputs": [
    {
     "name": "stdout",
     "output_type": "stream",
     "text": [
      "홍길동은 20 살입니다.\n"
     ]
    }
   ],
   "source": [
    "print('홍길동은 %s 살입니다.' % age)"
   ]
  },
  {
   "cell_type": "code",
   "execution_count": 57,
   "id": "d7e50353-6a8a-4d2e-9b4f-ce5b7c896ff6",
   "metadata": {},
   "outputs": [
    {
     "name": "stdout",
     "output_type": "stream",
     "text": [
      "홍길동은 20살입니다.\n"
     ]
    }
   ],
   "source": [
    "print('홍길동은 {}살입니다.' .format(age))"
   ]
  },
  {
   "cell_type": "code",
   "execution_count": 59,
   "id": "89e75548-a70c-4ffa-a686-a9fb3ad7867b",
   "metadata": {},
   "outputs": [
    {
     "name": "stdout",
     "output_type": "stream",
     "text": [
      "홍길동은 20살입니다.\n"
     ]
    }
   ],
   "source": [
    "print(f'홍길동은 {age}살입니다.')"
   ]
  },
  {
   "cell_type": "markdown",
   "id": "0e62262a-8299-4718-92c9-ede884f996b3",
   "metadata": {},
   "source": [
    "## 2. 연산자\n",
    "\n",
    "### 2.1 산술연산자"
   ]
  },
  {
   "cell_type": "code",
   "execution_count": 63,
   "id": "c10ef579-af3a-4b5e-8d11-4ea806d1677f",
   "metadata": {},
   "outputs": [],
   "source": [
    "a = 2\n",
    "b = 3"
   ]
  },
  {
   "cell_type": "code",
   "execution_count": 64,
   "id": "e1ac7fd6-ee2e-44b0-a8ea-8c19a102de44",
   "metadata": {},
   "outputs": [
    {
     "name": "stdout",
     "output_type": "stream",
     "text": [
      "5\n",
      "-1\n",
      "6\n",
      "0.6666666666666666\n",
      "8\n"
     ]
    }
   ],
   "source": [
    "print(a + b)\n",
    "print(a - b)\n",
    "print(a * b)\n",
    "print(a / b)\n",
    "print(a ** b)"
   ]
  },
  {
   "cell_type": "code",
   "execution_count": 67,
   "id": "cceab6bf-e273-404b-baa5-8863cd25e162",
   "metadata": {},
   "outputs": [
    {
     "name": "stdout",
     "output_type": "stream",
     "text": [
      "0\n",
      "2\n",
      "(0, 2)\n"
     ]
    }
   ],
   "source": [
    "# a를 b로 나눈 몫 출력\n",
    "print(a//b) \n",
    "# a를 b로 나누고 나머지 출력\n",
    "print(a%b)\n",
    "# a를 b로 나눈 몫과 나머지 같이 출력\n",
    "print(divmod(a,b))"
   ]
  },
  {
   "cell_type": "markdown",
   "id": "f8c56794-7694-4012-a781-9fdd3108af43",
   "metadata": {},
   "source": [
    "### 2.2 비교연산자"
   ]
  },
  {
   "cell_type": "code",
   "execution_count": 68,
   "id": "0f28f0d7-3a82-414b-beb2-f6a43e68ccec",
   "metadata": {},
   "outputs": [],
   "source": [
    "a = 5\n",
    "b = 10"
   ]
  },
  {
   "cell_type": "code",
   "execution_count": 69,
   "id": "454190ec-36c6-41a2-817d-06b5631f6528",
   "metadata": {},
   "outputs": [
    {
     "name": "stdout",
     "output_type": "stream",
     "text": [
      "False\n",
      "True\n",
      "False\n",
      "True\n"
     ]
    }
   ],
   "source": [
    "print(a > b)\n",
    "print(a < b)\n",
    "print(a >= b)\n",
    "print(a <= b)"
   ]
  },
  {
   "cell_type": "code",
   "execution_count": 70,
   "id": "51921ba8-e808-4cd8-84c9-4de35aadfc3a",
   "metadata": {},
   "outputs": [
    {
     "name": "stdout",
     "output_type": "stream",
     "text": [
      "False\n",
      "True\n"
     ]
    }
   ],
   "source": [
    "print(a == b)\n",
    "print(a != b)"
   ]
  },
  {
   "cell_type": "code",
   "execution_count": 72,
   "id": "354a8897-5ab0-419d-b2ba-06556e1fad9d",
   "metadata": {},
   "outputs": [
    {
     "name": "stdout",
     "output_type": "stream",
     "text": [
      "True\n",
      "False\n"
     ]
    }
   ],
   "source": [
    "print('hi' == 'hi')\n",
    "print('HI' == 'hi')"
   ]
  },
  {
   "cell_type": "markdown",
   "id": "3c68e268-1a18-4f09-bc9c-fa4e00dd6a24",
   "metadata": {},
   "source": [
    "- `==` : 숫자뿐만 아니라 문자도 비교 가능"
   ]
  },
  {
   "cell_type": "markdown",
   "id": "08ec3704-1364-482d-8645-97a0320d3781",
   "metadata": {},
   "source": [
    "### 2.3 논리연산자\n",
    "\n",
    "- and : 양쪽 모두 True일 때 , True를 반환\n",
    "- or : 양쪽 모두 False일 때, Fal를 반환\n",
    "- not : 값을 반대로 전환"
   ]
  },
  {
   "cell_type": "code",
   "execution_count": 75,
   "id": "30dc3af4-3e9d-44fd-8934-864f4edfb4f8",
   "metadata": {},
   "outputs": [
    {
     "name": "stdout",
     "output_type": "stream",
     "text": [
      "True\n",
      "False\n",
      "False\n",
      "False\n"
     ]
    }
   ],
   "source": [
    "print(True and True)\n",
    "print(True and False)\n",
    "print(False and True)\n",
    "print(False and False)"
   ]
  },
  {
   "cell_type": "code",
   "execution_count": 76,
   "id": "3683edd7-94af-428d-b031-72ca9575b35b",
   "metadata": {},
   "outputs": [
    {
     "name": "stdout",
     "output_type": "stream",
     "text": [
      "True\n",
      "True\n",
      "True\n",
      "False\n"
     ]
    }
   ],
   "source": [
    "print(True or True)\n",
    "print(True or False)\n",
    "print(False or True)\n",
    "print(False or False)"
   ]
  },
  {
   "cell_type": "code",
   "execution_count": 77,
   "id": "e772df78-b28d-44ac-bb2b-ae1c1f41edab",
   "metadata": {},
   "outputs": [
    {
     "name": "stdout",
     "output_type": "stream",
     "text": [
      "True\n",
      "False\n"
     ]
    }
   ],
   "source": [
    "print(True)\n",
    "print(not True)"
   ]
  },
  {
   "cell_type": "code",
   "execution_count": 78,
   "id": "d45b8636-2ef5-4f0a-8deb-e38b605d3cb9",
   "metadata": {
    "scrolled": true
   },
   "outputs": [
    {
     "name": "stdout",
     "output_type": "stream",
     "text": [
      "5\n",
      "0\n",
      "0\n",
      "0\n"
     ]
    }
   ],
   "source": [
    "# 단축평가\n",
    "print(3 and 5)\n",
    "print(3 and 0)\n",
    "print(0 and 5)\n",
    "print(0 and 0)"
   ]
  },
  {
   "cell_type": "markdown",
   "id": "1a965e06-0f0c-4ae0-bb20-9db272b747cc",
   "metadata": {},
   "source": [
    "- 앞이 True이면 뒤에 있는 값이 True, False이든 그냥 뒤에 있는 값을 출력\n",
    "- 앞이 Fasle이면 바로 앞에 있는 값을 출력"
   ]
  },
  {
   "cell_type": "code",
   "execution_count": 79,
   "id": "cb43cd91-3503-4fab-b039-b9ff42a16c9d",
   "metadata": {},
   "outputs": [
    {
     "name": "stdout",
     "output_type": "stream",
     "text": [
      "3\n",
      "3\n",
      "5\n",
      "0\n"
     ]
    }
   ],
   "source": [
    "# 단축평가\n",
    "print(3 or 5)\n",
    "print(3 or 0)\n",
    "print(0 or 5)\n",
    "print(0 or 0)"
   ]
  },
  {
   "cell_type": "markdown",
   "id": "876d7b89-709d-463f-8fed-aed0053e628a",
   "metadata": {},
   "source": [
    "- 앞에 있는 값이 False면 바로 뒤에 있는 값 출력\n",
    "- 앞에 있는 값이 True면 바로 앞에 있는 값 출력"
   ]
  },
  {
   "cell_type": "markdown",
   "id": "89610cdd-387d-4e88-995f-f9b53659d065",
   "metadata": {},
   "source": [
    "### 2.3 복합연산자"
   ]
  },
  {
   "cell_type": "code",
   "execution_count": 88,
   "id": "a8c0ab82-729e-4170-8869-2b734a2b365f",
   "metadata": {},
   "outputs": [],
   "source": [
    "a = 1\n",
    "b = 2"
   ]
  },
  {
   "cell_type": "code",
   "execution_count": 89,
   "id": "3cc716a9-9399-4f36-a740-4715fd9f7db2",
   "metadata": {},
   "outputs": [],
   "source": [
    "a = a + b\n",
    "a = a - b\n",
    "a = a * b\n",
    "a = a / b\n",
    "a = a ** b"
   ]
  },
  {
   "cell_type": "code",
   "execution_count": 87,
   "id": "25c1e7fc-0694-4de6-a0ec-54bd8ef40890",
   "metadata": {},
   "outputs": [],
   "source": [
    "# a에 1을 더하고 바로 할당하기\n",
    "a += 1"
   ]
  },
  {
   "cell_type": "code",
   "execution_count": 91,
   "id": "9ad12b3d-a525-4006-ae29-26c047db07bd",
   "metadata": {},
   "outputs": [],
   "source": [
    "a += b\n",
    "a -= b\n",
    "a *= b\n",
    "a /= b\n",
    "a **= b"
   ]
  },
  {
   "cell_type": "markdown",
   "id": "6e5e4ff2-b67d-448b-b3dc-573481021f7e",
   "metadata": {},
   "source": [
    "### 2.4 기타연산자"
   ]
  },
  {
   "cell_type": "code",
   "execution_count": 92,
   "id": "3d21d226-802f-42f1-8cf0-70e43e83a912",
   "metadata": {},
   "outputs": [],
   "source": [
    "a = 'hi'\n",
    "b = 'hello'"
   ]
  },
  {
   "cell_type": "code",
   "execution_count": 96,
   "id": "34d4cc27-1df2-47a4-9c7c-0458e3eaaa24",
   "metadata": {},
   "outputs": [
    {
     "data": {
      "text/plain": [
       "[1, 2, 3, 4, 5, 6]"
      ]
     },
     "execution_count": 96,
     "metadata": {},
     "output_type": "execute_result"
    }
   ],
   "source": [
    "# concatenation(연결)\n",
    "a + b"
   ]
  },
  {
   "cell_type": "code",
   "execution_count": 94,
   "id": "3a2827b2-5d68-4adb-9751-382f16908615",
   "metadata": {},
   "outputs": [],
   "source": [
    "a = [1, 2, 3]\n",
    "b = [4, 5, 6]"
   ]
  },
  {
   "cell_type": "code",
   "execution_count": 97,
   "id": "8a3d6434-bcfb-43af-929f-213b44e32173",
   "metadata": {},
   "outputs": [
    {
     "data": {
      "text/plain": [
       "[1, 2, 3, 4, 5, 6]"
      ]
     },
     "execution_count": 97,
     "metadata": {},
     "output_type": "execute_result"
    }
   ],
   "source": [
    "# concatenation(연결)\n",
    "a+b"
   ]
  },
  {
   "cell_type": "code",
   "execution_count": 99,
   "id": "5ea61bfe-c576-41bd-89fa-63ce20d394e0",
   "metadata": {},
   "outputs": [
    {
     "name": "stdout",
     "output_type": "stream",
     "text": [
      "True\n",
      "False\n"
     ]
    }
   ],
   "source": [
    "# containment\n",
    "print('a' in 'apple')\n",
    "print('z' in 'apple')"
   ]
  },
  {
   "cell_type": "code",
   "execution_count": 100,
   "id": "bf432b6e-72d4-41d2-a04e-41d8eac12e8a",
   "metadata": {},
   "outputs": [
    {
     "name": "stdout",
     "output_type": "stream",
     "text": [
      "True\n",
      "False\n"
     ]
    }
   ],
   "source": [
    "print(1 in [1,2,3])\n",
    "print(10 in [1,2,3])"
   ]
  },
  {
   "cell_type": "code",
   "execution_count": 101,
   "id": "9baa8962-f356-4979-8851-4e537201ad43",
   "metadata": {},
   "outputs": [
    {
     "name": "stdout",
     "output_type": "stream",
     "text": [
      "True\n"
     ]
    }
   ],
   "source": [
    "# identity\n",
    "a = 1\n",
    "b = 1\n",
    "print(a is b)"
   ]
  },
  {
   "cell_type": "code",
   "execution_count": 103,
   "id": "534baba0-6d09-451e-949e-e30ffaff59a4",
   "metadata": {},
   "outputs": [
    {
     "name": "stdout",
     "output_type": "stream",
     "text": [
      "False\n"
     ]
    }
   ],
   "source": [
    "# identity\n",
    "a = 123123\n",
    "b = 123123\n",
    "print(a is b)"
   ]
  },
  {
   "cell_type": "markdown",
   "id": "d798771a-e808-4489-bc7d-cca264baf9ef",
   "metadata": {},
   "source": [
    "### 우선순위\n",
    "\n",
    "0. ()를 통해 그룹\n",
    "1. **\n",
    "2. 산술연산자(*, /)\n",
    "3. 산술연산자(+, -)\n",
    "4. 비교연산자, in, is\n",
    "5. not\n",
    "6. and\n",
    "7. or"
   ]
  },
  {
   "cell_type": "code",
   "execution_count": 105,
   "id": "ab369e0d-1459-4a85-863f-8949d041bff1",
   "metadata": {},
   "outputs": [
    {
     "name": "stdout",
     "output_type": "stream",
     "text": [
      "-81\n",
      "81\n"
     ]
    }
   ],
   "source": [
    "print(-3 ** 4)\n",
    "print((-3) ** 4)"
   ]
  },
  {
   "cell_type": "markdown",
   "id": "b5cb19f4-9d09-475b-9a12-f8830edb6ae8",
   "metadata": {},
   "source": [
    "## 3. 형변환\n",
    "### 3.1 암시적 형변환"
   ]
  },
  {
   "cell_type": "code",
   "execution_count": 110,
   "id": "1e842cb5-0d28-48a5-9f56-08d2a3923e74",
   "metadata": {},
   "outputs": [],
   "source": [
    "a = True\n",
    "b = False\n",
    "c = 1"
   ]
  },
  {
   "cell_type": "code",
   "execution_count": 111,
   "id": "3b83d46d-4288-4f63-8260-8789017e0c35",
   "metadata": {},
   "outputs": [
    {
     "name": "stdout",
     "output_type": "stream",
     "text": [
      "2\n",
      "1\n"
     ]
    }
   ],
   "source": [
    "print(a + c)\n",
    "print(b + c)"
   ]
  },
  {
   "cell_type": "markdown",
   "id": "29a5df31-cd00-4549-91aa-fbd311072116",
   "metadata": {},
   "source": [
    "- True의 숫자로의 형변환 값 : 1\n",
    "- False의 숫자로의 형변환 값 : 0"
   ]
  },
  {
   "cell_type": "code",
   "execution_count": 112,
   "id": "0079e0ab-09ad-4a4c-882c-e7188d7bb1be",
   "metadata": {},
   "outputs": [],
   "source": [
    "int_num = 3\n",
    "float_num = 3.3\n",
    "complex_num = 1 +3j"
   ]
  },
  {
   "cell_type": "code",
   "execution_count": 115,
   "id": "9e68ac1d-6567-4b73-a600-3e49cd68463a",
   "metadata": {},
   "outputs": [
    {
     "name": "stdout",
     "output_type": "stream",
     "text": [
      "6.3\n",
      "(4+3j)\n"
     ]
    }
   ],
   "source": [
    "print(int_num + float_num)\n",
    "print(int_num + complex_num)"
   ]
  },
  {
   "cell_type": "markdown",
   "id": "2ec65ce8-c3f4-4e79-be31-20ab9a351a1f",
   "metadata": {},
   "source": [
    "- 다른 type의 숫자끼리 더할 때 암시적으로 더 큰 범위의 숫자로 더해짐"
   ]
  },
  {
   "cell_type": "markdown",
   "id": "c26147ba-3145-423e-b455-c6e92e26cfce",
   "metadata": {},
   "source": [
    "### 3.2 명시적 형변환\n",
    "\n",
    "- int() : string, float를 int로 변환\n",
    "- float() : string, int를 float로 변화\n",
    "- str() : int, float 등을 string으로 변환\n",
    "- bool() : int, list 등을 boolean으로 변환"
   ]
  },
  {
   "cell_type": "code",
   "execution_count": 116,
   "id": "9512894a-2aad-4c18-9ddd-9b4263471828",
   "metadata": {},
   "outputs": [],
   "source": [
    "a = 1\n",
    "b = '번'"
   ]
  },
  {
   "cell_type": "code",
   "execution_count": 117,
   "id": "46e785b9-3da1-4c45-ac50-e841bcb7463e",
   "metadata": {},
   "outputs": [
    {
     "ename": "TypeError",
     "evalue": "unsupported operand type(s) for +: 'int' and 'str'",
     "output_type": "error",
     "traceback": [
      "\u001b[1;31m---------------------------------------------------------------------------\u001b[0m",
      "\u001b[1;31mTypeError\u001b[0m                                 Traceback (most recent call last)",
      "Cell \u001b[1;32mIn[117], line 1\u001b[0m\n\u001b[1;32m----> 1\u001b[0m \u001b[38;5;28mprint\u001b[39m(\u001b[43ma\u001b[49m\u001b[43m \u001b[49m\u001b[38;5;241;43m+\u001b[39;49m\u001b[43m \u001b[49m\u001b[43mb\u001b[49m)\n",
      "\u001b[1;31mTypeError\u001b[0m: unsupported operand type(s) for +: 'int' and 'str'"
     ]
    }
   ],
   "source": [
    "print(a + b)"
   ]
  },
  {
   "cell_type": "code",
   "execution_count": 118,
   "id": "fc0ea879-168e-4271-b9eb-34a1c09f485d",
   "metadata": {},
   "outputs": [
    {
     "name": "stdout",
     "output_type": "stream",
     "text": [
      "1번\n"
     ]
    }
   ],
   "source": [
    "print(str(a)+b)"
   ]
  },
  {
   "cell_type": "code",
   "execution_count": 119,
   "id": "1bdb5fd9-59cc-42b2-a241-cf5cfec92f97",
   "metadata": {},
   "outputs": [],
   "source": [
    "a = '3'"
   ]
  },
  {
   "cell_type": "code",
   "execution_count": 120,
   "id": "d34b3e38-75bb-444b-ac2a-beeee5328587",
   "metadata": {},
   "outputs": [
    {
     "data": {
      "text/plain": [
       "int"
      ]
     },
     "execution_count": 120,
     "metadata": {},
     "output_type": "execute_result"
    }
   ],
   "source": [
    "type(int(a))"
   ]
  },
  {
   "cell_type": "code",
   "execution_count": 122,
   "id": "a114637b-1a13-4c4a-a2bb-5265269152ae",
   "metadata": {},
   "outputs": [],
   "source": [
    "a = '3.3'"
   ]
  },
  {
   "cell_type": "code",
   "execution_count": 132,
   "id": "766a0b7c-303f-4e58-9329-8989a3974811",
   "metadata": {},
   "outputs": [
    {
     "data": {
      "text/plain": [
       "int"
      ]
     },
     "execution_count": 132,
     "metadata": {},
     "output_type": "execute_result"
    }
   ],
   "source": [
    "type(int(a))"
   ]
  },
  {
   "cell_type": "code",
   "execution_count": 190,
   "id": "329e4e1b-80df-4a5f-84a1-a177cabf39f5",
   "metadata": {},
   "outputs": [
    {
     "ename": "TypeError",
     "evalue": "float() argument must be a string or a real number, not 'range'",
     "output_type": "error",
     "traceback": [
      "\u001b[1;31m---------------------------------------------------------------------------\u001b[0m",
      "\u001b[1;31mTypeError\u001b[0m                                 Traceback (most recent call last)",
      "Cell \u001b[1;32mIn[190], line 1\u001b[0m\n\u001b[1;32m----> 1\u001b[0m \u001b[38;5;28mtype\u001b[39m(\u001b[38;5;28;43mfloat\u001b[39;49m\u001b[43m(\u001b[49m\u001b[43ma\u001b[49m\u001b[43m)\u001b[49m)\n",
      "\u001b[1;31mTypeError\u001b[0m: float() argument must be a string or a real number, not 'range'"
     ]
    }
   ],
   "source": [
    "type(float(a))"
   ]
  },
  {
   "cell_type": "code",
   "execution_count": 191,
   "id": "946160f3-ec17-46d2-8441-4e68f17467ab",
   "metadata": {},
   "outputs": [],
   "source": [
    "a = 1\n",
    "b = 0"
   ]
  },
  {
   "cell_type": "code",
   "execution_count": 192,
   "id": "53378f0b-6015-4675-bd8a-efee31985c0f",
   "metadata": {},
   "outputs": [
    {
     "data": {
      "text/plain": [
       "True"
      ]
     },
     "execution_count": 192,
     "metadata": {},
     "output_type": "execute_result"
    }
   ],
   "source": [
    "bool(a)"
   ]
  },
  {
   "cell_type": "code",
   "execution_count": 193,
   "id": "8a2fe5a8-b934-4030-b2ea-b185d9a2c8d9",
   "metadata": {},
   "outputs": [
    {
     "data": {
      "text/plain": [
       "False"
      ]
     },
     "execution_count": 193,
     "metadata": {},
     "output_type": "execute_result"
    }
   ],
   "source": [
    "bool(b)"
   ]
  },
  {
   "cell_type": "code",
   "execution_count": 137,
   "id": "b0263025-a7e3-4435-866a-6e92f301c68d",
   "metadata": {},
   "outputs": [
    {
     "name": "stdout",
     "output_type": "stream",
     "text": [
      "False\n",
      "True\n"
     ]
    }
   ],
   "source": [
    "print(bool([]))\n",
    "print(bool([1,2,3]))"
   ]
  },
  {
   "cell_type": "markdown",
   "id": "0e48aa10-0814-40e2-8522-757d4689389a",
   "metadata": {},
   "source": [
    "## 4. 시퀀스(sequence) 자료형\n",
    "\n",
    "시퀀스는 데이터의 순서대로 나열된 자료구조. (순서대로 나열되었다는 것은 정렬된 것과 다르다.)\n",
    "\n",
    "1. list\n",
    "2. tuple\n",
    "3. range\n",
    "4. string\n",
    "\n",
    "### 4.1 List (배열)\n",
    "- 선언 : 변수이름 = [value1, value2, value3, ...]\n",
    "- 접근 : 변수이름[index]"
   ]
  },
  {
   "cell_type": "code",
   "execution_count": 131,
   "id": "ac81fc27-a29f-4b30-a03f-95fcfc9f3311",
   "metadata": {},
   "outputs": [
    {
     "name": "stdout",
     "output_type": "stream",
     "text": [
      "[]\n",
      "<class 'list'>\n"
     ]
    }
   ],
   "source": [
    "l = []\n",
    "print(l)\n",
    "print(type(l))"
   ]
  },
  {
   "cell_type": "code",
   "execution_count": 136,
   "id": "0c7790a2-3bb3-4683-89ca-61f2747f680f",
   "metadata": {},
   "outputs": [
    {
     "name": "stdout",
     "output_type": "stream",
     "text": [
      "['서울', '대구', '대전']\n",
      "서울\n"
     ]
    }
   ],
   "source": [
    "location = ['서울', '대구', '대전']\n",
    "print(location)\n",
    "print(location[0])"
   ]
  },
  {
   "cell_type": "markdown",
   "id": "0826e0a6-f98d-4950-a7ad-971bb589f403",
   "metadata": {},
   "source": [
    "### 4.2 Tuple\n",
    "- 선언 : 변수이름 = (value1, value2, value3)\n",
    "- 접근 : 변수이름[index]"
   ]
  },
  {
   "cell_type": "code",
   "execution_count": 140,
   "id": "476ab506-4d25-41cf-b6ff-af38ae70b11a",
   "metadata": {},
   "outputs": [
    {
     "name": "stdout",
     "output_type": "stream",
     "text": [
      "(1, 2, 3)\n",
      "<class 'tuple'>\n",
      "3\n"
     ]
    }
   ],
   "source": [
    "t=(1,2,3)\n",
    "print(t)\n",
    "print(type(t))\n",
    "print(t[2])"
   ]
  },
  {
   "cell_type": "markdown",
   "id": "3fa7bec8-a28f-48cb-8c7b-c01aede75cb6",
   "metadata": {},
   "source": [
    "- list : 수정 가능 (mutable)\n",
    "- tuple : 수정 불가능 (immutable)"
   ]
  },
  {
   "cell_type": "markdown",
   "id": "6695bec8-cc40-43c2-ace0-7b921029e185",
   "metadata": {},
   "source": [
    "### 4.3 Range\n",
    "\n",
    "- range(n) : 0부터 n-1까지 범위\n",
    "- range(n, m) : n부터 m-1까지 범위\n",
    "- range(n, m, s : n부터 m-1까지 +s만큼 증가하는 범위"
   ]
  },
  {
   "cell_type": "code",
   "execution_count": 141,
   "id": "e0560896-1565-430b-b479-a34cb38978d4",
   "metadata": {},
   "outputs": [
    {
     "name": "stdout",
     "output_type": "stream",
     "text": [
      "<class 'range'>\n"
     ]
    }
   ],
   "source": [
    "a = range(1)\n",
    "print(type(a))"
   ]
  },
  {
   "cell_type": "code",
   "execution_count": 143,
   "id": "483f2e59-8121-48e5-b070-bab1c42afe69",
   "metadata": {},
   "outputs": [
    {
     "name": "stdout",
     "output_type": "stream",
     "text": [
      "range(0, 10)\n",
      "[0, 1, 2, 3, 4, 5, 6, 7, 8, 9]\n"
     ]
    }
   ],
   "source": [
    "a = range(10)\n",
    "print(a)\n",
    "print(list(a))"
   ]
  },
  {
   "cell_type": "code",
   "execution_count": 146,
   "id": "d301e9fe-9b40-4afe-aaf4-8a21325038c1",
   "metadata": {},
   "outputs": [
    {
     "name": "stdout",
     "output_type": "stream",
     "text": [
      "[5, 6, 7, 8, 9, 10, 11, 12, 13, 14]\n"
     ]
    }
   ],
   "source": [
    "a = range(5,15)\n",
    "print(list(a))"
   ]
  },
  {
   "cell_type": "code",
   "execution_count": 147,
   "id": "544345d5-60fc-4e9c-bf5e-5e92dacabdcc",
   "metadata": {},
   "outputs": [
    {
     "name": "stdout",
     "output_type": "stream",
     "text": [
      "[1, 3, 5, 7, 9]\n"
     ]
    }
   ],
   "source": [
    "a = range(1,10,2)\n",
    "print(list(a))"
   ]
  },
  {
   "cell_type": "code",
   "execution_count": 149,
   "id": "0eff9182-9118-4de5-8f48-77491ed0233a",
   "metadata": {},
   "outputs": [
    {
     "name": "stdout",
     "output_type": "stream",
     "text": [
      "[-1, -2, -3, -4, -5, -6, -7, -8, -9]\n"
     ]
    }
   ],
   "source": [
    "a = range(-1, -10, -1)\n",
    "print(list(a))"
   ]
  },
  {
   "cell_type": "markdown",
   "id": "8dc92d89-e688-439b-9632-111ab94efbf7",
   "metadata": {},
   "source": [
    "### 4.4 String\n",
    "\n",
    "기본 데이터 구조 참고"
   ]
  },
  {
   "cell_type": "markdown",
   "id": "60ee78fc-8d04-477b-ba5e-686d846daeaa",
   "metadata": {},
   "source": [
    "### 4.5 시퀀스에서 활용 가능한 연산/함수"
   ]
  },
  {
   "cell_type": "code",
   "execution_count": 156,
   "id": "eec91482-7b59-4f3c-8d80-ec246aea4ef9",
   "metadata": {},
   "outputs": [],
   "source": [
    "my_list = [1,2,3,4,5]\n",
    "my_tuple = (1,2,3,4,5)\n",
    "my_range = range(1,6)\n",
    "my_string = '12345'"
   ]
  },
  {
   "cell_type": "code",
   "execution_count": 157,
   "id": "aa695351-f416-4aba-a588-838fb86b55c7",
   "metadata": {},
   "outputs": [
    {
     "name": "stdout",
     "output_type": "stream",
     "text": [
      "2\n",
      "2\n",
      "2\n",
      "2\n"
     ]
    }
   ],
   "source": [
    "#indexing\n",
    "print(my_list[1])\n",
    "print(my_tuple[1])\n",
    "print(my_range[1])\n",
    "print(my_string[1])"
   ]
  },
  {
   "cell_type": "code",
   "execution_count": 159,
   "id": "a9b58975-969e-4062-b760-556f36d15e7d",
   "metadata": {},
   "outputs": [
    {
     "name": "stdout",
     "output_type": "stream",
     "text": [
      "[2, 3]\n",
      "(2, 3)\n",
      "range(2, 4)\n",
      "23\n"
     ]
    }
   ],
   "source": [
    "#slicing (n에서 시작해서 m전까지)\n",
    "print(my_list[1:3])\n",
    "print(my_tuple[1:3])\n",
    "print(my_range[1:3])\n",
    "print(my_string[1:3])"
   ]
  },
  {
   "cell_type": "code",
   "execution_count": 164,
   "id": "a669f509-b3ed-466f-8e17-1fb2e57f1ac7",
   "metadata": {},
   "outputs": [
    {
     "name": "stdout",
     "output_type": "stream",
     "text": [
      "range(3, 51, 2)\n",
      "[1, 3, 5, 7, 9]\n"
     ]
    }
   ],
   "source": [
    "#slicing (k 간격으로)\n",
    "my_range = range(1,100)\n",
    "print(my_range[2:50:2])\n",
    "print(list(my_range[0:10:2]))"
   ]
  },
  {
   "cell_type": "code",
   "execution_count": 166,
   "id": "72f6c9f8-30ea-4579-baa6-a8e7b06e6d5c",
   "metadata": {},
   "outputs": [
    {
     "name": "stdout",
     "output_type": "stream",
     "text": [
      "True\n",
      "True\n",
      "True\n",
      "True\n"
     ]
    }
   ],
   "source": [
    "#in\n",
    "print(1 in my_list)\n",
    "print(1 in my_tuple)\n",
    "print(1 in my_range)\n",
    "print('1' in my_string)"
   ]
  },
  {
   "cell_type": "code",
   "execution_count": 167,
   "id": "fb576181-62f5-4c2a-86df-ae04d7a5047d",
   "metadata": {},
   "outputs": [
    {
     "name": "stdout",
     "output_type": "stream",
     "text": [
      "False\n",
      "False\n",
      "False\n",
      "False\n"
     ]
    }
   ],
   "source": [
    "print(1 not in my_list)\n",
    "print(1 not in my_tuple)\n",
    "print(1 not in my_range)\n",
    "print('1' not in my_string)"
   ]
  },
  {
   "cell_type": "code",
   "execution_count": 168,
   "id": "cd37e8bb-edf9-4d84-96d5-95bb151dd4ea",
   "metadata": {},
   "outputs": [
    {
     "name": "stdout",
     "output_type": "stream",
     "text": [
      "[1, 2, 3, 4, 5, 1, 2, 3]\n"
     ]
    }
   ],
   "source": [
    "#concatenation\n",
    "print(my_list + [1,2,3])"
   ]
  },
  {
   "cell_type": "code",
   "execution_count": 171,
   "id": "18c623d0-419b-47ad-a09b-baa2f431f53a",
   "metadata": {},
   "outputs": [
    {
     "name": "stdout",
     "output_type": "stream",
     "text": [
      "[0, 0, 0, 0, 0, 0, 0, 0, 0, 0]\n",
      "[[0, 0, 0, 0, 0, 0, 0, 0, 0, 0], [0, 0, 0, 0, 0, 0, 0, 0, 0, 0], [0, 0, 0, 0, 0, 0, 0, 0, 0, 0], [0, 0, 0, 0, 0, 0, 0, 0, 0, 0], [0, 0, 0, 0, 0, 0, 0, 0, 0, 0], [0, 0, 0, 0, 0, 0, 0, 0, 0, 0], [0, 0, 0, 0, 0, 0, 0, 0, 0, 0], [0, 0, 0, 0, 0, 0, 0, 0, 0, 0], [0, 0, 0, 0, 0, 0, 0, 0, 0, 0], [0, 0, 0, 0, 0, 0, 0, 0, 0, 0]]\n"
     ]
    }
   ],
   "source": [
    "# * (뒤에 오는 숫자만큼 concatenation 하라는 뜻)\n",
    "print([0] * 10)\n",
    "print([[0] * 10] * 10)"
   ]
  },
  {
   "cell_type": "code",
   "execution_count": 172,
   "id": "a1a94506-06b7-49dd-975e-f35235c4142f",
   "metadata": {},
   "outputs": [
    {
     "name": "stdout",
     "output_type": "stream",
     "text": [
      "5\n"
     ]
    }
   ],
   "source": [
    "print(len(my_list))"
   ]
  },
  {
   "cell_type": "code",
   "execution_count": 173,
   "id": "00f3badd-1f98-4e12-bc1c-146918fa0a8f",
   "metadata": {},
   "outputs": [
    {
     "name": "stdout",
     "output_type": "stream",
     "text": [
      "1\n"
     ]
    }
   ],
   "source": [
    "print(min(my_list))"
   ]
  },
  {
   "cell_type": "code",
   "execution_count": 174,
   "id": "716be1b1-a47e-41e4-aa85-e22d190c2d04",
   "metadata": {},
   "outputs": [
    {
     "name": "stdout",
     "output_type": "stream",
     "text": [
      "5\n"
     ]
    }
   ],
   "source": [
    "print(max(my_list))"
   ]
  },
  {
   "cell_type": "code",
   "execution_count": 176,
   "id": "012de52d-391d-4325-890d-448d240f6142",
   "metadata": {},
   "outputs": [
    {
     "data": {
      "text/plain": [
       "1"
      ]
     },
     "execution_count": 176,
     "metadata": {},
     "output_type": "execute_result"
    }
   ],
   "source": [
    "my_list.count(1)"
   ]
  },
  {
   "cell_type": "markdown",
   "id": "911be250-dab6-4534-9243-ba15b79c371b",
   "metadata": {},
   "source": [
    "## 5. 시퀀스데이터가 아닌 자료구조\n",
    "\n",
    "### 5.1 Set\n",
    "\n",
    "수학에서 사용하는 집합과 동일하게 처리 (중복된 값이 없음)\n",
    "\n",
    "- 선언 : 변수이름 = {value1, value2, value3, ...}"
   ]
  },
  {
   "cell_type": "code",
   "execution_count": 177,
   "id": "2e00ad0f-935a-48c8-a617-6c73f503e481",
   "metadata": {},
   "outputs": [],
   "source": [
    "my_set_a = {1, 2, 3, 4, 5}\n",
    "my_set_b = {3, 4, 5, 6, 7}"
   ]
  },
  {
   "cell_type": "code",
   "execution_count": 180,
   "id": "0871cc44-c8c7-4bb5-beda-0a94cdb972a0",
   "metadata": {},
   "outputs": [
    {
     "name": "stdout",
     "output_type": "stream",
     "text": [
      "{1, 2}\n",
      "{1, 2, 3, 4, 5, 6, 7}\n",
      "{3, 4, 5}\n"
     ]
    }
   ],
   "source": [
    "# 차집합\n",
    "print(my_set_a - my_set_b)\n",
    "\n",
    "# 합집합 (중복된 데이터가 있을 때는 하나만 남김)\n",
    "print(my_set_a | my_set_b)\n",
    "\n",
    "#교집합\n",
    "print(my_set_a & my_set_b)"
   ]
  },
  {
   "cell_type": "code",
   "execution_count": 183,
   "id": "b6b44367-fe3e-42cf-a675-b4d52065d872",
   "metadata": {},
   "outputs": [
    {
     "name": "stdout",
     "output_type": "stream",
     "text": [
      "[1, 2, 3, 4, 5, 6]\n"
     ]
    }
   ],
   "source": [
    "# list의 중복된 값 지우기 : 집합(set)으로 바꿔서 중복값 없애기\n",
    "my_list = [1,1,1,1,1,1,2,3,4,5,6]\n",
    "print(list(set(my_list)))"
   ]
  },
  {
   "cell_type": "markdown",
   "id": "01de491a-b2de-4956-aa21-60f9c00cb14a",
   "metadata": {},
   "source": [
    "### 5.2 Dictionary\n",
    "\n",
    "- 선언 : 변수이름 = {key1: value1, key2: value2, ...}\n",
    "- 접근 : 변수이름[key]\n",
    "\n",
    "- dictionary는 key와 value가 쌍으로 이루어져있다.\n",
    "- key에는 immutable한 모든 것을 사용가능 (불변값 : string, integar)\n",
    "- value에는 모든 데이터 가능 (list, dictionary도 가능) "
   ]
  },
  {
   "cell_type": "code",
   "execution_count": 184,
   "id": "e121da15-1d39-4b20-a356-24fb3438275f",
   "metadata": {},
   "outputs": [
    {
     "data": {
      "text/plain": [
       "'02'"
      ]
     },
     "execution_count": 184,
     "metadata": {},
     "output_type": "execute_result"
    }
   ],
   "source": [
    "my_dict = { '서울': '02', '경기': '031'}\n",
    "my_dict['서울']"
   ]
  },
  {
   "cell_type": "code",
   "execution_count": 185,
   "id": "de85468f-1b59-4d32-8d8e-21895d6d47e1",
   "metadata": {},
   "outputs": [],
   "source": [
    "dict_a = {\n",
    "    'name': 'ChoiSeain',\n",
    "    'location': 'Namyangju',\n",
    "    'location': 'Pyeongnae'\n",
    "}"
   ]
  },
  {
   "cell_type": "code",
   "execution_count": 186,
   "id": "eed52a8b-2cdb-4c9d-91af-d20f095288b3",
   "metadata": {},
   "outputs": [
    {
     "name": "stdout",
     "output_type": "stream",
     "text": [
      "{'name': 'ChoiSeain', 'location': 'Pyeongnae'}\n"
     ]
    }
   ],
   "source": [
    "print(dict_a)"
   ]
  },
  {
   "cell_type": "code",
   "execution_count": 187,
   "id": "491e225b-a94d-490d-ac27-747e789872c5",
   "metadata": {},
   "outputs": [
    {
     "data": {
      "text/plain": [
       "dict_keys(['name', 'location'])"
      ]
     },
     "execution_count": 187,
     "metadata": {},
     "output_type": "execute_result"
    }
   ],
   "source": [
    "dict_a.keys()"
   ]
  },
  {
   "cell_type": "code",
   "execution_count": 189,
   "id": "7c8f50e8-7f76-4b62-9090-cab061dfad02",
   "metadata": {},
   "outputs": [
    {
     "data": {
      "text/plain": [
       "dict_values(['ChoiSeain', 'Pyeongnae'])"
      ]
     },
     "execution_count": 189,
     "metadata": {},
     "output_type": "execute_result"
    }
   ],
   "source": [
    "dict_a.values()"
   ]
  },
  {
   "cell_type": "markdown",
   "id": "f326b161-a199-4828-bb5b-bb4bdc1aa038",
   "metadata": {},
   "source": [
    "# 데이터 타입\n",
    "1. Number\n",
    "2. Boolean\n",
    "3. String\n",
    "\n",
    "# 자료구조 (= 데이터 타입을 활용해서 집합을 만들어 놓은 것)\n",
    "- 시퀀스 자료형\n",
    "1. [List] : mutable\n",
    "2. (Tuple) : immutable\n",
    "3. range() : immutable\n",
    "4. 'string' : immutable\n",
    "\n",
    "- 시퀀스가 아닌 자료형\n",
    "1. (Set) : mutable\n",
    "2. {Dictionary} : mutable"
   ]
  }
 ],
 "metadata": {
  "kernelspec": {
   "display_name": "Python 3 (ipykernel)",
   "language": "python",
   "name": "python3"
  },
  "language_info": {
   "codemirror_mode": {
    "name": "ipython",
    "version": 3
   },
   "file_extension": ".py",
   "mimetype": "text/x-python",
   "name": "python",
   "nbconvert_exporter": "python",
   "pygments_lexer": "ipython3",
   "version": "3.11.4"
  }
 },
 "nbformat": 4,
 "nbformat_minor": 5
}
