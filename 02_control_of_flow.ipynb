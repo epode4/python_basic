{
 "cells": [
  {
   "cell_type": "markdown",
   "id": "9ac41ee1-9468-4064-a24a-c1f35d523ce3",
   "metadata": {},
   "source": [
    "# 제어문"
   ]
  },
  {
   "cell_type": "markdown",
   "id": "a07a30f7-c4fb-4fe1-9396-7d7384d3f3d3",
   "metadata": {},
   "source": [
    "## 조건문 (if문)\n",
    "\n",
    "1. if문을 반드시 일정한 참/거짓을 판단할 수 있는 `조건식`과 함께 사용한다. (`if <조건식>:`)\n",
    "\n",
    "2-1. <조건식>이 참인 경우 `:` 이후의 문장을 실행한다. \n",
    "\n",
    "2-2. <조건식>이 거짓인 경우 `else:` 이후의 문장을 실행한다.  \n",
    "\n",
    "```\n",
    "if:  \n",
    "    if의 조건식이 참인 경우 실행하는 코드  \n",
    "else:  \n",
    "    if의 조건식이 거짓인 경우 실행하는 코드\n",
    "```"
   ]
  },
  {
   "cell_type": "code",
   "execution_count": 4,
   "id": "37d5709e-f541-45ea-9ee6-6757c0252fc6",
   "metadata": {},
   "outputs": [
    {
     "name": "stdin",
     "output_type": "stream",
     "text": [
      " 1224\n"
     ]
    },
    {
     "name": "stdout",
     "output_type": "stream",
     "text": [
      "not 산타클로스입니다.\n"
     ]
    }
   ],
   "source": [
    "my_string = input()\n",
    "\n",
    "if my_string == '12/25':\n",
    "    print('완전 징글벨입니다.')\n",
    "else:\n",
    "    print('not 산타클로스입니다.')"
   ]
  },
  {
   "cell_type": "code",
   "execution_count": 17,
   "id": "d59a42fd-a725-4149-997c-7a9da9c51d3c",
   "metadata": {},
   "outputs": [
    {
     "name": "stdin",
     "output_type": "stream",
     "text": [
      "숫자를 입력해주세요 123\n"
     ]
    },
    {
     "name": "stdout",
     "output_type": "stream",
     "text": [
      "123\n",
      "<class 'str'>\n"
     ]
    }
   ],
   "source": [
    "# 조건문을 사용해서 num에 들어있는 숫자가 홀수/짝수인지 판별\n",
    "num = input('숫자를 입력해주세요')\n",
    "print(num)\n",
    "print(type(num))\n",
    "num = int(num)"
   ]
  },
  {
   "cell_type": "code",
   "execution_count": 15,
   "id": "1f0db7ad-dd79-44be-b10e-92046298909e",
   "metadata": {},
   "outputs": [
    {
     "name": "stdout",
     "output_type": "stream",
     "text": [
      "홀수입니다\n"
     ]
    }
   ],
   "source": [
    "if (num % 2) == 0:\n",
    "    print('짝수입니다')\n",
    "\n",
    "else:\n",
    "    print('홀수입니다')"
   ]
  },
  {
   "cell_type": "code",
   "execution_count": 16,
   "id": "bea6280c-2afa-4be5-9b3c-84ffc079533a",
   "metadata": {},
   "outputs": [
    {
     "name": "stdin",
     "output_type": "stream",
     "text": [
      "숫자를 입력해주세요 123\n"
     ]
    },
    {
     "name": "stdout",
     "output_type": "stream",
     "text": [
      "홀수입니다\n"
     ]
    }
   ],
   "source": [
    "num = input('숫자를 입력해주세요')\n",
    "\n",
    "if (int(num) % 2) == 0:\n",
    "    print('짝수입니다')\n",
    "else:\n",
    "    print('홀수입니다')"
   ]
  },
  {
   "cell_type": "code",
   "execution_count": 18,
   "id": "a1036769-e66b-4bc3-b404-dda416ac91c1",
   "metadata": {},
   "outputs": [
    {
     "name": "stdout",
     "output_type": "stream",
     "text": [
      "홀수입니다\n"
     ]
    }
   ],
   "source": [
    "# num을 2로 나눈 나머지는 0, 1 두 가지 경우가 있다.\n",
    "# if 문의 조건식에 0, 1은 자동형변환이 일어나 False, True로 변환한다. \n",
    "if num % 2:\n",
    "    print('홀수입니다')\n",
    "else:\n",
    "    print('짝수입니다')"
   ]
  },
  {
   "cell_type": "markdown",
   "id": "44b1f2ef-c484-4051-a517-90a0ff98f0da",
   "metadata": {},
   "source": [
    "### elif\n",
    "```\n",
    "if <조건식>:\n",
    "    if 조건이 참인 경우\n",
    "elif <조건식>:\n",
    "    elif 조건이 참인 경우\n",
    "...\n",
    "else:\n",
    "    위의 조건식에 하나도 부합하지 않는 경우 \n",
    "```"
   ]
  },
  {
   "cell_type": "code",
   "execution_count": 24,
   "id": "8839092d-b6e2-45c1-9cc0-14ceb537657f",
   "metadata": {},
   "outputs": [
    {
     "name": "stdin",
     "output_type": "stream",
     "text": [
      " 70\n"
     ]
    }
   ],
   "source": [
    "score = input()"
   ]
  },
  {
   "cell_type": "code",
   "execution_count": 28,
   "id": "c6d8d19d-d705-450e-adeb-9027101f90c6",
   "metadata": {},
   "outputs": [
    {
     "name": "stdin",
     "output_type": "stream",
     "text": [
      "당신의 성적을 입력해주세요. 90\n"
     ]
    },
    {
     "name": "stdout",
     "output_type": "stream",
     "text": [
      "A\n"
     ]
    }
   ],
   "source": [
    "# 90점 이상 A\n",
    "# 80점 이상 B\n",
    "# 70점 이상 C\n",
    "# 나머지 F\n",
    "\n",
    "score = int(input('당신의 성적을 입력해주세요.'))\n",
    "\n",
    "if score >= 90:\n",
    "    print('A')\n",
    "elif score >= 80:\n",
    "    print('B')\n",
    "elif score >= 70:\n",
    "    print('C')\n",
    "else:\n",
    "    print('F')"
   ]
  },
  {
   "cell_type": "code",
   "execution_count": 34,
   "id": "95baf39a-a9f6-426b-a658-c577a8a80035",
   "metadata": {},
   "outputs": [
    {
     "name": "stdin",
     "output_type": "stream",
     "text": [
      "당신의 성적을 입력해주세요. 95\n"
     ]
    },
    {
     "name": "stdout",
     "output_type": "stream",
     "text": [
      "A\n",
      "참 잘했어요!\n"
     ]
    }
   ],
   "source": [
    "# 90점 이상 A (만약 95점 이상이면 '참 잘했어요' 출력)\n",
    "# 80점 이상 B\n",
    "# 70점 이상 C\n",
    "# 나머지 F\n",
    "\n",
    "score = int(input('당신의 성적을 입력해주세요.'))\n",
    "\n",
    "if score >= 90:\n",
    "    print('A')\n",
    "    if score >= 95:\n",
    "        print('참 잘했어요!')\n",
    "elif score >= 80:\n",
    "    print('B')\n",
    "elif score >= 70:\n",
    "    print('C')\n",
    "else:\n",
    "    print('F')"
   ]
  },
  {
   "cell_type": "markdown",
   "id": "f840a6e3-595c-4d41-b7a4-add8f4d9b34b",
   "metadata": {},
   "source": [
    "### 조건표현식\n",
    "\n",
    "```\n",
    "true_value if <조건식> else false_value\n",
    "```"
   ]
  },
  {
   "cell_type": "code",
   "execution_count": 37,
   "id": "7b563d3a-1284-4575-81c0-a16bcfb9deb0",
   "metadata": {},
   "outputs": [
    {
     "name": "stdout",
     "output_type": "stream",
     "text": [
      "True\n"
     ]
    }
   ],
   "source": [
    "print('True') if 1 > 0 else print('False')"
   ]
  },
  {
   "cell_type": "code",
   "execution_count": 40,
   "id": "e457bc05-76cc-4534-9b29-24cfb2acfab9",
   "metadata": {},
   "outputs": [
    {
     "name": "stdout",
     "output_type": "stream",
     "text": [
      "False\n"
     ]
    }
   ],
   "source": [
    "# 동일한 코드\n",
    "if 1 < 0:\n",
    "    print('True')\n",
    "else:\n",
    "    print('False')"
   ]
  },
  {
   "cell_type": "code",
   "execution_count": 42,
   "id": "696791f6-9055-496e-b771-6d98114301e2",
   "metadata": {},
   "outputs": [
    {
     "name": "stdout",
     "output_type": "stream",
     "text": [
      "0\n"
     ]
    }
   ],
   "source": [
    "num = -5\n",
    "value = num if num >= 0 else 0\n",
    "print(value)"
   ]
  },
  {
   "cell_type": "code",
   "execution_count": 50,
   "id": "c3af63d5-16e3-4deb-8b95-5bdb6a53d4a1",
   "metadata": {},
   "outputs": [
    {
     "name": "stdout",
     "output_type": "stream",
     "text": [
      "0\n"
     ]
    }
   ],
   "source": [
    "num = -5\n",
    "if num >= 0:\n",
    "    value = num\n",
    "else: \n",
    "    value = 0\n",
    "print(value)"
   ]
  },
  {
   "cell_type": "code",
   "execution_count": 51,
   "id": "829aacd3-2da4-463c-a8a4-ea36ae0cef4f",
   "metadata": {},
   "outputs": [
    {
     "name": "stdout",
     "output_type": "stream",
     "text": [
      "짝수\n"
     ]
    }
   ],
   "source": [
    "num = 2\n",
    "if num % 2 == 1:\n",
    "    result = '홀수'\n",
    "else:\n",
    "    result = '짝수'\n",
    "print(result)"
   ]
  },
  {
   "cell_type": "code",
   "execution_count": 1,
   "id": "157142b6-ff73-4d48-9de4-cd4b7c575545",
   "metadata": {},
   "outputs": [
    {
     "name": "stdout",
     "output_type": "stream",
     "text": [
      "짝수\n"
     ]
    }
   ],
   "source": [
    "num = 2\n",
    "result = '홀수' if num % 2 == 1 else '짝수'\n",
    "print(result)"
   ]
  },
  {
   "cell_type": "markdown",
   "id": "f6f366e7-2671-48b5-8790-6da32fc35556",
   "metadata": {},
   "source": [
    "## 반복문\n",
    "\n",
    "### while문\n",
    "\n",
    "```\n",
    "while <조건식>:\n",
    "    실행할 코드\n",
    "```"
   ]
  },
  {
   "cell_type": "code",
   "execution_count": 3,
   "id": "7f2bbba8-d372-405c-b59c-892f65d12acd",
   "metadata": {},
   "outputs": [
    {
     "name": "stdout",
     "output_type": "stream",
     "text": [
      "0\n",
      "1\n",
      "2\n",
      "3\n",
      "4\n"
     ]
    }
   ],
   "source": [
    "a = 0\n",
    "\n",
    "while a < 5:\n",
    "    print(a)\n",
    "    a += 1\n",
    "    # a = a + 1"
   ]
  },
  {
   "cell_type": "code",
   "execution_count": 6,
   "id": "16c55364-2d73-47f6-8be7-291029c4b766",
   "metadata": {},
   "outputs": [
    {
     "name": "stdin",
     "output_type": "stream",
     "text": [
      "'안녕'이라고 입력해주세요 안냥\n",
      "'안녕'이라고 입력해주세요 안뇽\n",
      "'안녕'이라고 입력해주세요 안녕\n"
     ]
    }
   ],
   "source": [
    "# 사용자가 '안녕' 이라고 할 때까지 계속 입력을 요청하는 코드\n",
    "\n",
    "hello = input('\\'안녕\\'이라고 입력해주세요')\n",
    "\n",
    "while hello != '안녕':\n",
    "    hello = input('\\'안녕\\'이라고 입력해주세요')"
   ]
  },
  {
   "cell_type": "code",
   "execution_count": 1,
   "id": "520fb3d4-eabb-4912-9ef7-263a862bd8e3",
   "metadata": {},
   "outputs": [
    {
     "name": "stdin",
     "output_type": "stream",
     "text": [
      "안녕이라고 입력해주세요 안냥\n",
      "안녕이라고 입력해주세요 안뇽\n",
      "안녕이라고 입력해주세요 하이\n",
      "안녕이라고 입력해주세요 하이라구\n",
      "안녕이라고 입력해주세요 안녕\n"
     ]
    }
   ],
   "source": [
    "# 초기화 작업\n",
    "hello = ' '\n",
    "\n",
    "while hello != '안녕':\n",
    "    hello = input('안녕이라고 입력해주세요')"
   ]
  },
  {
   "cell_type": "markdown",
   "id": "4dd43dbc-0e9d-42a2-ba14-fd819fcf1681",
   "metadata": {},
   "source": [
    "## for문\n",
    "\n",
    "정해진 범위 내의 반복\n",
    "\n",
    "```\n",
    "for variable in sequence:\n",
    "    code\n",
    "```"
   ]
  },
  {
   "cell_type": "code",
   "execution_count": 3,
   "id": "09b176fc-fcb5-4c48-9b56-42c7d6e44e9a",
   "metadata": {},
   "outputs": [
    {
     "name": "stdout",
     "output_type": "stream",
     "text": [
      "1\n",
      "2\n",
      "3\n",
      "4\n",
      "5\n"
     ]
    }
   ],
   "source": [
    "numbers = [1,2,3,4,5]\n",
    "\n",
    "# variable = 단수 sequence = 복수\n",
    "for number in numbers:\n",
    "    print(number)"
   ]
  },
  {
   "cell_type": "code",
   "execution_count": 4,
   "id": "f531ca18-d190-425c-9037-2d5260e12f09",
   "metadata": {},
   "outputs": [
    {
     "name": "stdin",
     "output_type": "stream",
     "text": [
      "단어를 입력해주세요 앙냥냥\n"
     ]
    },
    {
     "name": "stdout",
     "output_type": "stream",
     "text": [
      "앙\n",
      "냥\n",
      "냥\n"
     ]
    }
   ],
   "source": [
    "# for문을 사용해서 사용자가 입력한 데이터를 한글자씩 출력하는 코드\n",
    "\n",
    "word = input('단어를 입력해주세요')\n",
    "\n",
    "for char in word:\n",
    "    print(char)"
   ]
  },
  {
   "cell_type": "code",
   "execution_count": 5,
   "id": "102aec9a-0352-4949-9af4-a18651ae15b2",
   "metadata": {},
   "outputs": [
    {
     "name": "stdout",
     "output_type": "stream",
     "text": [
      "0\n",
      "1\n",
      "2\n",
      "3\n",
      "4\n"
     ]
    }
   ],
   "source": [
    "for i in range(5):\n",
    "    print(i)"
   ]
  },
  {
   "cell_type": "code",
   "execution_count": 6,
   "id": "526f4707-7cbd-452d-96e6-da93784c3f3c",
   "metadata": {},
   "outputs": [
    {
     "name": "stdout",
     "output_type": "stream",
     "text": [
      "1\n",
      "2\n",
      "3\n",
      "4\n",
      "5\n"
     ]
    }
   ],
   "source": [
    "for i in {1,2,3,4,5}:\n",
    "    print(i)"
   ]
  },
  {
   "cell_type": "code",
   "execution_count": 12,
   "id": "910500e0-38cf-4ad0-b695-48cb8abbcadc",
   "metadata": {},
   "outputs": [
    {
     "name": "stdout",
     "output_type": "stream",
     "text": [
      "1\n",
      "3\n",
      "5\n",
      "7\n",
      "9\n",
      "11\n",
      "13\n",
      "15\n",
      "17\n",
      "19\n",
      "21\n",
      "23\n",
      "25\n",
      "27\n",
      "29\n",
      "[1, 3, 5, 7, 9, 11, 13, 15, 17, 19, 21, 23, 25, 27, 29]\n"
     ]
    }
   ],
   "source": [
    "# 1. 1~30까지 숫자 중에서 홀수 출력\n",
    "# 2. 1~30까지 숫자 중에서 홀수들만 모아 리스트 출력\n",
    "\n",
    "# 1.\n",
    "numbers = range(31)\n",
    "odd = []\n",
    "\n",
    "for number in numbers:\n",
    "    if number % 2 == 1:\n",
    "        print(number)\n",
    "# 2. \n",
    "for number in numbers:\n",
    "    if number % 2 == 1:\n",
    "      odd.append(number)\n",
    "print(odd)"
   ]
  },
  {
   "cell_type": "code",
   "execution_count": 16,
   "id": "89b24a2d-a940-4bbf-b8d7-c4f2834a8d48",
   "metadata": {},
   "outputs": [
    {
     "name": "stdout",
     "output_type": "stream",
     "text": [
      "0\n",
      "라면\n",
      "1\n",
      "김밥\n",
      "2\n",
      "돈까스\n"
     ]
    }
   ],
   "source": [
    "menus = ['라면', '김밥', '돈까스']\n",
    "\n",
    "for menu in enumerate(menus):\n",
    "    print(menu[0])\n",
    "    print(menu[1])    "
   ]
  },
  {
   "cell_type": "code",
   "execution_count": 18,
   "id": "25043a77-5cff-496d-b63b-960518a11141",
   "metadata": {},
   "outputs": [
    {
     "name": "stdout",
     "output_type": "stream",
     "text": [
      "0\n",
      "라면\n",
      "1\n",
      "김밥\n",
      "2\n",
      "돈까스\n"
     ]
    }
   ],
   "source": [
    "menus = ['라면', '김밥', '돈까스']\n",
    "\n",
    "for idx, menu in enumerate(menus):\n",
    "    print(idx)\n",
    "    print(menu)"
   ]
  },
  {
   "cell_type": "markdown",
   "id": "69cd046a-95cd-4165-9a7a-9c41b9deeee6",
   "metadata": {},
   "source": [
    "### dictionary 반복\n",
    "\n",
    "1. for key in dict\n",
    "2. for key in dict.keys()\n",
    "3. for value in dict.values()\n",
    "4. for key, value in dict.items()"
   ]
  },
  {
   "cell_type": "code",
   "execution_count": 19,
   "id": "bb050a6e-0391-4447-95b0-179cebac58b7",
   "metadata": {},
   "outputs": [],
   "source": [
    "info = {\n",
    "    'name': 'Saein',\n",
    "    'location': 'Home',\n",
    "    'color': 'Red'\n",
    "}"
   ]
  },
  {
   "cell_type": "code",
   "execution_count": 24,
   "id": "b02de52b-50a0-4da5-9c5d-aabc66979132",
   "metadata": {},
   "outputs": [
    {
     "name": "stdout",
     "output_type": "stream",
     "text": [
      "name\n",
      "Saein\n",
      "location\n",
      "Home\n",
      "color\n",
      "Red\n"
     ]
    }
   ],
   "source": [
    "for i in info:\n",
    "    print(i)  # key가 할당됨\n",
    "    print(info[i])  #key로 value 뽑아내기"
   ]
  },
  {
   "cell_type": "code",
   "execution_count": 25,
   "id": "dce74bc4-98f2-414b-9421-fbb6e3305b0f",
   "metadata": {},
   "outputs": [],
   "source": [
    "blood_type = {\n",
    "    'A': 5,\n",
    "    'B': 4,\n",
    "    'O': 2,\n",
    "    'AB': 3\n",
    "}"
   ]
  },
  {
   "cell_type": "code",
   "execution_count": 27,
   "id": "645e5ff8-bea2-4730-846d-27b2336198d9",
   "metadata": {},
   "outputs": [
    {
     "name": "stdout",
     "output_type": "stream",
     "text": [
      "혈액형 목록은 다음과 같습니다.\n",
      "A\n",
      "B\n",
      "O\n",
      "AB\n"
     ]
    }
   ],
   "source": [
    "# 1. \n",
    "print('혈액형 목록은 다음과 같습니다.')\n",
    "for key in blood_type:\n",
    "    print(key)"
   ]
  },
  {
   "cell_type": "code",
   "execution_count": 29,
   "id": "b8b2124b-a605-48f0-83bf-c0b79191abcf",
   "metadata": {},
   "outputs": [
    {
     "name": "stdout",
     "output_type": "stream",
     "text": [
      "혈액형 목록은 다음과 같습니다.\n",
      "A\n",
      "B\n",
      "O\n",
      "AB\n"
     ]
    }
   ],
   "source": [
    "# 2. 좀 더 명시적이지만 1. 과 동일\n",
    "print('혈액형 목록은 다음과 같습니다.')\n",
    "for key in blood_type.keys():\n",
    "    print(key)"
   ]
  },
  {
   "cell_type": "code",
   "execution_count": 33,
   "id": "40d05308-afef-4da5-8d87-cc17d89ea2f9",
   "metadata": {},
   "outputs": [
    {
     "name": "stdout",
     "output_type": "stream",
     "text": [
      "5\n",
      "4\n",
      "2\n",
      "3\n"
     ]
    }
   ],
   "source": [
    "# 3. \n",
    "\n",
    "for value in blood_type.values():\n",
    "    print(value)"
   ]
  },
  {
   "cell_type": "code",
   "execution_count": 34,
   "id": "98d35187-040f-439e-91e4-d80c9e183122",
   "metadata": {},
   "outputs": [
    {
     "name": "stdout",
     "output_type": "stream",
     "text": [
      "5\n",
      "4\n",
      "2\n",
      "3\n",
      "총 인원은 14명입니다.\n"
     ]
    }
   ],
   "source": [
    "result = 0\n",
    "for value in blood_type.values():\n",
    "    print(value)\n",
    "    result += value\n",
    "print(f'총 인원은 {result}명입니다.')"
   ]
  },
  {
   "cell_type": "code",
   "execution_count": 38,
   "id": "ac72adfc-8962-446d-953c-3de640902bb4",
   "metadata": {},
   "outputs": [
    {
     "name": "stdout",
     "output_type": "stream",
     "text": [
      "A형은 5명입니다.\n",
      "B형은 4명입니다.\n",
      "O형은 2명입니다.\n",
      "AB형은 3명입니다.\n"
     ]
    }
   ],
   "source": [
    "# 4. \n",
    "for key, value in blood_type.items():\n",
    "    print(f'{key}형은 {value}명입니다.')"
   ]
  },
  {
   "cell_type": "code",
   "execution_count": 37,
   "id": "90697f11-2abb-4f52-9aef-d1ce85e970fc",
   "metadata": {},
   "outputs": [
    {
     "data": {
      "text/plain": [
       "dict_items([('A', 5), ('B', 4), ('O', 2), ('AB', 3)])"
      ]
     },
     "execution_count": 37,
     "metadata": {},
     "output_type": "execute_result"
    }
   ],
   "source": [
    "blood_type.items()"
   ]
  },
  {
   "cell_type": "markdown",
   "id": "bae38b29-61a4-472b-b464-0cda57633d3a",
   "metadata": {},
   "source": [
    "### break\n",
    "\n",
    "반복문을 종료시키는 키워드"
   ]
  },
  {
   "cell_type": "code",
   "execution_count": 40,
   "id": "57ad6cc9-df8b-4645-9098-e3a72e741b44",
   "metadata": {},
   "outputs": [
    {
     "name": "stdout",
     "output_type": "stream",
     "text": [
      "0\n",
      "1\n",
      "2\n",
      "3\n",
      "4\n",
      "5\n",
      "6\n",
      "7\n",
      "8\n",
      "9\n",
      "10\n",
      "10 이상\n"
     ]
    }
   ],
   "source": [
    "for i in range(100):\n",
    "    if i > 10:\n",
    "        print('10 이상')\n",
    "        break\n",
    "    print(i)"
   ]
  },
  {
   "cell_type": "code",
   "execution_count": 41,
   "id": "367b80f9-38a2-40b0-83c4-a48af7087207",
   "metadata": {},
   "outputs": [],
   "source": [
    "rice = ['보리', '보리', '쌀', '보리', '보리']"
   ]
  },
  {
   "cell_type": "code",
   "execution_count": 46,
   "id": "13ecf6b2-0c14-4f23-baf8-855001f7cec5",
   "metadata": {},
   "outputs": [
    {
     "name": "stdout",
     "output_type": "stream",
     "text": [
      "보리\n",
      "보리\n",
      "쌀\n",
      "잡았다!\n"
     ]
    }
   ],
   "source": [
    "for i in rice:\n",
    "    print(i)\n",
    "    if i == '쌀':\n",
    "        print('잡았다!')\n",
    "        break"
   ]
  },
  {
   "cell_type": "markdown",
   "id": "d18e05f7-84c7-4b90-9dfc-6fb8cfd286e3",
   "metadata": {},
   "source": [
    "### continue\n",
    "continue 이후의 코드를 실행하지 않고 다음 반복을 진행"
   ]
  },
  {
   "cell_type": "code",
   "execution_count": 49,
   "id": "a0cc50b5-e864-4211-91f4-d3b8a0951318",
   "metadata": {},
   "outputs": [
    {
     "name": "stdout",
     "output_type": "stream",
     "text": [
      "0\n",
      "2\n",
      "4\n",
      "6\n",
      "8\n"
     ]
    }
   ],
   "source": [
    "for i in range(10):\n",
    "    if i % 2:  # 형변환으로 True(홀수)만 실행\n",
    "        continue\n",
    "    print(i)    "
   ]
  },
  {
   "cell_type": "code",
   "execution_count": 51,
   "id": "7ff19632-b435-4752-af76-54e1e4bf9a77",
   "metadata": {},
   "outputs": [
    {
     "name": "stdout",
     "output_type": "stream",
     "text": [
      "35 성인입니다\n",
      "28 성인입니다\n",
      "42 성인입니다\n",
      "20 성인입니다\n"
     ]
    }
   ],
   "source": [
    "age = [10, 35, 28, 42, 19, 20]\n",
    "\n",
    "for a in age:\n",
    "    if a < 20:\n",
    "        continue\n",
    "    print(a, '성인입니다')"
   ]
  },
  {
   "cell_type": "markdown",
   "id": "455ac0d0-7ae4-471c-80ca-9c665c8b4553",
   "metadata": {},
   "source": [
    "### else\n",
    "\n",
    "else문은 끝까지 반복이 진행된 후 실행"
   ]
  },
  {
   "cell_type": "code",
   "execution_count": 55,
   "id": "4f53e496-04e7-41b4-94e9-07c3143fded8",
   "metadata": {},
   "outputs": [
    {
     "name": "stdout",
     "output_type": "stream",
     "text": [
      "0\n",
      "1\n",
      "2\n",
      "3\n",
      "4\n",
      "5\n",
      "6\n",
      "7\n",
      "8\n",
      "9\n",
      "break 못 만남\n"
     ]
    }
   ],
   "source": [
    "for i in range(10):\n",
    "    if i > 100:\n",
    "        break\n",
    "    print(i)\n",
    "else:\n",
    "    print('break 못 만남')"
   ]
  },
  {
   "cell_type": "code",
   "execution_count": 57,
   "id": "3ca42c32-9cd9-4179-851e-38d9fdb171d5",
   "metadata": {},
   "outputs": [
    {
     "name": "stdout",
     "output_type": "stream",
     "text": [
      "0\n",
      "1\n",
      "2\n",
      "3\n",
      "4\n",
      "5\n"
     ]
    }
   ],
   "source": [
    "# 중간에 break를 만나면 else문이 실행되지 않음\n",
    "\n",
    "for i in range(10):\n",
    "    if i > 5:\n",
    "        break\n",
    "    print(i)\n",
    "else:\n",
    "    print('break 못 만남')"
   ]
  },
  {
   "cell_type": "code",
   "execution_count": 59,
   "id": "955c29f7-d930-4bb2-947b-3ee806c6317f",
   "metadata": {},
   "outputs": [
    {
     "name": "stdout",
     "output_type": "stream",
     "text": [
      "True\n",
      "False\n"
     ]
    }
   ],
   "source": [
    "numbers = [1,3,5,7,9]\n",
    "print(3 in numbers)\n",
    "print(2 in numbers)"
   ]
  },
  {
   "cell_type": "code",
   "execution_count": 70,
   "id": "eb7cf148-72f0-4fd9-aaa7-9ff387fd7eb0",
   "metadata": {},
   "outputs": [
    {
     "name": "stdin",
     "output_type": "stream",
     "text": [
      " 9\n"
     ]
    },
    {
     "name": "stdout",
     "output_type": "stream",
     "text": [
      "True\n"
     ]
    }
   ],
   "source": [
    "numbers = [1,3,5,7,9]\n",
    "\n",
    "score = int(input())\n",
    "\n",
    "for number in numbers:\n",
    "    if score == number:\n",
    "        print('True')\n",
    "        break\n",
    "else:\n",
    "    print('False')"
   ]
  },
  {
   "cell_type": "markdown",
   "id": "20ccbe0b-cad4-40a8-bf5e-782c316a70b0",
   "metadata": {},
   "source": [
    "### Pass\n",
    "\n",
    "문법적으로 문장이 필요할 때 구조를 잡기 위해 사용하는 아무 의미 없는 문장"
   ]
  },
  {
   "cell_type": "markdown",
   "id": "7ac2497e-ac40-4e46-8b22-394756a15af1",
   "metadata": {},
   "source": [
    "### match\n",
    "\n",
    "```\n",
    "match value\n",
    "    case <조건>:\n",
    "        code\n",
    "    case <조건>:\n",
    "        code\n",
    "    case _:\n",
    "        code\n",
    "```"
   ]
  },
  {
   "cell_type": "code",
   "execution_count": 72,
   "id": "1d7973bb-eae4-4aa0-9375-b33b4e436cea",
   "metadata": {},
   "outputs": [
    {
     "name": "stdout",
     "output_type": "stream",
     "text": [
      "Not found\n"
     ]
    }
   ],
   "source": [
    "status = 404\n",
    "\n",
    "match status:\n",
    "    case 400:\n",
    "        print('Bad Request')\n",
    "    case 404:\n",
    "        print('Not found')\n",
    "    case _:\n",
    "        print('Something is wrong')"
   ]
  }
 ],
 "metadata": {
  "kernelspec": {
   "display_name": "Python 3 (ipykernel)",
   "language": "python",
   "name": "python3"
  },
  "language_info": {
   "codemirror_mode": {
    "name": "ipython",
    "version": 3
   },
   "file_extension": ".py",
   "mimetype": "text/x-python",
   "name": "python",
   "nbconvert_exporter": "python",
   "pygments_lexer": "ipython3",
   "version": "3.11.4"
  }
 },
 "nbformat": 4,
 "nbformat_minor": 5
}
