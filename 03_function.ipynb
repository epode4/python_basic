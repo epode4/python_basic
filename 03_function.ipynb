{
 "cells": [
  {
   "cell_type": "markdown",
   "id": "da2132cd-9f6a-4eec-a336-265fea4cdc86",
   "metadata": {},
   "source": [
    "# 함수(function)"
   ]
  },
  {
   "cell_type": "code",
   "execution_count": 2,
   "id": "d070c19a-345e-444b-acdc-a51cfb2f98cb",
   "metadata": {},
   "outputs": [
    {
     "name": "stdout",
     "output_type": "stream",
     "text": [
      "직사각형의 둘레는 60, 면적은 200입니다.\n"
     ]
    }
   ],
   "source": [
    "height = 10\n",
    "width = 20\n",
    "s\n",
    "#직사각형의 둘레는 ***, 면적은 *** 입니다.\n",
    "\n",
    "area = height * width\n",
    "perimeter = (height + width) * 2\n",
    "print(f'직사각형의 둘레는 {perimeter}, 면적은 {area}입니다.')"
   ]
  },
  {
   "cell_type": "markdown",
   "id": "e352b13a-230c-4ee1-a35a-91c554123cbb",
   "metadata": {},
   "source": [
    "## 함수의 선언과 호출\n",
    "\n",
    "\n",
    "- 함수의 선언\n",
    "```python\n",
    "def function_name(parameter1, parameter2, ...): \n",
    "    code1\n",
    "    code2\n",
    "    ...\n",
    "    return value\n",
    "```\n",
    "\n",
    "- 함수의 호출(실행)\n",
    "```python\n",
    "function_name(parameter1, parameter2, ...)\n",
    "```"
   ]
  },
  {
   "cell_type": "code",
   "execution_count": 6,
   "id": "6d24b31e-7c70-4aac-a5b8-91a86442c9da",
   "metadata": {},
   "outputs": [],
   "source": [
    "def rectangle(height, width):\n",
    "    area = height * width\n",
    "    perimeter = (height + width) * 2\n",
    "    print(f'직사각형의 둘레는 {perimeter}, 면적은 {area}이다.')"
   ]
  },
  {
   "cell_type": "code",
   "execution_count": 7,
   "id": "69465505-944a-45e1-8b53-59a1d796474c",
   "metadata": {},
   "outputs": [
    {
     "name": "stdout",
     "output_type": "stream",
     "text": [
      "직사각형의 둘레는 160, 면적은 1500이다.\n"
     ]
    }
   ],
   "source": [
    "rectangle(30,50)"
   ]
  },
  {
   "cell_type": "code",
   "execution_count": 8,
   "id": "30dc7f9d-27d3-48f2-9a15-41018d8d5363",
   "metadata": {},
   "outputs": [
    {
     "data": {
      "text/plain": [
       "['ArithmeticError',\n",
       " 'AssertionError',\n",
       " 'AttributeError',\n",
       " 'BaseException',\n",
       " 'BaseExceptionGroup',\n",
       " 'BlockingIOError',\n",
       " 'BrokenPipeError',\n",
       " 'BufferError',\n",
       " 'BytesWarning',\n",
       " 'ChildProcessError',\n",
       " 'ConnectionAbortedError',\n",
       " 'ConnectionError',\n",
       " 'ConnectionRefusedError',\n",
       " 'ConnectionResetError',\n",
       " 'DeprecationWarning',\n",
       " 'EOFError',\n",
       " 'Ellipsis',\n",
       " 'EncodingWarning',\n",
       " 'EnvironmentError',\n",
       " 'Exception',\n",
       " 'ExceptionGroup',\n",
       " 'False',\n",
       " 'FileExistsError',\n",
       " 'FileNotFoundError',\n",
       " 'FloatingPointError',\n",
       " 'FutureWarning',\n",
       " 'GeneratorExit',\n",
       " 'IOError',\n",
       " 'ImportError',\n",
       " 'ImportWarning',\n",
       " 'IndentationError',\n",
       " 'IndexError',\n",
       " 'InterruptedError',\n",
       " 'IsADirectoryError',\n",
       " 'KeyError',\n",
       " 'KeyboardInterrupt',\n",
       " 'LookupError',\n",
       " 'MemoryError',\n",
       " 'ModuleNotFoundError',\n",
       " 'NameError',\n",
       " 'None',\n",
       " 'NotADirectoryError',\n",
       " 'NotImplemented',\n",
       " 'NotImplementedError',\n",
       " 'OSError',\n",
       " 'OverflowError',\n",
       " 'PendingDeprecationWarning',\n",
       " 'PermissionError',\n",
       " 'ProcessLookupError',\n",
       " 'RecursionError',\n",
       " 'ReferenceError',\n",
       " 'ResourceWarning',\n",
       " 'RuntimeError',\n",
       " 'RuntimeWarning',\n",
       " 'StopAsyncIteration',\n",
       " 'StopIteration',\n",
       " 'SyntaxError',\n",
       " 'SyntaxWarning',\n",
       " 'SystemError',\n",
       " 'SystemExit',\n",
       " 'TabError',\n",
       " 'TimeoutError',\n",
       " 'True',\n",
       " 'TypeError',\n",
       " 'UnboundLocalError',\n",
       " 'UnicodeDecodeError',\n",
       " 'UnicodeEncodeError',\n",
       " 'UnicodeError',\n",
       " 'UnicodeTranslateError',\n",
       " 'UnicodeWarning',\n",
       " 'UserWarning',\n",
       " 'ValueError',\n",
       " 'Warning',\n",
       " 'WindowsError',\n",
       " 'ZeroDivisionError',\n",
       " '__IPYTHON__',\n",
       " '__build_class__',\n",
       " '__debug__',\n",
       " '__doc__',\n",
       " '__import__',\n",
       " '__loader__',\n",
       " '__name__',\n",
       " '__package__',\n",
       " '__spec__',\n",
       " 'abs',\n",
       " 'aiter',\n",
       " 'all',\n",
       " 'anext',\n",
       " 'any',\n",
       " 'ascii',\n",
       " 'bin',\n",
       " 'bool',\n",
       " 'breakpoint',\n",
       " 'bytearray',\n",
       " 'bytes',\n",
       " 'callable',\n",
       " 'chr',\n",
       " 'classmethod',\n",
       " 'compile',\n",
       " 'complex',\n",
       " 'copyright',\n",
       " 'credits',\n",
       " 'delattr',\n",
       " 'dict',\n",
       " 'dir',\n",
       " 'display',\n",
       " 'divmod',\n",
       " 'enumerate',\n",
       " 'eval',\n",
       " 'exec',\n",
       " 'execfile',\n",
       " 'filter',\n",
       " 'float',\n",
       " 'format',\n",
       " 'frozenset',\n",
       " 'get_ipython',\n",
       " 'getattr',\n",
       " 'globals',\n",
       " 'hasattr',\n",
       " 'hash',\n",
       " 'help',\n",
       " 'hex',\n",
       " 'id',\n",
       " 'input',\n",
       " 'int',\n",
       " 'isinstance',\n",
       " 'issubclass',\n",
       " 'iter',\n",
       " 'len',\n",
       " 'license',\n",
       " 'list',\n",
       " 'locals',\n",
       " 'map',\n",
       " 'max',\n",
       " 'memoryview',\n",
       " 'min',\n",
       " 'next',\n",
       " 'object',\n",
       " 'oct',\n",
       " 'open',\n",
       " 'ord',\n",
       " 'pow',\n",
       " 'print',\n",
       " 'property',\n",
       " 'range',\n",
       " 'repr',\n",
       " 'reversed',\n",
       " 'round',\n",
       " 'runfile',\n",
       " 'set',\n",
       " 'setattr',\n",
       " 'slice',\n",
       " 'sorted',\n",
       " 'staticmethod',\n",
       " 'str',\n",
       " 'sum',\n",
       " 'super',\n",
       " 'tuple',\n",
       " 'type',\n",
       " 'vars',\n",
       " 'zip']"
      ]
     },
     "execution_count": 8,
     "metadata": {},
     "output_type": "execute_result"
    }
   ],
   "source": [
    "dir(__builtins__)"
   ]
  },
  {
   "cell_type": "code",
   "execution_count": 9,
   "id": "13c3d444-d82d-400a-ae15-bd8b396f9a37",
   "metadata": {},
   "outputs": [
    {
     "data": {
      "text/plain": [
       "5"
      ]
     },
     "execution_count": 9,
     "metadata": {},
     "output_type": "execute_result"
    }
   ],
   "source": [
    "max(1,5)"
   ]
  },
  {
   "cell_type": "code",
   "execution_count": 22,
   "id": "95e875d1-55bd-4126-bb90-89df06612d01",
   "metadata": {},
   "outputs": [],
   "source": [
    "# 두 개의 정수를 받아서 큰 수를 출력\n",
    "def my_max(n, m):\n",
    "    if n > m:\n",
    "        print(n)\n",
    "    elif n < m:\n",
    "        print(m)\n",
    "    else:\n",
    "        print('동일한 수')\n",
    "    # return None 이 자동으로 들어있음"
   ]
  },
  {
   "cell_type": "code",
   "execution_count": 24,
   "id": "f5da5bbb-37f8-44b8-82c7-f777ed5d0b3c",
   "metadata": {},
   "outputs": [
    {
     "name": "stdout",
     "output_type": "stream",
     "text": [
      "동일한 수\n",
      "None\n"
     ]
    }
   ],
   "source": [
    "result = my_max(4,4)\n",
    "print(result)"
   ]
  },
  {
   "cell_type": "markdown",
   "id": "81d48f3b-6e65-4ec0-afbe-d5626ba5a500",
   "metadata": {},
   "source": [
    "## 함수의 return\n",
    "\n",
    "- 함수가 return을 만나면 해당 값을 반환하고 함수를 종료\n",
    "- 만약 return이 없다면 None을 자동으로 반환\n",
    "- return은 오직 하나의 객체만 반환"
   ]
  },
  {
   "cell_type": "code",
   "execution_count": 32,
   "id": "9acca490-242d-4ee6-8d81-c7b3e0a9dbfd",
   "metadata": {},
   "outputs": [],
   "source": [
    "# 두 개의 정수를 받아서 큰 수를 반환\n",
    "def my_max2(n, m):\n",
    "\n",
    "    # return 'hello'\n",
    "    # return을 만나면 해당 값을 반환함 보통 연산 마지막에 넣기\n",
    "    \n",
    "    if n > m:\n",
    "        return n\n",
    "    elif n < m:\n",
    "        return m\n",
    "    else:\n",
    "        return 0"
   ]
  },
  {
   "cell_type": "code",
   "execution_count": 33,
   "id": "85f723f4-3340-41de-8083-98b7abbf1e60",
   "metadata": {},
   "outputs": [
    {
     "name": "stdout",
     "output_type": "stream",
     "text": [
      "4가 더 큽니다.\n"
     ]
    }
   ],
   "source": [
    "result = my_max2(1,4)\n",
    "print(f'{result}가 더 큽니다.')"
   ]
  },
  {
   "cell_type": "code",
   "execution_count": 43,
   "id": "193a38bc-4721-4ca6-a68c-9836ba2c3232",
   "metadata": {},
   "outputs": [],
   "source": [
    "def my_list_max(list1, list2):\n",
    "    if sum(list1) > sum(list2):\n",
    "        return list1\n",
    "    else:\n",
    "        return list2"
   ]
  },
  {
   "cell_type": "code",
   "execution_count": 44,
   "id": "9973871d-6c15-4dd4-a280-62e27d0a7535",
   "metadata": {},
   "outputs": [
    {
     "data": {
      "text/plain": [
       "[11, 12]"
      ]
     },
     "execution_count": 44,
     "metadata": {},
     "output_type": "execute_result"
    }
   ],
   "source": [
    "my_list_max([10,11],[11,12])"
   ]
  }
 ],
 "metadata": {
  "kernelspec": {
   "display_name": "Python 3 (ipykernel)",
   "language": "python",
   "name": "python3"
  },
  "language_info": {
   "codemirror_mode": {
    "name": "ipython",
    "version": 3
   },
   "file_extension": ".py",
   "mimetype": "text/x-python",
   "name": "python",
   "nbconvert_exporter": "python",
   "pygments_lexer": "ipython3",
   "version": "3.11.4"
  }
 },
 "nbformat": 4,
 "nbformat_minor": 5
}
