{
 "cells": [
  {
   "cell_type": "markdown",
   "id": "da2132cd-9f6a-4eec-a336-265fea4cdc86",
   "metadata": {},
   "source": [
    "# 함수(function)"
   ]
  },
  {
   "cell_type": "code",
   "execution_count": 2,
   "id": "d070c19a-345e-444b-acdc-a51cfb2f98cb",
   "metadata": {},
   "outputs": [
    {
     "name": "stdout",
     "output_type": "stream",
     "text": [
      "직사각형의 둘레는 60, 면적은 200입니다.\n"
     ]
    }
   ],
   "source": [
    "height = 10\n",
    "width = 20\n",
    "s\n",
    "#직사각형의 둘레는 ***, 면적은 *** 입니다.\n",
    "\n",
    "area = height * width\n",
    "perimeter = (height + width) * 2\n",
    "print(f'직사각형의 둘레는 {perimeter}, 면적은 {area}입니다.')"
   ]
  },
  {
   "cell_type": "markdown",
   "id": "e352b13a-230c-4ee1-a35a-91c554123cbb",
   "metadata": {},
   "source": [
    "## 함수의 선언과 호출\n",
    "\n",
    "\n",
    "- 함수의 선언\n",
    "```python\n",
    "def function_name(parameter1, parameter2, ...): \n",
    "    code1\n",
    "    code2\n",
    "    ...\n",
    "    return value\n",
    "```\n",
    "\n",
    "- 함수의 호출(실행)\n",
    "```python\n",
    "function_name(parameter1, parameter2, ...)\n",
    "```"
   ]
  },
  {
   "cell_type": "code",
   "execution_count": 6,
   "id": "6d24b31e-7c70-4aac-a5b8-91a86442c9da",
   "metadata": {},
   "outputs": [],
   "source": [
    "def rectangle(height, width):\n",
    "    area = height * width\n",
    "    perimeter = (height + width) * 2\n",
    "    print(f'직사각형의 둘레는 {perimeter}, 면적은 {area}이다.')"
   ]
  },
  {
   "cell_type": "code",
   "execution_count": 7,
   "id": "69465505-944a-45e1-8b53-59a1d796474c",
   "metadata": {},
   "outputs": [
    {
     "name": "stdout",
     "output_type": "stream",
     "text": [
      "직사각형의 둘레는 160, 면적은 1500이다.\n"
     ]
    }
   ],
   "source": [
    "rectangle(30,50)"
   ]
  },
  {
   "cell_type": "code",
   "execution_count": 8,
   "id": "30dc7f9d-27d3-48f2-9a15-41018d8d5363",
   "metadata": {},
   "outputs": [
    {
     "data": {
      "text/plain": [
       "['ArithmeticError',\n",
       " 'AssertionError',\n",
       " 'AttributeError',\n",
       " 'BaseException',\n",
       " 'BaseExceptionGroup',\n",
       " 'BlockingIOError',\n",
       " 'BrokenPipeError',\n",
       " 'BufferError',\n",
       " 'BytesWarning',\n",
       " 'ChildProcessError',\n",
       " 'ConnectionAbortedError',\n",
       " 'ConnectionError',\n",
       " 'ConnectionRefusedError',\n",
       " 'ConnectionResetError',\n",
       " 'DeprecationWarning',\n",
       " 'EOFError',\n",
       " 'Ellipsis',\n",
       " 'EncodingWarning',\n",
       " 'EnvironmentError',\n",
       " 'Exception',\n",
       " 'ExceptionGroup',\n",
       " 'False',\n",
       " 'FileExistsError',\n",
       " 'FileNotFoundError',\n",
       " 'FloatingPointError',\n",
       " 'FutureWarning',\n",
       " 'GeneratorExit',\n",
       " 'IOError',\n",
       " 'ImportError',\n",
       " 'ImportWarning',\n",
       " 'IndentationError',\n",
       " 'IndexError',\n",
       " 'InterruptedError',\n",
       " 'IsADirectoryError',\n",
       " 'KeyError',\n",
       " 'KeyboardInterrupt',\n",
       " 'LookupError',\n",
       " 'MemoryError',\n",
       " 'ModuleNotFoundError',\n",
       " 'NameError',\n",
       " 'None',\n",
       " 'NotADirectoryError',\n",
       " 'NotImplemented',\n",
       " 'NotImplementedError',\n",
       " 'OSError',\n",
       " 'OverflowError',\n",
       " 'PendingDeprecationWarning',\n",
       " 'PermissionError',\n",
       " 'ProcessLookupError',\n",
       " 'RecursionError',\n",
       " 'ReferenceError',\n",
       " 'ResourceWarning',\n",
       " 'RuntimeError',\n",
       " 'RuntimeWarning',\n",
       " 'StopAsyncIteration',\n",
       " 'StopIteration',\n",
       " 'SyntaxError',\n",
       " 'SyntaxWarning',\n",
       " 'SystemError',\n",
       " 'SystemExit',\n",
       " 'TabError',\n",
       " 'TimeoutError',\n",
       " 'True',\n",
       " 'TypeError',\n",
       " 'UnboundLocalError',\n",
       " 'UnicodeDecodeError',\n",
       " 'UnicodeEncodeError',\n",
       " 'UnicodeError',\n",
       " 'UnicodeTranslateError',\n",
       " 'UnicodeWarning',\n",
       " 'UserWarning',\n",
       " 'ValueError',\n",
       " 'Warning',\n",
       " 'WindowsError',\n",
       " 'ZeroDivisionError',\n",
       " '__IPYTHON__',\n",
       " '__build_class__',\n",
       " '__debug__',\n",
       " '__doc__',\n",
       " '__import__',\n",
       " '__loader__',\n",
       " '__name__',\n",
       " '__package__',\n",
       " '__spec__',\n",
       " 'abs',\n",
       " 'aiter',\n",
       " 'all',\n",
       " 'anext',\n",
       " 'any',\n",
       " 'ascii',\n",
       " 'bin',\n",
       " 'bool',\n",
       " 'breakpoint',\n",
       " 'bytearray',\n",
       " 'bytes',\n",
       " 'callable',\n",
       " 'chr',\n",
       " 'classmethod',\n",
       " 'compile',\n",
       " 'complex',\n",
       " 'copyright',\n",
       " 'credits',\n",
       " 'delattr',\n",
       " 'dict',\n",
       " 'dir',\n",
       " 'display',\n",
       " 'divmod',\n",
       " 'enumerate',\n",
       " 'eval',\n",
       " 'exec',\n",
       " 'execfile',\n",
       " 'filter',\n",
       " 'float',\n",
       " 'format',\n",
       " 'frozenset',\n",
       " 'get_ipython',\n",
       " 'getattr',\n",
       " 'globals',\n",
       " 'hasattr',\n",
       " 'hash',\n",
       " 'help',\n",
       " 'hex',\n",
       " 'id',\n",
       " 'input',\n",
       " 'int',\n",
       " 'isinstance',\n",
       " 'issubclass',\n",
       " 'iter',\n",
       " 'len',\n",
       " 'license',\n",
       " 'list',\n",
       " 'locals',\n",
       " 'map',\n",
       " 'max',\n",
       " 'memoryview',\n",
       " 'min',\n",
       " 'next',\n",
       " 'object',\n",
       " 'oct',\n",
       " 'open',\n",
       " 'ord',\n",
       " 'pow',\n",
       " 'print',\n",
       " 'property',\n",
       " 'range',\n",
       " 'repr',\n",
       " 'reversed',\n",
       " 'round',\n",
       " 'runfile',\n",
       " 'set',\n",
       " 'setattr',\n",
       " 'slice',\n",
       " 'sorted',\n",
       " 'staticmethod',\n",
       " 'str',\n",
       " 'sum',\n",
       " 'super',\n",
       " 'tuple',\n",
       " 'type',\n",
       " 'vars',\n",
       " 'zip']"
      ]
     },
     "execution_count": 8,
     "metadata": {},
     "output_type": "execute_result"
    }
   ],
   "source": [
    "dir(__builtins__)"
   ]
  },
  {
   "cell_type": "code",
   "execution_count": 9,
   "id": "13c3d444-d82d-400a-ae15-bd8b396f9a37",
   "metadata": {},
   "outputs": [
    {
     "data": {
      "text/plain": [
       "5"
      ]
     },
     "execution_count": 9,
     "metadata": {},
     "output_type": "execute_result"
    }
   ],
   "source": [
    "max(1,5)"
   ]
  },
  {
   "cell_type": "code",
   "execution_count": 22,
   "id": "95e875d1-55bd-4126-bb90-89df06612d01",
   "metadata": {},
   "outputs": [],
   "source": [
    "# 두 개의 정수를 받아서 큰 수를 출력\n",
    "def my_max(n, m):\n",
    "    if n > m:\n",
    "        print(n)\n",
    "    elif n < m:\n",
    "        print(m)\n",
    "    else:\n",
    "        print('동일한 수')\n",
    "    # return None 이 자동으로 들어있음"
   ]
  },
  {
   "cell_type": "code",
   "execution_count": 24,
   "id": "f5da5bbb-37f8-44b8-82c7-f777ed5d0b3c",
   "metadata": {},
   "outputs": [
    {
     "name": "stdout",
     "output_type": "stream",
     "text": [
      "동일한 수\n",
      "None\n"
     ]
    }
   ],
   "source": [
    "result = my_max(4,4)\n",
    "print(result)"
   ]
  },
  {
   "cell_type": "markdown",
   "id": "81d48f3b-6e65-4ec0-afbe-d5626ba5a500",
   "metadata": {},
   "source": [
    "## 함수의 return\n",
    "\n",
    "- 함수가 return을 만나면 해당 값을 반환하고 함수를 종료\n",
    "- 만약 return이 없다면 None을 자동으로 반환\n",
    "- return은 오직 하나의 객체만 반환"
   ]
  },
  {
   "cell_type": "code",
   "execution_count": 32,
   "id": "9acca490-242d-4ee6-8d81-c7b3e0a9dbfd",
   "metadata": {},
   "outputs": [],
   "source": [
    "# 두 개의 정수를 받아서 큰 수를 반환\n",
    "def my_max2(n, m):\n",
    "\n",
    "    # return 'hello'\n",
    "    # return을 만나면 해당 값을 반환함 보통 연산 마지막에 넣기\n",
    "    \n",
    "    if n > m:\n",
    "        return n\n",
    "    elif n < m:\n",
    "        return m\n",
    "    else:\n",
    "        return 0"
   ]
  },
  {
   "cell_type": "code",
   "execution_count": 33,
   "id": "85f723f4-3340-41de-8083-98b7abbf1e60",
   "metadata": {},
   "outputs": [
    {
     "name": "stdout",
     "output_type": "stream",
     "text": [
      "4가 더 큽니다.\n"
     ]
    }
   ],
   "source": [
    "result = my_max2(1,4)\n",
    "print(f'{result}가 더 큽니다.')"
   ]
  },
  {
   "cell_type": "code",
   "execution_count": 2,
   "id": "193a38bc-4721-4ca6-a68c-9836ba2c3232",
   "metadata": {},
   "outputs": [],
   "source": [
    "def my_list_max(list1, list2):\n",
    "    if sum(list1) > sum(list2):\n",
    "        return list1\n",
    "    else:\n",
    "        return list2"
   ]
  },
  {
   "cell_type": "code",
   "execution_count": 3,
   "id": "9973871d-6c15-4dd4-a280-62e27d0a7535",
   "metadata": {},
   "outputs": [
    {
     "data": {
      "text/plain": [
       "[11, 12]"
      ]
     },
     "execution_count": 3,
     "metadata": {},
     "output_type": "execute_result"
    }
   ],
   "source": [
    "my_list_max([10,11],[11,12])"
   ]
  },
  {
   "cell_type": "markdown",
   "id": "9ed04701-a92d-4046-bab3-952ba632662b",
   "metadata": {},
   "source": [
    "## 함수의 인자"
   ]
  },
  {
   "cell_type": "markdown",
   "id": "10c3732b-923f-4009-9b7c-32021473aea2",
   "metadata": {},
   "source": [
    "### 위치 인수\n",
    "\n",
    "기본적으로 함수는 인수의 위치로 판단"
   ]
  },
  {
   "cell_type": "code",
   "execution_count": 5,
   "id": "9bd591da-9877-4a56-91ec-968a029349d1",
   "metadata": {},
   "outputs": [
    {
     "name": "stdout",
     "output_type": "stream",
     "text": [
      "1570.0\n",
      "785.0\n"
     ]
    }
   ],
   "source": [
    "def cylinder(r, h):\n",
    "    return 3.14 * r**2 * h\n",
    "\n",
    "print(cylinder(10,5))\n",
    "print(cylinder(5,10))"
   ]
  },
  {
   "cell_type": "markdown",
   "id": "07175b56-b11d-42e6-a152-35bf8e7e22c5",
   "metadata": {},
   "source": [
    "### 기본값\n",
    "\n",
    "```python\n",
    "def func(p1=v1):\n",
    "    return v1\n",
    "```"
   ]
  },
  {
   "cell_type": "code",
   "execution_count": 9,
   "id": "a9467c33-2e3a-45f5-8977-c9c172123ad7",
   "metadata": {},
   "outputs": [
    {
     "name": "stdout",
     "output_type": "stream",
     "text": [
      "세인님 반갑습니다.\n",
      "익명님 반갑습니다.\n"
     ]
    }
   ],
   "source": [
    "def greeting(name='익명'):\n",
    "    return f'{name}님 반갑습니다.'\n",
    "\n",
    "print(greeting('세인'))\n",
    "print(greeting())"
   ]
  },
  {
   "cell_type": "code",
   "execution_count": 10,
   "id": "91e7cb62-cca3-422c-b49c-d37a0efdb628",
   "metadata": {},
   "outputs": [
    {
     "ename": "SyntaxError",
     "evalue": "non-default argument follows default argument (2027944172.py, line 1)",
     "output_type": "error",
     "traceback": [
      "\u001b[1;36m  Cell \u001b[1;32mIn[10], line 1\u001b[1;36m\u001b[0m\n\u001b[1;33m    def greeting(name='익명', age):\u001b[0m\n\u001b[1;37m                            ^\u001b[0m\n\u001b[1;31mSyntaxError\u001b[0m\u001b[1;31m:\u001b[0m non-default argument follows default argument\n"
     ]
    }
   ],
   "source": [
    "def greeting(name='익명', age):\n",
    "    return f'{name}님은 {age}살입니다.'"
   ]
  },
  {
   "cell_type": "code",
   "execution_count": 13,
   "id": "f0a9bb82-60fc-4906-939c-724d7f0b12ff",
   "metadata": {},
   "outputs": [
    {
     "name": "stdout",
     "output_type": "stream",
     "text": [
      "세인님은 22살입니다.\n",
      "익명님은 10살입니다.\n"
     ]
    }
   ],
   "source": [
    "def greeting(age, name='익명'):\n",
    "    return f'{name}님은 {age}살입니다.'\n",
    "\n",
    "print(greeting(22, '세인'))\n",
    "print(greeting(10))"
   ]
  },
  {
   "cell_type": "markdown",
   "id": "7c46c257-c510-4c6d-ba17-374c15008ee4",
   "metadata": {},
   "source": [
    "### 키워드 인자\n",
    "\n",
    "함수를 호출(실행)할 때 내가 원하는 위치에 직접적으로 특정 인자를 전달 가능"
   ]
  },
  {
   "cell_type": "code",
   "execution_count": 14,
   "id": "670a2f09-d815-4053-b560-9f338e4df389",
   "metadata": {},
   "outputs": [
    {
     "name": "stdout",
     "output_type": "stream",
     "text": [
      "홍길동님은 10살입니다.\n",
      "홍길동님은 10살입니다.\n"
     ]
    }
   ],
   "source": [
    "def greeting(age, name='익명'):\n",
    "    return f'{name}님은 {age}살입니다.'\n",
    "\n",
    "print(greeting(10, '홍길동'))\n",
    "print(greeting(name = '홍길동', age = 10))"
   ]
  },
  {
   "cell_type": "code",
   "execution_count": 16,
   "id": "8a4ec3a0-5187-4413-94a8-eb52c5595977",
   "metadata": {},
   "outputs": [
    {
     "name": "stdout",
     "output_type": "stream",
     "text": [
      "안녕\n",
      "안녕!하세요?"
     ]
    }
   ],
   "source": [
    "print('안녕')\n",
    "print('안녕', '하세요', sep ='!', end = '?')"
   ]
  },
  {
   "cell_type": "markdown",
   "id": "cdcd8bfe-9d3e-4cff-9a89-ac068a027d1d",
   "metadata": {},
   "source": [
    "### 가변 인자 리스트\n",
    "```python\n",
    "def func(*params):\n",
    "    pass\n",
    "```"
   ]
  },
  {
   "cell_type": "code",
   "execution_count": 19,
   "id": "19bb22a0-ee1f-4243-b482-585dccdb5bc8",
   "metadata": {},
   "outputs": [
    {
     "name": "stdout",
     "output_type": "stream",
     "text": [
      "('hi', 'hello', '안녕', '반가워')\n",
      "<class 'tuple'>\n"
     ]
    }
   ],
   "source": [
    "# 인자가 몇 개 들어오든 하나의 인자(tuple)로 생각\n",
    "\n",
    "def my_print(*words):\n",
    "    print(words)\n",
    "    print(type(words))\n",
    "\n",
    "my_print('hi', 'hello', '안녕', '반가워')"
   ]
  },
  {
   "cell_type": "code",
   "execution_count": 29,
   "id": "3a50074b-f7e7-4c62-a6b8-995bf6dffc49",
   "metadata": {},
   "outputs": [],
   "source": [
    "def my_max(*numbers):\n",
    "    result = numbers[0]\n",
    "    \n",
    "    for number in numbers:\n",
    "        if result < number:\n",
    "            result = number\n",
    "    return result"
   ]
  },
  {
   "cell_type": "code",
   "execution_count": 30,
   "id": "fff3ea22-5c9f-49b5-90ff-ea919cd66140",
   "metadata": {},
   "outputs": [
    {
     "name": "stdout",
     "output_type": "stream",
     "text": [
      "5\n",
      "-1\n"
     ]
    }
   ],
   "source": [
    "print(my_max(1,2,3,4,5))\n",
    "print(my_max(-1,-2,-3,-4,-5))"
   ]
  },
  {
   "cell_type": "code",
   "execution_count": 28,
   "id": "23743959-18a4-460a-9554-740cd8e3ed18",
   "metadata": {},
   "outputs": [
    {
     "data": {
      "text/plain": [
       "-1"
      ]
     },
     "execution_count": 28,
     "metadata": {},
     "output_type": "execute_result"
    }
   ],
   "source": [
    "max(-1,-2,-3,-4,-5)"
   ]
  },
  {
   "cell_type": "markdown",
   "id": "7a948340-68d6-4dc0-854a-7b1f821fb9e2",
   "metadata": {},
   "source": [
    "### 정의되지 않은 키워드 인자 처리하기\n",
    "\n",
    "```python\n",
    "def func(**kwargs):\n",
    "    pass\n",
    "```"
   ]
  },
  {
   "cell_type": "code",
   "execution_count": 32,
   "id": "86e5df15-851d-42d3-919a-68d8def8c601",
   "metadata": {},
   "outputs": [
    {
     "name": "stdout",
     "output_type": "stream",
     "text": [
      "{'name': 'choi', 'age': 20}\n"
     ]
    }
   ],
   "source": [
    "info = {\n",
    "    'name': 'choi',\n",
    "    'age': 20,\n",
    "}\n",
    "\n",
    "print(info)"
   ]
  },
  {
   "cell_type": "code",
   "execution_count": 33,
   "id": "90a41613-1f8a-4733-bea7-3e57170c32ef",
   "metadata": {},
   "outputs": [
    {
     "name": "stdout",
     "output_type": "stream",
     "text": [
      "{'name': 'hong', 'age': 20, 'asdf': 1234}\n"
     ]
    }
   ],
   "source": [
    "info = dict(name='hong', age=20, asdf = 1234)\n",
    "print(info)"
   ]
  },
  {
   "cell_type": "code",
   "execution_count": 39,
   "id": "c665da13-2583-412e-aa33-885872a06510",
   "metadata": {},
   "outputs": [
    {
     "name": "stdout",
     "output_type": "stream",
     "text": [
      "korean는 안녕입니다.\n",
      "english는 hello입니다.\n"
     ]
    }
   ],
   "source": [
    "def fake_dict(**kwargs):\n",
    "    for key, value in kwargs.items():\n",
    "        print(f'{key}는 {value}입니다.')\n",
    "\n",
    "fake_dict(korean='안녕', english='hello')"
   ]
  },
  {
   "cell_type": "markdown",
   "id": "70bbb7bc-04da-4be0-8c85-f2ad95595509",
   "metadata": {},
   "source": [
    "### Dictionary를 인자로 넣기(unpacking)"
   ]
  },
  {
   "cell_type": "code",
   "execution_count": 42,
   "id": "931f6984-12b8-4bec-9e4c-bb5d696efed5",
   "metadata": {},
   "outputs": [
    {
     "name": "stdout",
     "output_type": "stream",
     "text": [
      "비밀번호가 일치하지 않습니다.\n"
     ]
    }
   ],
   "source": [
    "def sign_up(username, password, password_confimation):\n",
    "    if password == password_confimation:\n",
    "        print(f'{username}님 회원가입이 완료되었습니다.')\n",
    "    else:\n",
    "        print(f'비밀번호가 일치하지 않습니다.')\n",
    "\n",
    "sign_up('epode4', 'q123', 'q1234')"
   ]
  },
  {
   "cell_type": "code",
   "execution_count": 45,
   "id": "a6054dfe-8c48-44f9-bf66-b7b21b7a147a",
   "metadata": {},
   "outputs": [
    {
     "name": "stdout",
     "output_type": "stream",
     "text": [
      "epode4님 회원가입이 완료되었습니다.\n"
     ]
    }
   ],
   "source": [
    "my_account={\n",
    "    'username': 'epode4',\n",
    "    'password': 'q123',\n",
    "    'password_confimation': 'q123',\n",
    "}\n",
    "\n",
    "sign_up(**my_account)"
   ]
  },
  {
   "cell_type": "markdown",
   "id": "4a4871a2-825f-4737-b738-fb2b4384632d",
   "metadata": {},
   "source": [
    "### lambda 표현식\n",
    "\n",
    "```python\n",
    "lambda parameter: expression\n",
    "```"
   ]
  },
  {
   "cell_type": "code",
   "execution_count": 46,
   "id": "5f521320-e1c4-4e5c-977b-8de49794c59d",
   "metadata": {},
   "outputs": [
    {
     "data": {
      "text/plain": [
       "3"
      ]
     },
     "execution_count": 46,
     "metadata": {},
     "output_type": "execute_result"
    }
   ],
   "source": [
    "(lambda a, b: a + b)(1,2)"
   ]
  },
  {
   "cell_type": "code",
   "execution_count": 55,
   "id": "68b88837-d113-4031-ba11-7d1b78b577d1",
   "metadata": {},
   "outputs": [
    {
     "data": {
      "text/plain": [
       "3"
      ]
     },
     "execution_count": 55,
     "metadata": {},
     "output_type": "execute_result"
    }
   ],
   "source": [
    "def my_sum(a, b):\n",
    "    return a + b\n",
    "\n",
    "my_sum(1,2)\n",
    "# my_sum('1',2)"
   ]
  },
  {
   "cell_type": "markdown",
   "id": "7df5b193-27ed-43f2-a5b3-fd9ee52d57aa",
   "metadata": {},
   "source": [
    "### type hint"
   ]
  },
  {
   "cell_type": "code",
   "execution_count": 57,
   "id": "3fbb8847-fffb-4c07-87db-59a28d6d81ec",
   "metadata": {},
   "outputs": [
    {
     "ename": "TypeError",
     "evalue": "can only concatenate str (not \"int\") to str",
     "output_type": "error",
     "traceback": [
      "\u001b[1;31m---------------------------------------------------------------------------\u001b[0m",
      "\u001b[1;31mTypeError\u001b[0m                                 Traceback (most recent call last)",
      "Cell \u001b[1;32mIn[57], line 12\u001b[0m\n\u001b[0;32m      9\u001b[0m     \u001b[38;5;28;01mreturn\u001b[39;00m num1 \u001b[38;5;241m+\u001b[39m num2\n\u001b[0;32m     11\u001b[0m my_sum(\u001b[38;5;241m1\u001b[39m,\u001b[38;5;241m2\u001b[39m)\n\u001b[1;32m---> 12\u001b[0m \u001b[43mmy_sum\u001b[49m\u001b[43m(\u001b[49m\u001b[38;5;124;43m'\u001b[39;49m\u001b[38;5;124;43m1\u001b[39;49m\u001b[38;5;124;43m'\u001b[39;49m\u001b[43m,\u001b[49m\u001b[38;5;241;43m2\u001b[39;49m\u001b[43m)\u001b[49m\n",
      "Cell \u001b[1;32mIn[57], line 9\u001b[0m, in \u001b[0;36mmy_sum\u001b[1;34m(num1, num2)\u001b[0m\n\u001b[0;32m      3\u001b[0m \u001b[38;5;28;01mdef\u001b[39;00m \u001b[38;5;21mmy_sum\u001b[39m(num1: \u001b[38;5;28mint\u001b[39m, num2: \u001b[38;5;28mint\u001b[39m) \u001b[38;5;241m-\u001b[39m\u001b[38;5;241m>\u001b[39m \u001b[38;5;28mint\u001b[39m:\n\u001b[0;32m      4\u001b[0m \u001b[38;5;250m    \u001b[39m\u001b[38;5;124;03m'''\u001b[39;00m\n\u001b[0;32m      5\u001b[0m \u001b[38;5;124;03m    함수의 대한 설명을 해주는 부분\u001b[39;00m\n\u001b[0;32m      6\u001b[0m \u001b[38;5;124;03m    두 수의 합을 구하는 함수입니다.\u001b[39;00m\n\u001b[0;32m      7\u001b[0m \u001b[38;5;124;03m    매개변수 num1, num2를 받아서 num1 + num2를 리턴합니다.\u001b[39;00m\n\u001b[0;32m      8\u001b[0m \u001b[38;5;124;03m    '''\u001b[39;00m\n\u001b[1;32m----> 9\u001b[0m     \u001b[38;5;28;01mreturn\u001b[39;00m \u001b[43mnum1\u001b[49m\u001b[43m \u001b[49m\u001b[38;5;241;43m+\u001b[39;49m\u001b[43m \u001b[49m\u001b[43mnum2\u001b[49m\n",
      "\u001b[1;31mTypeError\u001b[0m: can only concatenate str (not \"int\") to str"
     ]
    }
   ],
   "source": [
    "# 코드의 실행을 막지는 않고 개발자에게 힌트만 주는 것(타입 강제 X)\n",
    "\n",
    "def my_sum(num1: int, num2: int) -> int:\n",
    "    '''\n",
    "    함수의 대한 설명을 해주는 부분\n",
    "    두 수의 합을 구하는 함수입니다.\n",
    "    매개변수 num1, num2를 받아서 num1 + num2를 리턴합니다.\n",
    "    '''\n",
    "    return num1 + num2\n",
    "\n",
    "my_sum(1,2)\n",
    "my_sum('1',2)"
   ]
  },
  {
   "cell_type": "markdown",
   "id": "cb9334c3-7469-4aad-b342-96d1d1f43e28",
   "metadata": {},
   "source": [
    "### 이름공간(scope)\n",
    "\n",
    "python에서 사용되는 이름(함수, 변수)들은 이름공간(namespace)에 저장됨\n",
    "\n",
    "- Local scope : 정의된 함수 내부\n",
    "- Enclosed scope : 상위 함수\n",
    "- Global scope : 함수 밖의 변수 혹은 import된 모듈\n",
    "- Built-in scope : python이 기본적으로 가지고 있는 함수 혹은 변수"
   ]
  },
  {
   "cell_type": "code",
   "execution_count": 58,
   "id": "f02cffc0-3146-4e95-a988-4d6a4d560572",
   "metadata": {},
   "outputs": [],
   "source": [
    "str = '123'"
   ]
  },
  {
   "cell_type": "code",
   "execution_count": 59,
   "id": "28ef41a3-890d-4839-b080-ef4e1275c96f",
   "metadata": {},
   "outputs": [
    {
     "name": "stdout",
     "output_type": "stream",
     "text": [
      "123\n"
     ]
    }
   ],
   "source": [
    "print(str)"
   ]
  },
  {
   "cell_type": "code",
   "execution_count": 61,
   "id": "96ebeb05-bfa2-40e4-99e6-2d0bbc809d1c",
   "metadata": {},
   "outputs": [
    {
     "ename": "TypeError",
     "evalue": "'str' object is not callable",
     "output_type": "error",
     "traceback": [
      "\u001b[1;31m---------------------------------------------------------------------------\u001b[0m",
      "\u001b[1;31mTypeError\u001b[0m                                 Traceback (most recent call last)",
      "Cell \u001b[1;32mIn[61], line 1\u001b[0m\n\u001b[1;32m----> 1\u001b[0m \u001b[38;5;28;43mstr\u001b[39;49m\u001b[43m(\u001b[49m\u001b[38;5;241;43m789\u001b[39;49m\u001b[43m)\u001b[49m\n",
      "\u001b[1;31mTypeError\u001b[0m: 'str' object is not callable"
     ]
    }
   ],
   "source": [
    "str(789)"
   ]
  },
  {
   "cell_type": "code",
   "execution_count": 62,
   "id": "ae377861-095b-49a9-acd1-0f701d6353a9",
   "metadata": {},
   "outputs": [],
   "source": [
    "del str"
   ]
  },
  {
   "cell_type": "code",
   "execution_count": 63,
   "id": "5e3cc4e5-f315-4887-a92f-5c15eab3efc2",
   "metadata": {},
   "outputs": [
    {
     "name": "stdout",
     "output_type": "stream",
     "text": [
      "5\n"
     ]
    }
   ],
   "source": [
    "a = 1\n",
    "def localscope(a):\n",
    "    print(a)\n",
    "\n",
    "localscope(5)"
   ]
  },
  {
   "cell_type": "code",
   "execution_count": 67,
   "id": "b31fe323-b8f6-4720-844a-bd6d99341bbd",
   "metadata": {},
   "outputs": [
    {
     "name": "stdout",
     "output_type": "stream",
     "text": [
      "20\n",
      "10\n"
     ]
    }
   ],
   "source": [
    "num = 10\n",
    "def scope():\n",
    "    global num\n",
    "    num = 20\n",
    "    print(num)\n",
    "\n",
    "scope()\n",
    "print(num)"
   ]
  },
  {
   "cell_type": "markdown",
   "id": "f118b2c9-1412-40f2-8b20-d9e677af308d",
   "metadata": {},
   "source": [
    "## 재귀(recursive)\n",
    "\n",
    "재귀 함수는 함수 내부에서 자기 자신을 호출하는 함수를 의미"
   ]
  },
  {
   "cell_type": "code",
   "execution_count": 74,
   "id": "ddc1b4be-5f80-483e-b235-241f3e09f5d9",
   "metadata": {},
   "outputs": [
    {
     "data": {
      "text/plain": [
       "120"
      ]
     },
     "execution_count": 74,
     "metadata": {},
     "output_type": "execute_result"
    }
   ],
   "source": [
    "# 팩토리얼\n",
    "def fact(n):\n",
    "    result = 1\n",
    "    \n",
    "    while n > 1 :\n",
    "        result *= n\n",
    "        n -= 1\n",
    "    return result\n",
    "\n",
    "fact(5)"
   ]
  },
  {
   "cell_type": "markdown",
   "id": "9f291b8f-a0dc-4a18-8159-68c7ef0fcae2",
   "metadata": {},
   "source": [
    "1! = 1\n",
    "2! = 1 * 2 = 1! * 2\n",
    "3! = 1 * 2 * 3 = 2! * 3"
   ]
  },
  {
   "cell_type": "code",
   "execution_count": 75,
   "id": "a00e726f-5985-474f-8bd8-9a5e3224f45e",
   "metadata": {},
   "outputs": [
    {
     "data": {
      "text/plain": [
       "120"
      ]
     },
     "execution_count": 75,
     "metadata": {},
     "output_type": "execute_result"
    }
   ],
   "source": [
    "def factorial(n):\n",
    "    if n <= 1:\n",
    "        pass\n",
    "    else:\n",
    "        return factorial(n-1) * n\n",
    "\n",
    "factorial(5)"
   ]
  },
  {
   "cell_type": "markdown",
   "id": "cdd05133-8f22-42c0-9901-c6fe0b8402fb",
   "metadata": {},
   "source": [
    "### 피보나치 수열\n",
    "\n",
    "```python\n",
    "F(0) = F(1) = 1\n",
    "F(n) = F(n-1) + F(n-2) \n",
    "```"
   ]
  },
  {
   "cell_type": "code",
   "execution_count": 104,
   "id": "cdfebdcf-db9a-4271-a8b2-0a4c4834073f",
   "metadata": {},
   "outputs": [
    {
     "data": {
      "text/plain": [
       "[1, 1, 2, 3, 5, 8, 13]"
      ]
     },
     "execution_count": 104,
     "metadata": {},
     "output_type": "execute_result"
    }
   ],
   "source": [
    "# 반복문 사용\n",
    "\n",
    "# def fib_loop(n):\n",
    "#     result = 0\n",
    "#     i_1 = 1\n",
    "#     i_2 = 1\n",
    "\n",
    "#     if n <= 1:\n",
    "#         return 1\n",
    "#     else:\n",
    "#         while n > 0:\n",
    "#             result = i_1 + i_2\n",
    "#             i_1 = result\n",
    "#             i_2 = i_1\n",
    "#             n -= 1\n",
    "#         return result\n",
    "\n",
    "\n",
    "def fib_loop(n):\n",
    "    result = [1,1]\n",
    "\n",
    "    for i in range(1,n):\n",
    "        end1 = result[-1]\n",
    "        end2 = result[len(result)-2]   # [-2]와 동일\n",
    "        fib_num = end1 + end2\n",
    "\n",
    "        result.append(fib_num)\n",
    "\n",
    "    return result[-1]\n",
    "\n",
    "fib_loop(6)"
   ]
  },
  {
   "cell_type": "code",
   "execution_count": 93,
   "id": "0ffcf064-a465-4cbe-b497-32071ae279d3",
   "metadata": {},
   "outputs": [
    {
     "data": {
      "text/plain": [
       "13"
      ]
     },
     "execution_count": 93,
     "metadata": {},
     "output_type": "execute_result"
    }
   ],
   "source": [
    "# 재귀\n",
    "\n",
    "def fib_rec(n):\n",
    "    if n == 0 or n == 1:\n",
    "        return 1\n",
    "    else:\n",
    "        return fib_rec(n-1) + fib_rec(n-2)\n",
    "\n",
    "fib_rec(6)"
   ]
  },
  {
   "cell_type": "code",
   "execution_count": 96,
   "id": "dfad50b5-7d62-4703-8c0e-e1fae8e80088",
   "metadata": {},
   "outputs": [
    {
     "name": "stdout",
     "output_type": "stream",
     "text": [
      "1\n",
      "5\n"
     ]
    }
   ],
   "source": [
    "a = [1,2,3,4,5]\n",
    "print(a[0])\n",
    "print(a[-1])"
   ]
  },
  {
   "cell_type": "code",
   "execution_count": null,
   "id": "503d8af6-acf4-4de2-98c4-ddb005cafe58",
   "metadata": {},
   "outputs": [],
   "source": []
  }
 ],
 "metadata": {
  "kernelspec": {
   "display_name": "Python 3 (ipykernel)",
   "language": "python",
   "name": "python3"
  },
  "language_info": {
   "codemirror_mode": {
    "name": "ipython",
    "version": 3
   },
   "file_extension": ".py",
   "mimetype": "text/x-python",
   "name": "python",
   "nbconvert_exporter": "python",
   "pygments_lexer": "ipython3",
   "version": "3.11.4"
  }
 },
 "nbformat": 4,
 "nbformat_minor": 5
}
