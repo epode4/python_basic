{
 "cells": [
  {
   "cell_type": "code",
   "execution_count": 3,
   "id": "0691e81b-0c4f-439e-991e-c5cc7d23fc9d",
   "metadata": {},
   "outputs": [
    {
     "data": {
      "text/plain": [
       "['__add__',\n",
       " '__class__',\n",
       " '__contains__',\n",
       " '__delattr__',\n",
       " '__dir__',\n",
       " '__doc__',\n",
       " '__eq__',\n",
       " '__format__',\n",
       " '__ge__',\n",
       " '__getattribute__',\n",
       " '__getitem__',\n",
       " '__getnewargs__',\n",
       " '__getstate__',\n",
       " '__gt__',\n",
       " '__hash__',\n",
       " '__init__',\n",
       " '__init_subclass__',\n",
       " '__iter__',\n",
       " '__le__',\n",
       " '__len__',\n",
       " '__lt__',\n",
       " '__mod__',\n",
       " '__mul__',\n",
       " '__ne__',\n",
       " '__new__',\n",
       " '__reduce__',\n",
       " '__reduce_ex__',\n",
       " '__repr__',\n",
       " '__rmod__',\n",
       " '__rmul__',\n",
       " '__setattr__',\n",
       " '__sizeof__',\n",
       " '__str__',\n",
       " '__subclasshook__',\n",
       " 'capitalize',\n",
       " 'casefold',\n",
       " 'center',\n",
       " 'count',\n",
       " 'encode',\n",
       " 'endswith',\n",
       " 'expandtabs',\n",
       " 'find',\n",
       " 'format',\n",
       " 'format_map',\n",
       " 'index',\n",
       " 'isalnum',\n",
       " 'isalpha',\n",
       " 'isascii',\n",
       " 'isdecimal',\n",
       " 'isdigit',\n",
       " 'isidentifier',\n",
       " 'islower',\n",
       " 'isnumeric',\n",
       " 'isprintable',\n",
       " 'isspace',\n",
       " 'istitle',\n",
       " 'isupper',\n",
       " 'join',\n",
       " 'ljust',\n",
       " 'lower',\n",
       " 'lstrip',\n",
       " 'maketrans',\n",
       " 'partition',\n",
       " 'removeprefix',\n",
       " 'removesuffix',\n",
       " 'replace',\n",
       " 'rfind',\n",
       " 'rindex',\n",
       " 'rjust',\n",
       " 'rpartition',\n",
       " 'rsplit',\n",
       " 'rstrip',\n",
       " 'split',\n",
       " 'splitlines',\n",
       " 'startswith',\n",
       " 'strip',\n",
       " 'swapcase',\n",
       " 'title',\n",
       " 'translate',\n",
       " 'upper',\n",
       " 'zfill']"
      ]
     },
     "execution_count": 3,
     "metadata": {},
     "output_type": "execute_result"
    }
   ],
   "source": [
    "# 객체(string, number ...)가 가지고 있는 기능들 \n",
    "dir('hello')"
   ]
  },
  {
   "cell_type": "markdown",
   "id": "2229fd8b-0341-4c57-a42b-271f67c79038",
   "metadata": {},
   "source": [
    "# 1. 문자열 메소드\n",
    "\n",
    "객체가 가지는 함수 = 메소드 \n",
    "\n",
    "문자열은 immutable 하기 때문에 원본 데이터는 수정되지 않음"
   ]
  },
  {
   "cell_type": "code",
   "execution_count": 16,
   "id": "d330d497-73ab-4e39-af57-3f5b4ec93ab1",
   "metadata": {},
   "outputs": [
    {
     "ename": "TypeError",
     "evalue": "'str' object does not support item assignment",
     "output_type": "error",
     "traceback": [
      "\u001b[1;31m---------------------------------------------------------------------------\u001b[0m",
      "\u001b[1;31mTypeError\u001b[0m                                 Traceback (most recent call last)",
      "Cell \u001b[1;32mIn[16], line 4\u001b[0m\n\u001b[0;32m      1\u001b[0m \u001b[38;5;66;03m# immutable\u001b[39;00m\n\u001b[0;32m      2\u001b[0m a \u001b[38;5;241m=\u001b[39m \u001b[38;5;124m'\u001b[39m\u001b[38;5;124mhello my name is Saein\u001b[39m\u001b[38;5;124m'\u001b[39m\n\u001b[1;32m----> 4\u001b[0m \u001b[43ma\u001b[49m\u001b[43m[\u001b[49m\u001b[38;5;241;43m0\u001b[39;49m\u001b[43m]\u001b[49m \u001b[38;5;241m=\u001b[39m \u001b[38;5;124m'\u001b[39m\u001b[38;5;124mH\u001b[39m\u001b[38;5;124m'\u001b[39m\n",
      "\u001b[1;31mTypeError\u001b[0m: 'str' object does not support item assignment"
     ]
    }
   ],
   "source": [
    "# immutable\n",
    "a = 'hello my name is Saein'\n",
    "\n",
    "a[0] = 'H'"
   ]
  },
  {
   "cell_type": "code",
   "execution_count": 17,
   "id": "912e80bc-4f43-4375-9864-10e2f4353b1f",
   "metadata": {},
   "outputs": [
    {
     "data": {
      "text/plain": [
       "'Hello my name is saein'"
      ]
     },
     "execution_count": 17,
     "metadata": {},
     "output_type": "execute_result"
    }
   ],
   "source": [
    "a.capitalize()"
   ]
  },
  {
   "cell_type": "code",
   "execution_count": 18,
   "id": "006de17b-6e61-419e-8f00-0100ea288963",
   "metadata": {},
   "outputs": [
    {
     "name": "stdout",
     "output_type": "stream",
     "text": [
      "hello my name is Saein\n"
     ]
    }
   ],
   "source": [
    "print(a)"
   ]
  },
  {
   "cell_type": "code",
   "execution_count": 19,
   "id": "30abb697-785a-464f-8c9d-a8045dfcba4b",
   "metadata": {},
   "outputs": [
    {
     "data": {
      "text/plain": [
       "'Hello My Name Is Saein'"
      ]
     },
     "execution_count": 19,
     "metadata": {},
     "output_type": "execute_result"
    }
   ],
   "source": [
    "a.title()"
   ]
  },
  {
   "cell_type": "code",
   "execution_count": 20,
   "id": "bc739aec-c66c-432f-8825-66caa7c452d1",
   "metadata": {},
   "outputs": [
    {
     "data": {
      "text/plain": [
       "'HELLO MY NAME IS SAEIN'"
      ]
     },
     "execution_count": 20,
     "metadata": {},
     "output_type": "execute_result"
    }
   ],
   "source": [
    "a.upper()"
   ]
  },
  {
   "cell_type": "code",
   "execution_count": 22,
   "id": "5955b67d-936b-47e4-b8d1-f5f384fecbc8",
   "metadata": {},
   "outputs": [
    {
     "data": {
      "text/plain": [
       "'hello my name is saein'"
      ]
     },
     "execution_count": 22,
     "metadata": {},
     "output_type": "execute_result"
    }
   ],
   "source": [
    "a.lower()"
   ]
  },
  {
   "cell_type": "code",
   "execution_count": 26,
   "id": "9339d337-f789-41b5-8f14-78a3fc4a07fd",
   "metadata": {},
   "outputs": [
    {
     "data": {
      "text/plain": [
       "'himyname'"
      ]
     },
     "execution_count": 26,
     "metadata": {},
     "output_type": "execute_result"
    }
   ],
   "source": [
    "# ''.join(iterable(sequence))\n",
    "\n",
    "my_list = ['hi', 'my','name']\n",
    "''.join(my_list)"
   ]
  },
  {
   "cell_type": "code",
   "execution_count": 29,
   "id": "9c08ab45-4eff-4b5f-b867-3f5393b8c7c1",
   "metadata": {},
   "outputs": [
    {
     "name": "stdout",
     "output_type": "stream",
     "text": [
      "w!!!!!!!!!!!w\n",
      "w!!!oooooooow\n"
     ]
    }
   ],
   "source": [
    "# .replace(old, new[, count])\n",
    "print('wooooooooooow'.replace('o', '!'))\n",
    "print('wooooooooooow'.replace('o', '!', 3))"
   ]
  },
  {
   "cell_type": "code",
   "execution_count": 36,
   "id": "21a9672f-bfe2-4dec-bd9c-87aad960239b",
   "metadata": {},
   "outputs": [
    {
     "name": "stdout",
     "output_type": "stream",
     "text": [
      "         hello\n",
      "\n",
      "hello\n",
      "ello\n",
      "ellohihihihihi\n",
      "hihihihiihihihello\n"
     ]
    }
   ],
   "source": [
    "# .strip([chars])\n",
    "my_string = '         hello\\n'\n",
    "print(my_string)\n",
    "print(my_string.strip())\n",
    "\n",
    "my_string2 = 'hihihihiihihihellohihihihihi'\n",
    "print(my_string2.strip('hi'))\n",
    "print(my_string2.lstrip('hi'))\n",
    "print(my_string2.rstrip('hi'))"
   ]
  },
  {
   "cell_type": "code",
   "execution_count": 41,
   "id": "0bd6530f-3b18-47ed-8d5f-10c197ce861b",
   "metadata": {},
   "outputs": [
    {
     "name": "stdout",
     "output_type": "stream",
     "text": [
      "1\n",
      "-1\n",
      "1\n",
      "2\n"
     ]
    }
   ],
   "source": [
    "# .find(x)\n",
    "\n",
    "a = 'apple'\n",
    "print(a.find('p'))   # 제일 첫 번째 데이터의 인덱스만 출력\n",
    "print(a.find('z'))\n",
    "\n",
    "# 두 번째 'p' 출력하기\n",
    "for i in range(len(a)):\n",
    "    if 'p' == a[i]:\n",
    "        print(i)"
   ]
  },
  {
   "cell_type": "code",
   "execution_count": 40,
   "id": "64219715-b669-43ef-b94b-eaf3d332152a",
   "metadata": {},
   "outputs": [
    {
     "name": "stdout",
     "output_type": "stream",
     "text": [
      "1\n"
     ]
    },
    {
     "ename": "ValueError",
     "evalue": "substring not found",
     "output_type": "error",
     "traceback": [
      "\u001b[1;31m---------------------------------------------------------------------------\u001b[0m",
      "\u001b[1;31mValueError\u001b[0m                                Traceback (most recent call last)",
      "Cell \u001b[1;32mIn[40], line 5\u001b[0m\n\u001b[0;32m      3\u001b[0m a \u001b[38;5;241m=\u001b[39m \u001b[38;5;124m'\u001b[39m\u001b[38;5;124mapple\u001b[39m\u001b[38;5;124m'\u001b[39m\n\u001b[0;32m      4\u001b[0m \u001b[38;5;28mprint\u001b[39m(a\u001b[38;5;241m.\u001b[39mindex(\u001b[38;5;124m'\u001b[39m\u001b[38;5;124mp\u001b[39m\u001b[38;5;124m'\u001b[39m))\n\u001b[1;32m----> 5\u001b[0m \u001b[38;5;28mprint\u001b[39m(\u001b[43ma\u001b[49m\u001b[38;5;241;43m.\u001b[39;49m\u001b[43mindex\u001b[49m\u001b[43m(\u001b[49m\u001b[38;5;124;43m'\u001b[39;49m\u001b[38;5;124;43mz\u001b[39;49m\u001b[38;5;124;43m'\u001b[39;49m\u001b[43m)\u001b[49m)\n",
      "\u001b[1;31mValueError\u001b[0m: substring not found"
     ]
    }
   ],
   "source": [
    "# .index(x)\n",
    "\n",
    "a = 'apple'\n",
    "print(a.index('p'))\n",
    "print(a.index('z'))"
   ]
  },
  {
   "cell_type": "code",
   "execution_count": 47,
   "id": "e03b06be-a8a6-4f99-8394-e159d5b86b8b",
   "metadata": {},
   "outputs": [
    {
     "name": "stdout",
     "output_type": "stream",
     "text": [
      "['my', 'name', 'is', 'saein']\n",
      "['my', 'name', 'is', 'saein']\n"
     ]
    }
   ],
   "source": [
    "# .split()\n",
    "\n",
    "a = 'my name is saein'\n",
    "print(a.split())\n",
    "\n",
    "b = 'my_name_is_saein'\n",
    "print(b.split('_'))"
   ]
  },
  {
   "cell_type": "code",
   "execution_count": 48,
   "id": "63064306-624f-49de-be44-709f728edbbe",
   "metadata": {},
   "outputs": [
    {
     "data": {
      "text/plain": [
       "5"
      ]
     },
     "execution_count": 48,
     "metadata": {},
     "output_type": "execute_result"
    }
   ],
   "source": [
    "# .count()\n",
    "\n",
    "'wooooow'.count('o')"
   ]
  },
  {
   "cell_type": "markdown",
   "id": "f172bb92-2cdb-44a9-97fd-e390b3dba6c6",
   "metadata": {},
   "source": [
    "# 2. 리스트 메소드\n",
    "\n",
    "리스트는 mutable하기 때문에 원본 데이터가 변환됨"
   ]
  },
  {
   "cell_type": "code",
   "execution_count": 51,
   "id": "600c5139-d0a8-48af-bf91-7d482fb6ad30",
   "metadata": {},
   "outputs": [],
   "source": [
    "numbers = [1,2,5,4,6,3,7,8,9]"
   ]
  },
  {
   "cell_type": "code",
   "execution_count": 52,
   "id": "97a4f339-2a27-47e0-a494-94f2f74edd89",
   "metadata": {},
   "outputs": [
    {
     "name": "stdout",
     "output_type": "stream",
     "text": [
      "[1, 2, 5, 4, 6, 3, 7, 8, 9, 10]\n"
     ]
    }
   ],
   "source": [
    "# .append(x)\n",
    "\n",
    "numbers.append(10)\n",
    "print(numbers)"
   ]
  },
  {
   "cell_type": "code",
   "execution_count": 54,
   "id": "6f573503-aec2-4ba8-a8cd-eed97a2b8d3f",
   "metadata": {},
   "outputs": [
    {
     "name": "stdout",
     "output_type": "stream",
     "text": [
      "[1, 2, 5, 4, 6, 3, 7, 8, 9, 10, 99, 100, 99, 100]\n",
      "[1, 2, 5, 4, 6, 3, 7, 8, 9, 10, 99, 100, 99, 100, 99, 100]\n"
     ]
    }
   ],
   "source": [
    "# .extend(iterable)\n",
    "\n",
    "a = [99,100]\n",
    "numbers.extend(a)\n",
    "print(numbers)\n",
    "print(numbers + a)"
   ]
  },
  {
   "cell_type": "code",
   "execution_count": 55,
   "id": "e27f7288-93f1-43ca-9ec1-d0496176d363",
   "metadata": {},
   "outputs": [
    {
     "name": "stdout",
     "output_type": "stream",
     "text": [
      "[1, 2, 5, 3.5, 4, 6, 3, 7, 8, 9, 10, 99, 100, 99, 100]\n"
     ]
    }
   ],
   "source": [
    "# .insert(idx, x)\n",
    "\n",
    "numbers.insert(3, 3.5)\n",
    "print(numbers)"
   ]
  },
  {
   "cell_type": "code",
   "execution_count": 56,
   "id": "ec609905-08a3-42b4-a74f-4f5120a0909f",
   "metadata": {},
   "outputs": [
    {
     "name": "stdout",
     "output_type": "stream",
     "text": [
      "[1, 2, 5, 4, 6, 3, 7, 8, 9, 10, 99, 100, 99, 100]\n"
     ]
    }
   ],
   "source": [
    "# .remove(x)\n",
    "\n",
    "numbers.remove(3.5)\n",
    "print(numbers)"
   ]
  },
  {
   "cell_type": "code",
   "execution_count": 61,
   "id": "a725979e-8c3d-41fd-aece-e65299e8dafa",
   "metadata": {},
   "outputs": [
    {
     "name": "stdout",
     "output_type": "stream",
     "text": [
      "[2, 5, 4, 6, 3, 7, 8, 9, 10]\n"
     ]
    }
   ],
   "source": [
    "# .pop([idx])\n",
    "# 안 적으면 맨 뒤의 값, 적으면 인덱스 위치 번호 삭제\n",
    "\n",
    "numbers.pop(0)\n",
    "print(numbers)"
   ]
  },
  {
   "cell_type": "code",
   "execution_count": 63,
   "id": "c167d08f-70fc-4dc9-8fac-34d67a5c7276",
   "metadata": {},
   "outputs": [
    {
     "name": "stdout",
     "output_type": "stream",
     "text": [
      "[2, 3, 4, 5, 6, 7, 8, 9, 10]\n",
      "[10, 9, 8, 7, 6, 5, 4, 3, 2]\n"
     ]
    }
   ],
   "source": [
    "# .sort()\n",
    "\n",
    "numbers.sort()\n",
    "print(numbers)\n",
    "numbers.sort(reverse = True)\n",
    "print(numbers)"
   ]
  },
  {
   "cell_type": "code",
   "execution_count": 67,
   "id": "d71c812e-c5b4-4953-bf40-9ca50b76580c",
   "metadata": {},
   "outputs": [
    {
     "name": "stdout",
     "output_type": "stream",
     "text": [
      "[10, 9, 8, 7, 6, 5, 4, 3, 2]\n",
      "[2, 3, 4, 5, 6, 7, 8, 9, 10]\n",
      "[10, 9, 8, 7, 6, 5, 4, 3, 2]\n"
     ]
    }
   ],
   "source": [
    "# .reverse()\n",
    "# 정렬은 아니고 그냥 역순으로 변환\n",
    "\n",
    "print(numbers)\n",
    "numbers.reverse()\n",
    "print(numbers)\n",
    "\n",
    "# slicing 사용해서 역순으로 변환\n",
    "numbers = numbers[::-1]\n",
    "print(numbers)"
   ]
  },
  {
   "cell_type": "markdown",
   "id": "e37ae3ff-2906-431f-8756-f8478d19b998",
   "metadata": {},
   "source": [
    "## 2.1 list copy"
   ]
  },
  {
   "cell_type": "code",
   "execution_count": 68,
   "id": "636b806f-f794-4591-9120-827c3582597a",
   "metadata": {},
   "outputs": [],
   "source": [
    "origin_list = [1,2,3]\n",
    "copy_list = origin_list"
   ]
  },
  {
   "cell_type": "code",
   "execution_count": 69,
   "id": "318f1760-d825-46c9-83b5-b203459cadf1",
   "metadata": {},
   "outputs": [
    {
     "name": "stdout",
     "output_type": "stream",
     "text": [
      "[1, 2, 3]\n",
      "[1, 2, 3]\n"
     ]
    }
   ],
   "source": [
    "print(origin_list)\n",
    "print(copy_list)"
   ]
  },
  {
   "cell_type": "code",
   "execution_count": 70,
   "id": "8c1aa4e0-fbfe-40fc-b9e0-0f12b9d198cf",
   "metadata": {},
   "outputs": [],
   "source": [
    "copy_list[0] = 100"
   ]
  },
  {
   "cell_type": "code",
   "execution_count": 72,
   "id": "815a4c96-03a2-4a52-a37d-f972173ddb04",
   "metadata": {},
   "outputs": [
    {
     "name": "stdout",
     "output_type": "stream",
     "text": [
      "[100, 2, 3]\n",
      "[100, 2, 3]\n"
     ]
    }
   ],
   "source": [
    "print(origin_list)\n",
    "print(copy_list)"
   ]
  },
  {
   "cell_type": "code",
   "execution_count": 74,
   "id": "09c67ad5-b1e8-45dc-9af5-35652f66ac09",
   "metadata": {},
   "outputs": [
    {
     "name": "stdout",
     "output_type": "stream",
     "text": [
      "[1, 2, 3]\n",
      "[100, 2, 3]\n"
     ]
    }
   ],
   "source": [
    "# slicing으로 copy(0:n)\n",
    "\n",
    "a = [1,2,3]\n",
    "b = a[:]\n",
    "\n",
    "b[0] = 100\n",
    "print(a)\n",
    "print(b)"
   ]
  },
  {
   "cell_type": "code",
   "execution_count": 75,
   "id": "5a473113-6c74-4fae-a363-f3c0b56f7340",
   "metadata": {},
   "outputs": [
    {
     "name": "stdout",
     "output_type": "stream",
     "text": [
      "[1, 2, 3]\n",
      "[100, 2, 3]\n"
     ]
    }
   ],
   "source": [
    "# list() 함수로 copy\n",
    "\n",
    "a = [1,2,3]\n",
    "b = list(a)\n",
    "\n",
    "b[0] = 100\n",
    "print(a)\n",
    "print(b)"
   ]
  },
  {
   "cell_type": "code",
   "execution_count": 78,
   "id": "69aefa96-7d78-46e0-b8a0-c9a7cda4e9b8",
   "metadata": {},
   "outputs": [
    {
     "name": "stdout",
     "output_type": "stream",
     "text": [
      "[1, 2, [100, 4]]\n",
      "[1, 2, [100, 4]]\n"
     ]
    }
   ],
   "source": [
    "a = [1,2,[3,4]]\n",
    "b = a[:]\n",
    "\n",
    "b[2][0] = 100\n",
    "print(a)\n",
    "print(b)"
   ]
  },
  {
   "cell_type": "code",
   "execution_count": 80,
   "id": "84890582-bbb8-4db0-9c92-8e47ca594479",
   "metadata": {},
   "outputs": [
    {
     "name": "stdout",
     "output_type": "stream",
     "text": [
      "[1, 2, [3, 4]]\n",
      "[1, 2, [100, 4]]\n"
     ]
    }
   ],
   "source": [
    "import copy\n",
    "a = [1,2,[3,4]]\n",
    "b = copy.deepcopy(a)\n",
    "\n",
    "b[2][0] = 100\n",
    "print(a)\n",
    "print(b)"
   ]
  },
  {
   "cell_type": "markdown",
   "id": "e74a6fb5-a542-4cfe-b6f8-8632de08517d",
   "metadata": {},
   "source": [
    "## 2.2 list comprehension"
   ]
  },
  {
   "cell_type": "code",
   "execution_count": 82,
   "id": "ba3bb5e5-e9c9-4d52-9664-a8c34297c5c4",
   "metadata": {},
   "outputs": [
    {
     "name": "stdout",
     "output_type": "stream",
     "text": [
      "[1, 2, 3, 4, 5, 6, 7, 8, 9, 10]\n"
     ]
    }
   ],
   "source": [
    "numbers = list(range(1, 11))\n",
    "print(numbers)"
   ]
  },
  {
   "cell_type": "code",
   "execution_count": 83,
   "id": "f20aa8dd-05cb-4fd2-a266-eae77175a665",
   "metadata": {},
   "outputs": [
    {
     "name": "stdout",
     "output_type": "stream",
     "text": [
      "[1, 8, 27, 64, 125, 216, 343, 512, 729, 1000]\n"
     ]
    }
   ],
   "source": [
    "# 세 제곱한 리스트로 출력\n",
    "\n",
    "result = []\n",
    "\n",
    "for i in numbers:\n",
    "    result.append(i**3)\n",
    "\n",
    "print(result)"
   ]
  },
  {
   "cell_type": "code",
   "execution_count": 86,
   "id": "774940e1-b3dc-4ebb-bc19-eabfdb70f24a",
   "metadata": {},
   "outputs": [
    {
     "name": "stdout",
     "output_type": "stream",
     "text": [
      "[1, 8, 27, 64, 125, 216, 343, 512, 729, 1000]\n"
     ]
    }
   ],
   "source": [
    "# list 안에서 for문 사용하기 (for문 익숙해지기 전까지는 지양)\n",
    "result2 = [number ** 3 for number in numbers]\n",
    "print(result2)"
   ]
  },
  {
   "cell_type": "code",
   "execution_count": 90,
   "id": "6a500a19-48b9-4723-9e9c-1fd609ee5f7b",
   "metadata": {},
   "outputs": [
    {
     "name": "stdout",
     "output_type": "stream",
     "text": [
      "[2, 4, 6, 8, 10]\n"
     ]
    }
   ],
   "source": [
    "# 짝수만 고르기\n",
    "even_list = []\n",
    "for i in numbers:\n",
    "    if i % 2 == 0:\n",
    "        even_list.append(i)\n",
    "\n",
    "print(even_list)"
   ]
  },
  {
   "cell_type": "code",
   "execution_count": 92,
   "id": "4a423e02-5038-4a21-8ce5-7f037c99999f",
   "metadata": {},
   "outputs": [
    {
     "name": "stdout",
     "output_type": "stream",
     "text": [
      "[2, 4, 6, 8, 10]\n"
     ]
    }
   ],
   "source": [
    "even_list2 = [i for i in numbers if i % 2 == 0]\n",
    "print(even_list2)"
   ]
  },
  {
   "cell_type": "code",
   "execution_count": 102,
   "id": "49a083e7-a33e-4898-9639-9a735e7dd8a0",
   "metadata": {},
   "outputs": [
    {
     "name": "stdout",
     "output_type": "stream",
     "text": [
      "my nm s sn\n"
     ]
    }
   ],
   "source": [
    "words = 'my name is seain'\n",
    "voewls = 'aeiou'\n",
    "\n",
    "# 모음 제거하기 - for문 버전\n",
    "\n",
    "for i in words:\n",
    "    if i in voewls:\n",
    "        words = words.replace(i,'')\n",
    "\n",
    "print(words)\n",
    "\n",
    "# 다른 방법\n",
    "# for char in words:\n",
    "#     if char not in vowels:\n",
    "#         result.append(char)\n",
    "\n",
    "# print(''.join(result))"
   ]
  },
  {
   "cell_type": "code",
   "execution_count": 108,
   "id": "1d527118-6f3a-455d-90b1-86ab72df36a9",
   "metadata": {},
   "outputs": [
    {
     "name": "stdout",
     "output_type": "stream",
     "text": [
      "my nm s sn\n"
     ]
    }
   ],
   "source": [
    "# comprehension 버전\n",
    "\n",
    "words = 'my name is seain'\n",
    "voewls = 'aeiou'\n",
    "\n",
    "result2 = [char for char in words if char not in voewls]\n",
    "print(''.join(result2))"
   ]
  },
  {
   "cell_type": "markdown",
   "id": "f0e9d3a1-b142-4a6c-94b2-f02f749ca1eb",
   "metadata": {},
   "source": [
    "# 3. Dictionary 메소드"
   ]
  },
  {
   "cell_type": "code",
   "execution_count": 114,
   "id": "e65fefa8-325e-40de-a0e4-5c334aaf44af",
   "metadata": {},
   "outputs": [],
   "source": [
    "info = {\n",
    "    'name': 'saein',\n",
    "    'location': 'home',\n",
    "}"
   ]
  },
  {
   "cell_type": "code",
   "execution_count": 111,
   "id": "cef69484-ef7b-467c-a3ab-5d46da25db41",
   "metadata": {},
   "outputs": [
    {
     "data": {
      "text/plain": [
       "'choi'"
      ]
     },
     "execution_count": 111,
     "metadata": {},
     "output_type": "execute_result"
    }
   ],
   "source": [
    "info['name'] = 'choi'\n",
    "info['name']"
   ]
  },
  {
   "cell_type": "code",
   "execution_count": 120,
   "id": "435de5c9-2db2-486e-be71-75a485b26d7e",
   "metadata": {},
   "outputs": [
    {
     "name": "stdout",
     "output_type": "stream",
     "text": [
      "None\n",
      "{'name': 'saein'}\n"
     ]
    }
   ],
   "source": [
    "# .pop(key[, default])\n",
    "\n",
    "print(info.pop('location',None))  # location이 없는 경우 default 출력\n",
    "print(info)"
   ]
  },
  {
   "cell_type": "code",
   "execution_count": 124,
   "id": "6217acfb-bb53-4db9-9e77-05948fc0e4d8",
   "metadata": {},
   "outputs": [
    {
     "name": "stdout",
     "output_type": "stream",
     "text": [
      "{'name': 'saein'}\n"
     ]
    }
   ],
   "source": [
    "# .update(key=value)\n",
    "info.update(name='saein')\n",
    "print(info)"
   ]
  },
  {
   "cell_type": "code",
   "execution_count": 126,
   "id": "a67ca8b5-754f-4bbb-9264-8d758f4c5b98",
   "metadata": {},
   "outputs": [
    {
     "name": "stdout",
     "output_type": "stream",
     "text": [
      "saein\n",
      "123\n"
     ]
    }
   ],
   "source": [
    "# .get(key[, default])\n",
    "print(info.get('name'))\n",
    "print(info.get('school','123'))"
   ]
  },
  {
   "cell_type": "markdown",
   "id": "b48bf935-32e4-4b94-bda3-c8b3588767a3",
   "metadata": {},
   "source": [
    "## 3.1 dict comprehension"
   ]
  },
  {
   "cell_type": "code",
   "execution_count": 127,
   "id": "74384273-6ca2-4593-a374-abc72169bc8e",
   "metadata": {},
   "outputs": [],
   "source": [
    "# {1: 1, 2: 8, 3: 27}"
   ]
  },
  {
   "cell_type": "code",
   "execution_count": 130,
   "id": "d70dba7a-b961-4eae-a235-3f2bbd61f61b",
   "metadata": {},
   "outputs": [
    {
     "name": "stdout",
     "output_type": "stream",
     "text": [
      "{1: 1, 2: 8, 3: 27}\n"
     ]
    }
   ],
   "source": [
    "# for문 버전\n",
    "\n",
    "cube_dict = {}\n",
    "for i in range(1,4):\n",
    "    cube_dict[i] = i ** 3\n",
    "\n",
    "print(cube_dict)"
   ]
  },
  {
   "cell_type": "code",
   "execution_count": 131,
   "id": "4091f37d-654d-4b83-b580-2b622d9f5101",
   "metadata": {},
   "outputs": [
    {
     "name": "stdout",
     "output_type": "stream",
     "text": [
      "{1: 1, 2: 8, 3: 27}\n"
     ]
    }
   ],
   "source": [
    "# comprehension\n",
    "\n",
    "cube_dict2 = {i : i**3 for i in range(1,4)}\n",
    "print(cube_dict2)"
   ]
  },
  {
   "cell_type": "code",
   "execution_count": 136,
   "id": "0c4c495c-d113-45be-9809-fb45552f112e",
   "metadata": {},
   "outputs": [],
   "source": [
    "# value가 50 이상인 지역만 뽑기 \n",
    "\n",
    "dust = {\n",
    "    '서울': 100,\n",
    "    '경기': 80,\n",
    "    '대전': 10,\n",
    "    '대구': 30,\n",
    "    '광주': 60\n",
    "}"
   ]
  },
  {
   "cell_type": "code",
   "execution_count": 137,
   "id": "3be65325-74ea-44f6-97f4-e0bf555c1993",
   "metadata": {},
   "outputs": [
    {
     "name": "stdout",
     "output_type": "stream",
     "text": [
      "{'서울': 100, '경기': 80, '광주': 60}\n"
     ]
    }
   ],
   "source": [
    "# for문\n",
    "\n",
    "result = {}\n",
    "for k, v in dust.items(): \n",
    "    if v >= 50:\n",
    "        result[k] = v\n",
    "\n",
    "print(result)"
   ]
  },
  {
   "cell_type": "code",
   "execution_count": 139,
   "id": "0270c45d-2540-4d13-bcf4-c1e94cbd82e1",
   "metadata": {},
   "outputs": [
    {
     "name": "stdout",
     "output_type": "stream",
     "text": [
      "{'서울': 100, '경기': 80, '광주': 60}\n"
     ]
    }
   ],
   "source": [
    "# comprehension\n",
    "\n",
    "result2 = {k: v for k,v in dust.items() if v >= 50}\n",
    "print(result2)"
   ]
  },
  {
   "cell_type": "markdown",
   "id": "7ae0ef11-39df-4ac1-b6e9-9a55fd6a0647",
   "metadata": {},
   "source": [
    "# 4. Set 메소드\n",
    "\n",
    "메소드가 작동(추가, 삭제)하는 위치는 랜덤"
   ]
  },
  {
   "cell_type": "code",
   "execution_count": 140,
   "id": "3f7c8c4d-37eb-4bdf-a316-89939a5344fc",
   "metadata": {},
   "outputs": [],
   "source": [
    "fruits = {'apple', 'banana', 'melon'}"
   ]
  },
  {
   "cell_type": "code",
   "execution_count": 143,
   "id": "7429ad49-0395-4292-87b8-9977b8ae4080",
   "metadata": {},
   "outputs": [
    {
     "name": "stdout",
     "output_type": "stream",
     "text": [
      "{'banana', 'apple', 'watermelon', 'melon'}\n",
      "{'banana', 'apple', 'watermelon', 'melon'}\n"
     ]
    }
   ],
   "source": [
    "# .add(x)\n",
    "fruits.add('watermelon')\n",
    "print(fruits)\n",
    "\n",
    "# 중복된 데이터는 없어서 또 추가해도 똑같은 결과\n",
    "fruits.add('watermelon')\n",
    "print(fruits)"
   ]
  },
  {
   "cell_type": "code",
   "execution_count": 145,
   "id": "c1967770-2388-4735-9985-78b2a4454ed4",
   "metadata": {},
   "outputs": [
    {
     "name": "stdout",
     "output_type": "stream",
     "text": [
      "{'banana', 'apple', 'melon', 'g', 'watermelon', 'r', 'a', 'p', 'e'}\n",
      "{'banana', 'apple', 'orange', 'melon', 'g', 'watermelon', 'r', 'pear', 'a', 'p', 'e'}\n"
     ]
    }
   ],
   "source": [
    "# .update()\n",
    "\n",
    "fruits.update('grape')\n",
    "print(fruits)\n",
    "fruits.update({'orange', 'pear'})\n",
    "print(fruits)"
   ]
  },
  {
   "cell_type": "code",
   "execution_count": 146,
   "id": "bfaf4c03-9f2a-4a3f-9e5c-a37ee621521d",
   "metadata": {},
   "outputs": [
    {
     "name": "stdout",
     "output_type": "stream",
     "text": [
      "{'banana', 'apple', 'melon', 'g', 'watermelon', 'r', 'pear', 'a', 'p', 'e'}\n"
     ]
    }
   ],
   "source": [
    "# .remove()\n",
    "\n",
    "fruits.remove('orange')\n",
    "print(fruits)"
   ]
  },
  {
   "cell_type": "code",
   "execution_count": 147,
   "id": "41a91887-838f-4e85-8adb-b7891fb4056b",
   "metadata": {},
   "outputs": [
    {
     "name": "stdout",
     "output_type": "stream",
     "text": [
      "{'apple', 'melon', 'g', 'watermelon', 'r', 'pear', 'a', 'p', 'e'}\n"
     ]
    }
   ],
   "source": [
    "# .pop()\n",
    "fruits.pop()\n",
    "print(fruits)"
   ]
  },
  {
   "cell_type": "markdown",
   "id": "bd39b87f-da56-41d6-a900-8968e30e19ea",
   "metadata": {},
   "source": [
    "# 5. map(), zip(), filter()"
   ]
  },
  {
   "cell_type": "markdown",
   "id": "134825be-359c-4c0b-8fd7-e4ff7c6512b8",
   "metadata": {},
   "source": [
    "## 5.1 map()\n",
    "```python\n",
    "map(function, iterable)\n",
    "```"
   ]
  },
  {
   "cell_type": "code",
   "execution_count": 149,
   "id": "a5133fda-f0ec-477d-8d7d-14afbe003a2e",
   "metadata": {},
   "outputs": [
    {
     "name": "stdout",
     "output_type": "stream",
     "text": [
      "<map object at 0x000001FF10FBE500>\n",
      "['1', '2', '3']\n"
     ]
    }
   ],
   "source": [
    "a = [1,2,3]\n",
    "\n",
    "number_str = map(str, a)\n",
    "print(number_str)\n",
    "print(list(number_str))"
   ]
  },
  {
   "cell_type": "code",
   "execution_count": 150,
   "id": "b05267a1-3b35-4c68-b826-6c946b93a2df",
   "metadata": {},
   "outputs": [],
   "source": [
    "def cube(x):\n",
    "    return x ** 3"
   ]
  },
  {
   "cell_type": "code",
   "execution_count": 152,
   "id": "926537ae-e435-4e6b-a91e-9e5551220471",
   "metadata": {},
   "outputs": [
    {
     "name": "stdout",
     "output_type": "stream",
     "text": [
      "[1, 8, 27]\n"
     ]
    }
   ],
   "source": [
    "# for문을 활용하여 모든 item에 cube 함수 실행\n",
    "result = []\n",
    "for i in a:\n",
    "    result.append(cube(i))\n",
    "\n",
    "print(result)"
   ]
  },
  {
   "cell_type": "code",
   "execution_count": 155,
   "id": "d3b1895e-c820-4ee2-b5c2-57939ed52100",
   "metadata": {},
   "outputs": [
    {
     "name": "stdout",
     "output_type": "stream",
     "text": [
      "[1, 8, 27]\n"
     ]
    }
   ],
   "source": [
    "# map()을 활용하여 모든 item에 cube 함수 실행\n",
    "result2 = map(cube,a)\n",
    "print(list(result2))"
   ]
  },
  {
   "cell_type": "code",
   "execution_count": 158,
   "id": "967a79f2-772a-442f-b062-44b95ceba14f",
   "metadata": {},
   "outputs": [
    {
     "name": "stdin",
     "output_type": "stream",
     "text": [
      " 1 2 3 4 5\n"
     ]
    },
    {
     "name": "stdout",
     "output_type": "stream",
     "text": [
      "[1, 2, 3, 4, 5]\n"
     ]
    }
   ],
   "source": [
    "numbers = list(map(int,input().split()))\n",
    "print(numbers)"
   ]
  },
  {
   "cell_type": "markdown",
   "id": "d8c6f831-6b4f-4881-95ed-c2ec9d23339b",
   "metadata": {},
   "source": [
    "## 5.2 zip()"
   ]
  },
  {
   "cell_type": "code",
   "execution_count": 159,
   "id": "4e1e5095-5ee3-4fb6-8fb2-9601150df1c2",
   "metadata": {},
   "outputs": [],
   "source": [
    "a = [1,2,3]\n",
    "b = [100,200,300]"
   ]
  },
  {
   "cell_type": "code",
   "execution_count": 162,
   "id": "d536ea93-2c2c-47c0-88d8-b0fc0e1a4b3c",
   "metadata": {},
   "outputs": [
    {
     "name": "stdout",
     "output_type": "stream",
     "text": [
      "<zip object at 0x000001FF1150B040>\n",
      "[(1, 100), (2, 200), (3, 300)]\n"
     ]
    }
   ],
   "source": [
    "result = zip(a,b)\n",
    "print(result)\n",
    "print(list(result))"
   ]
  },
  {
   "cell_type": "markdown",
   "id": "34f2d84a-8f6d-4b21-bfd4-cf7f5a0444fb",
   "metadata": {},
   "source": [
    "## 5.3 filter()\n",
    "\n",
    "function의 return 값이 무조건 True 혹은 False여야 함\n",
    "\n",
    "```python\n",
    "filter(function, iterable)\n",
    "```"
   ]
  },
  {
   "cell_type": "code",
   "execution_count": 163,
   "id": "a9becdcf-6b36-484c-9905-b240f60a3df5",
   "metadata": {},
   "outputs": [],
   "source": [
    "def is_odd(x):\n",
    "    # if x % 2 == 1:\n",
    "    #     return True\n",
    "    # else:\n",
    "        # return False\n",
    "    return bool(x % 2)"
   ]
  },
  {
   "cell_type": "code",
   "execution_count": 165,
   "id": "ad70678f-e410-4404-a209-6b93fc819123",
   "metadata": {},
   "outputs": [
    {
     "name": "stdout",
     "output_type": "stream",
     "text": [
      "<filter object at 0x000001FF10FBE800>\n",
      "[1, 3, 5]\n"
     ]
    }
   ],
   "source": [
    "numbers = [1,2,3,4,5]\n",
    "result = filter(is_odd,numbers)\n",
    "print(result)\n",
    "print(list(result))"
   ]
  }
 ],
 "metadata": {
  "kernelspec": {
   "display_name": "Python 3 (ipykernel)",
   "language": "python",
   "name": "python3"
  },
  "language_info": {
   "codemirror_mode": {
    "name": "ipython",
    "version": 3
   },
   "file_extension": ".py",
   "mimetype": "text/x-python",
   "name": "python",
   "nbconvert_exporter": "python",
   "pygments_lexer": "ipython3",
   "version": "3.11.4"
  }
 },
 "nbformat": 4,
 "nbformat_minor": 5
}
