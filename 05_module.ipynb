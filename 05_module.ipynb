{
 "cells": [
  {
   "cell_type": "markdown",
   "id": "d1d52152-dafc-439b-9834-253b1f29f87d",
   "metadata": {},
   "source": [
    "# 1. 모듈"
   ]
  },
  {
   "cell_type": "code",
   "execution_count": 1,
   "id": "56801494-b181-498e-a6a7-a25445130f6f",
   "metadata": {},
   "outputs": [],
   "source": [
    "import fibo"
   ]
  },
  {
   "cell_type": "code",
   "execution_count": 2,
   "id": "de6815df-23b0-4f4b-9c46-31dcc60f042d",
   "metadata": {},
   "outputs": [
    {
     "name": "stdout",
     "output_type": "stream",
     "text": [
      "<module 'fibo' from 'C:\\\\Users\\\\82102\\\\Desktop\\\\camp29\\\\python\\\\fibo.py'>\n"
     ]
    }
   ],
   "source": [
    "print(fibo)"
   ]
  },
  {
   "cell_type": "code",
   "execution_count": 3,
   "id": "3549c67a-8a52-4a86-a0f1-37e6bc9838e2",
   "metadata": {},
   "outputs": [
    {
     "data": {
      "text/plain": [
       "5"
      ]
     },
     "execution_count": 3,
     "metadata": {},
     "output_type": "execute_result"
    }
   ],
   "source": [
    "fibo.fib_loop(4)"
   ]
  },
  {
   "cell_type": "code",
   "execution_count": 4,
   "id": "8fea27d0-3ecf-4b4c-aca4-410cfdee3d9f",
   "metadata": {},
   "outputs": [
    {
     "data": {
      "text/plain": [
       "3"
      ]
     },
     "execution_count": 4,
     "metadata": {},
     "output_type": "execute_result"
    }
   ],
   "source": [
    "fibo.fib_rec(3)"
   ]
  },
  {
   "cell_type": "markdown",
   "id": "6e5fe98b-7444-4b48-9878-596ecafbd4c9",
   "metadata": {},
   "source": [
    "# 2. 패키지\n",
    "\n",
    "```python\n",
    "myPackage/\n",
    "    __init__.py\n",
    "    math/\n",
    "        __init__.py\n",
    "        fibo.py\n",
    "        formula.py\n",
    "```\n",
    "\n",
    "패키지 안에 `__init__.py` 파일이 있어야 패키지로 인식"
   ]
  },
  {
   "cell_type": "code",
   "execution_count": 5,
   "id": "3dd0505d-d3c9-4d1b-a5ac-c6e763a563ff",
   "metadata": {},
   "outputs": [],
   "source": [
    "# 패키지 폴더 전체 추가\n",
    "import myPackage"
   ]
  },
  {
   "cell_type": "code",
   "execution_count": 6,
   "id": "35456ac8-d03e-4f42-b906-7bb7d437926c",
   "metadata": {},
   "outputs": [
    {
     "name": "stdout",
     "output_type": "stream",
     "text": [
      "<module 'myPackage' from 'C:\\\\Users\\\\82102\\\\Desktop\\\\camp29\\\\python\\\\myPackage\\\\__init__.py'>\n"
     ]
    }
   ],
   "source": [
    "print(myPackage)"
   ]
  },
  {
   "cell_type": "code",
   "execution_count": 14,
   "id": "498a81d2-65aa-4bc5-9deb-1925b082f8e4",
   "metadata": {},
   "outputs": [],
   "source": [
    "# 패키지에서 필요한 모듈을 꺼내오는 코드\n",
    "from myPackage.math import formula"
   ]
  },
  {
   "cell_type": "code",
   "execution_count": 8,
   "id": "911b4abc-b729-4a63-99f7-994ca04248a9",
   "metadata": {},
   "outputs": [
    {
     "data": {
      "text/plain": [
       "3.14"
      ]
     },
     "execution_count": 8,
     "metadata": {},
     "output_type": "execute_result"
    }
   ],
   "source": [
    "formula.pi"
   ]
  },
  {
   "cell_type": "code",
   "execution_count": 9,
   "id": "d46f31ae-816a-4834-98db-d01dd895a2b7",
   "metadata": {},
   "outputs": [
    {
     "data": {
      "text/plain": [
       "3"
      ]
     },
     "execution_count": 9,
     "metadata": {},
     "output_type": "execute_result"
    }
   ],
   "source": [
    "formula.my_max(1,3)"
   ]
  },
  {
   "cell_type": "code",
   "execution_count": 15,
   "id": "789cb5a7-3a5d-4826-8548-f0a3f3de99bc",
   "metadata": {},
   "outputs": [],
   "source": [
    "# 경로에 있는 모듈이 가지고 있는 모든 변수, 함수를 추가\n",
    "from myPackage.math.fibo import *"
   ]
  },
  {
   "cell_type": "code",
   "execution_count": 16,
   "id": "7f89488b-f0f1-40f8-86d1-87f446358e04",
   "metadata": {},
   "outputs": [
    {
     "data": {
      "text/plain": [
       "89"
      ]
     },
     "execution_count": 16,
     "metadata": {},
     "output_type": "execute_result"
    }
   ],
   "source": [
    "fib_loop(10)"
   ]
  },
  {
   "cell_type": "code",
   "execution_count": 18,
   "id": "374aab12-6ec4-4e1b-a3a1-22b11377c7e1",
   "metadata": {},
   "outputs": [
    {
     "name": "stdout",
     "output_type": "stream",
     "text": [
      "1234\n"
     ]
    }
   ],
   "source": [
    "formula = 1234\n",
    "from myPackage.math import formula as f\n",
    "\n",
    "print(formula)"
   ]
  },
  {
   "cell_type": "markdown",
   "id": "c27ac5e1-4e7d-4e0a-8903-4036dca5a24f",
   "metadata": {},
   "source": [
    "# 3. 파이썬 내장 패키지 "
   ]
  },
  {
   "cell_type": "markdown",
   "id": "f050a2ea-71bd-4bf6-9b17-9559209474ac",
   "metadata": {},
   "source": [
    "## 3.1 math "
   ]
  },
  {
   "cell_type": "code",
   "execution_count": 19,
   "id": "85f77c7c-ad13-4d56-95bb-ef64a0d139a0",
   "metadata": {},
   "outputs": [],
   "source": [
    "import math"
   ]
  },
  {
   "cell_type": "code",
   "execution_count": 21,
   "id": "29852ccf-e126-4dd7-94a5-dbe3ee51996d",
   "metadata": {},
   "outputs": [
    {
     "data": {
      "text/plain": [
       "3.141592653589793"
      ]
     },
     "execution_count": 21,
     "metadata": {},
     "output_type": "execute_result"
    }
   ],
   "source": [
    "math.pi"
   ]
  },
  {
   "cell_type": "code",
   "execution_count": 22,
   "id": "a125cbe9-2588-4601-bf22-53c24cbf2b40",
   "metadata": {},
   "outputs": [
    {
     "data": {
      "text/plain": [
       "2.718281828459045"
      ]
     },
     "execution_count": 22,
     "metadata": {},
     "output_type": "execute_result"
    }
   ],
   "source": [
    "math.e"
   ]
  },
  {
   "cell_type": "code",
   "execution_count": 23,
   "id": "797957ca-ff34-4918-be7e-71bcefc2b341",
   "metadata": {},
   "outputs": [],
   "source": [
    "pi = 3.141592"
   ]
  },
  {
   "cell_type": "code",
   "execution_count": 24,
   "id": "97acda5c-03d9-4011-8d47-0cb9433a90ee",
   "metadata": {},
   "outputs": [
    {
     "data": {
      "text/plain": [
       "4"
      ]
     },
     "execution_count": 24,
     "metadata": {},
     "output_type": "execute_result"
    }
   ],
   "source": [
    "math.ceil(pi)"
   ]
  },
  {
   "cell_type": "code",
   "execution_count": 25,
   "id": "a3934010-f05c-475b-bf54-e9e8abde6f2a",
   "metadata": {},
   "outputs": [
    {
     "data": {
      "text/plain": [
       "3"
      ]
     },
     "execution_count": 25,
     "metadata": {},
     "output_type": "execute_result"
    }
   ],
   "source": [
    "math.floor(pi)"
   ]
  },
  {
   "cell_type": "code",
   "execution_count": 26,
   "id": "1a0874fc-56e6-4642-8dad-b0bda1811446",
   "metadata": {},
   "outputs": [
    {
     "data": {
      "text/plain": [
       "3.0"
      ]
     },
     "execution_count": 26,
     "metadata": {},
     "output_type": "execute_result"
    }
   ],
   "source": [
    "math.sqrt(9)"
   ]
  },
  {
   "cell_type": "markdown",
   "id": "778da3bb-fedf-4c95-9b7b-2efd577d17af",
   "metadata": {},
   "source": [
    "## 3.2 random"
   ]
  },
  {
   "cell_type": "code",
   "execution_count": 27,
   "id": "5dc32e16-f76a-4e6d-93aa-3eeb36c00666",
   "metadata": {},
   "outputs": [],
   "source": [
    "import random"
   ]
  },
  {
   "cell_type": "code",
   "execution_count": 29,
   "id": "6620e244-e5d8-4fff-9546-812fb9f19f60",
   "metadata": {},
   "outputs": [
    {
     "data": {
      "text/plain": [
       "0.42982335221088375"
      ]
     },
     "execution_count": 29,
     "metadata": {},
     "output_type": "execute_result"
    }
   ],
   "source": [
    "# 0부터 1사이 랜덤한 소수 출력\n",
    "random.random()"
   ]
  },
  {
   "cell_type": "code",
   "execution_count": 30,
   "id": "da1f3070-6e89-4f70-b578-363c175f0822",
   "metadata": {},
   "outputs": [
    {
     "data": {
      "text/plain": [
       "1"
      ]
     },
     "execution_count": 30,
     "metadata": {},
     "output_type": "execute_result"
    }
   ],
   "source": [
    "random.randint(1,10)"
   ]
  },
  {
   "cell_type": "code",
   "execution_count": 41,
   "id": "aaa6c033-f2ec-486e-8ed5-192b184b4ba4",
   "metadata": {},
   "outputs": [
    {
     "data": {
      "text/plain": [
       "0.13436424411240122"
      ]
     },
     "execution_count": 41,
     "metadata": {},
     "output_type": "execute_result"
    }
   ],
   "source": [
    "# seed\n",
    "# seed 값을 설정하면 고정된 난수가 나옴\n",
    "\n",
    "random.seed(1)\n",
    "random.random()"
   ]
  },
  {
   "cell_type": "code",
   "execution_count": 40,
   "id": "48011ea8-2deb-417a-96fb-72085292a08f",
   "metadata": {},
   "outputs": [
    {
     "name": "stdout",
     "output_type": "stream",
     "text": [
      "[2, 1, 3, 5, 4]\n"
     ]
    }
   ],
   "source": [
    "# shuffle\n",
    "\n",
    "a = [1,2,3,4,5]\n",
    "random.shuffle(a)\n",
    "print(a)"
   ]
  },
  {
   "cell_type": "code",
   "execution_count": 48,
   "id": "60ca0b9d-6ccc-484b-a05c-a240fd5b6be8",
   "metadata": {},
   "outputs": [
    {
     "name": "stdout",
     "output_type": "stream",
     "text": [
      "4\n",
      "가위\n"
     ]
    }
   ],
   "source": [
    "# choice\n",
    "\n",
    "a = [1,2,3,4,5]  # int는 randint 쓰는 게 더 나음\n",
    "b = ['가위', '바위', '보']\n",
    "\n",
    "print(random.choice(a))\n",
    "print(random.choice(b))"
   ]
  },
  {
   "cell_type": "code",
   "execution_count": 54,
   "id": "8de004d3-9399-4d27-817f-4382674f5a08",
   "metadata": {},
   "outputs": [
    {
     "data": {
      "text/plain": [
       "[15, 29, 32, 36, 45, 23]"
      ]
     },
     "execution_count": 54,
     "metadata": {},
     "output_type": "execute_result"
    }
   ],
   "source": [
    "# sample (비복원추출)\n",
    "\n",
    "a = range(1,46)\n",
    "random.sample(a,6)"
   ]
  },
  {
   "cell_type": "markdown",
   "id": "20ec9edf-40a1-4ad3-9360-982f726188a4",
   "metadata": {},
   "source": [
    "## 3.3 datetime"
   ]
  },
  {
   "cell_type": "code",
   "execution_count": 55,
   "id": "d8ce45da-60dd-451e-b87f-98f69be52d83",
   "metadata": {},
   "outputs": [],
   "source": [
    "from datetime import datetime"
   ]
  },
  {
   "cell_type": "code",
   "execution_count": 56,
   "id": "b53e90d6-d78d-46ea-88e3-f454b1b293e1",
   "metadata": {},
   "outputs": [
    {
     "name": "stdout",
     "output_type": "stream",
     "text": [
      "2023-07-31 16:21:01.152218\n"
     ]
    }
   ],
   "source": [
    "now = datetime.now()\n",
    "print(now)"
   ]
  },
  {
   "cell_type": "code",
   "execution_count": 57,
   "id": "65488535-6662-45a0-ae1b-e87d0acbeebc",
   "metadata": {},
   "outputs": [
    {
     "name": "stdout",
     "output_type": "stream",
     "text": [
      "2023-07-31 16:21:36.402577\n"
     ]
    }
   ],
   "source": [
    "today = datetime.today()\n",
    "print(today)"
   ]
  },
  {
   "cell_type": "code",
   "execution_count": 58,
   "id": "fd404448-f2fb-4d73-85d3-08ee5f06953f",
   "metadata": {},
   "outputs": [
    {
     "name": "stdout",
     "output_type": "stream",
     "text": [
      "2023-07-31 07:23:14.558897\n"
     ]
    }
   ],
   "source": [
    "utc = datetime.utcnow()\n",
    "print(utc)"
   ]
  },
  {
   "cell_type": "code",
   "execution_count": 63,
   "id": "e236d7f6-e4e2-4cbb-beb4-9688612b6e6c",
   "metadata": {},
   "outputs": [
    {
     "name": "stdout",
     "output_type": "stream",
     "text": [
      "2023년 07월 31일\n",
      "2023/ 07/31\n"
     ]
    }
   ],
   "source": [
    "print(now.strftime('%Y년 %m월 %d일'))\n",
    "print(now.strftime('%Y/ %m/%d'))"
   ]
  },
  {
   "cell_type": "code",
   "execution_count": 67,
   "id": "9d2e43b8-fdd4-4be4-9142-4ebfb8d94030",
   "metadata": {},
   "outputs": [
    {
     "data": {
      "text/plain": [
       "2023"
      ]
     },
     "execution_count": 67,
     "metadata": {},
     "output_type": "execute_result"
    }
   ],
   "source": [
    "now.year"
   ]
  },
  {
   "cell_type": "code",
   "execution_count": 68,
   "id": "dd19dbe4-03d6-44d8-b722-92b9c8821ae7",
   "metadata": {},
   "outputs": [
    {
     "data": {
      "text/plain": [
       "31"
      ]
     },
     "execution_count": 68,
     "metadata": {},
     "output_type": "execute_result"
    }
   ],
   "source": [
    "now.day"
   ]
  },
  {
   "cell_type": "code",
   "execution_count": 69,
   "id": "e37adfba-8471-469e-a7b3-2440c5991db4",
   "metadata": {},
   "outputs": [
    {
     "data": {
      "text/plain": [
       "0"
      ]
     },
     "execution_count": 69,
     "metadata": {},
     "output_type": "execute_result"
    }
   ],
   "source": [
    "# weekdat => 0~6, 월~일\n",
    "now.weekday()"
   ]
  },
  {
   "cell_type": "code",
   "execution_count": 71,
   "id": "75ee1d40-a164-4d2e-8ba8-c95a14afcc34",
   "metadata": {},
   "outputs": [
    {
     "name": "stdout",
     "output_type": "stream",
     "text": [
      "2021-01-01 00:00:00\n"
     ]
    }
   ],
   "source": [
    "birth = datetime(2021,1,1)\n",
    "print(birth)"
   ]
  },
  {
   "cell_type": "code",
   "execution_count": 72,
   "id": "01faa4d3-7ab4-474c-82d7-4047fb12cf86",
   "metadata": {},
   "outputs": [],
   "source": [
    "from datetime import timedelta"
   ]
  },
  {
   "cell_type": "code",
   "execution_count": 73,
   "id": "f6f3ca24-7606-41b6-bdec-187ae5d4bc0f",
   "metadata": {},
   "outputs": [
    {
     "name": "stdout",
     "output_type": "stream",
     "text": [
      "3 days, 0:00:00\n"
     ]
    }
   ],
   "source": [
    "future = timedelta(days = 3)\n",
    "print(future)"
   ]
  },
  {
   "cell_type": "code",
   "execution_count": 74,
   "id": "4763485a-9e17-4e8d-866a-fb778478a29d",
   "metadata": {},
   "outputs": [
    {
     "data": {
      "text/plain": [
       "datetime.datetime(2021, 1, 4, 0, 0)"
      ]
     },
     "execution_count": 74,
     "metadata": {},
     "output_type": "execute_result"
    }
   ],
   "source": [
    "birth + future"
   ]
  },
  {
   "cell_type": "code",
   "execution_count": 76,
   "id": "4660d7eb-1b42-4850-a5eb-7f968d37115c",
   "metadata": {},
   "outputs": [],
   "source": [
    "christmas = datetime(2023,12,25)"
   ]
  },
  {
   "cell_type": "code",
   "execution_count": 77,
   "id": "538f3ecc-e609-4b08-a190-6a8e7881228e",
   "metadata": {},
   "outputs": [
    {
     "data": {
      "text/plain": [
       "datetime.timedelta(days=146, seconds=27538, microseconds=847782)"
      ]
     },
     "execution_count": 77,
     "metadata": {},
     "output_type": "execute_result"
    }
   ],
   "source": [
    "christmas - now"
   ]
  },
  {
   "cell_type": "code",
   "execution_count": null,
   "id": "cb1b55ed-21f9-46b2-a6bc-46ce87679791",
   "metadata": {},
   "outputs": [],
   "source": []
  }
 ],
 "metadata": {
  "kernelspec": {
   "display_name": "Python 3 (ipykernel)",
   "language": "python",
   "name": "python3"
  },
  "language_info": {
   "codemirror_mode": {
    "name": "ipython",
    "version": 3
   },
   "file_extension": ".py",
   "mimetype": "text/x-python",
   "name": "python",
   "nbconvert_exporter": "python",
   "pygments_lexer": "ipython3",
   "version": "3.11.4"
  }
 },
 "nbformat": 4,
 "nbformat_minor": 5
}
