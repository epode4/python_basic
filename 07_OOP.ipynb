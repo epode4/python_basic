{
 "cells": [
  {
   "cell_type": "markdown",
   "id": "a09fde27-0001-4799-a8b3-ed641bdda30e",
   "metadata": {},
   "source": [
    "# 객체지향 프로그램(**O**bject-**O**riented **P**rogramming)\n",
    "\n",
    "- 클래스(class) : 같은 종류의 집단에 속하는 속성(attribute)과 행위(method)를 **정의**한 것\n",
    "- 인스턴스(instance) : 클래스를 실제로 메모리상에 할당한 것\n",
    "- 속성(attribute) : 클래스/인스턴스가 가지고 있는 **데이터**/값\n",
    "- 행위(method) : 클래스/인스턴스가 가지고 있는 **함수**/기능\n",
    "\n",
    "> class + instance = 객체"
   ]
  },
  {
   "cell_type": "code",
   "execution_count": 1,
   "id": "54bdf739-6966-4a52-ae09-e7bc5a7221d7",
   "metadata": {},
   "outputs": [
    {
     "name": "stdout",
     "output_type": "stream",
     "text": [
      "(1+2j)\n"
     ]
    }
   ],
   "source": [
    "number = 1 + 2j\n",
    "print(number)"
   ]
  },
  {
   "cell_type": "code",
   "execution_count": 8,
   "id": "ec92f11a-1ab1-4f76-9901-dcb309544394",
   "metadata": {},
   "outputs": [
    {
     "name": "stdout",
     "output_type": "stream",
     "text": [
      "1.0\n",
      "2.0\n"
     ]
    }
   ],
   "source": [
    "# 속성 부를 때는 괄호 없이\n",
    "print(number.real)\n",
    "print(number.imag)"
   ]
  },
  {
   "cell_type": "code",
   "execution_count": 9,
   "id": "b47fc796-42b4-4f5e-b85d-e6e71b22a954",
   "metadata": {},
   "outputs": [
    {
     "name": "stdout",
     "output_type": "stream",
     "text": [
      "<class 'complex'>\n"
     ]
    }
   ],
   "source": [
    "print(type(number))"
   ]
  },
  {
   "cell_type": "code",
   "execution_count": 10,
   "id": "c07f33f7-060d-42a5-a4b1-394dc15281ba",
   "metadata": {},
   "outputs": [
    {
     "name": "stdout",
     "output_type": "stream",
     "text": [
      "<class 'list'>\n"
     ]
    }
   ],
   "source": [
    "my_list = [1,2,3,4,5]\n",
    "print(type(my_list))\n",
    "\n",
    "# 행위 부를 때는 괄호 사용\n",
    "my_list.sort()"
   ]
  },
  {
   "cell_type": "code",
   "execution_count": 11,
   "id": "2c56d10e-bf70-40b5-aa9c-886e1dee3dfc",
   "metadata": {},
   "outputs": [],
   "source": [
    "power = False\n",
    "number = '010-1234-1234'\n",
    "book = {\n",
    "    '홍길동': '010-1111-1111',\n",
    "    '이순신': '010-2222-2222',\n",
    "}\n",
    "model = 'iPhone12'"
   ]
  },
  {
   "cell_type": "code",
   "execution_count": 12,
   "id": "0e192e67-3e27-4e0c-917f-17b658d74566",
   "metadata": {},
   "outputs": [],
   "source": [
    "def on():\n",
    "    global power\n",
    "    if power == False:\n",
    "        power = True\n",
    "        print('핸드폰이 켜졌습니다.')"
   ]
  },
  {
   "cell_type": "code",
   "execution_count": 14,
   "id": "a1f14680-d15d-4416-8122-e5141c6b1673",
   "metadata": {},
   "outputs": [
    {
     "name": "stdout",
     "output_type": "stream",
     "text": [
      "핸드폰이 켜졌습니다.\n"
     ]
    }
   ],
   "source": [
    "on()"
   ]
  },
  {
   "cell_type": "markdown",
   "id": "bdf69be0-5ec0-4f71-9524-23c989ae49ca",
   "metadata": {},
   "source": [
    "## Class\n",
    "\n",
    "- 클래스 선언\n",
    "```python\n",
    "class ClassName:\n",
    "    aattribute = value\n",
    "\n",
    "    def method_name(self):\n",
    "        code    \n",
    "```\n",
    "\n",
    "- 인스턴스화(실행)\n",
    "```python\n",
    "ClassName()\n",
    "```"
   ]
  },
  {
   "cell_type": "code",
   "execution_count": 15,
   "id": "59185aa7-7c6d-4656-b1a4-6a3e7fe83ae2",
   "metadata": {},
   "outputs": [],
   "source": [
    "# 선언\n",
    "class MyClass:\n",
    "    name = 'kim'\n",
    "\n",
    "    def hello(self):\n",
    "        return 'hello'"
   ]
  },
  {
   "cell_type": "code",
   "execution_count": 22,
   "id": "bba4422b-15c2-42c2-b247-e851a3ad08e9",
   "metadata": {},
   "outputs": [
    {
     "name": "stdout",
     "output_type": "stream",
     "text": [
      "kim\n",
      "hello\n",
      "kim\n",
      "hello\n"
     ]
    }
   ],
   "source": [
    "# 인스턴스화\n",
    "\n",
    "a = MyClass()\n",
    "\n",
    "print(a.name)  # name class의 속성 출력\n",
    "print(a.hello())   # name class의 행위 출력\n",
    "\n",
    "b = MyClass()\n",
    "\n",
    "print(b.name)\n",
    "print(b.hello())"
   ]
  },
  {
   "cell_type": "code",
   "execution_count": 32,
   "id": "d720938d-c648-4698-bbd2-99cf9ea2ec0c",
   "metadata": {},
   "outputs": [],
   "source": [
    "class Phone:\n",
    "    power = False\n",
    "    number = '010-0000-0000'\n",
    "    book = {}\n",
    "    model = ''\n",
    "\n",
    "    def on(self):\n",
    "        if self.power == False:\n",
    "            self.power = True\n",
    "\n",
    "    def off(self):\n",
    "        if self.power == True:\n",
    "            self.power = False\n",
    "\n",
    "    def call(self, target):\n",
    "        if self.power == True:\n",
    "            print(f'내 번호는 {self.number}입니다.')\n",
    "            print(f'{target} 번호로 전화 거는 중')\n",
    "        else:\n",
    "            print('핸드폰을 켜주세요.')"
   ]
  },
  {
   "cell_type": "code",
   "execution_count": 33,
   "id": "42437892-ca49-4883-8639-fc3a699bdcbd",
   "metadata": {},
   "outputs": [],
   "source": [
    "my_phone = Phone()\n",
    "your_phone = Phone()"
   ]
  },
  {
   "cell_type": "code",
   "execution_count": 34,
   "id": "e6a51047-126d-454c-86cb-21fe3d2be340",
   "metadata": {},
   "outputs": [
    {
     "name": "stdout",
     "output_type": "stream",
     "text": [
      "010-1234-1234\n"
     ]
    }
   ],
   "source": [
    "my_phone.number = '010-1234-1234'\n",
    "print(my_phone.number)"
   ]
  },
  {
   "cell_type": "code",
   "execution_count": 35,
   "id": "f73602c1-6c36-4d60-85b1-28fc494eaee4",
   "metadata": {},
   "outputs": [
    {
     "data": {
      "text/plain": [
       "'010-0000-0000'"
      ]
     },
     "execution_count": 35,
     "metadata": {},
     "output_type": "execute_result"
    }
   ],
   "source": [
    "your_phone.number"
   ]
  },
  {
   "cell_type": "code",
   "execution_count": 36,
   "id": "e8ea2d44-e4ab-4b92-89d6-6da5ce71b07f",
   "metadata": {},
   "outputs": [
    {
     "data": {
      "text/plain": [
       "False"
      ]
     },
     "execution_count": 36,
     "metadata": {},
     "output_type": "execute_result"
    }
   ],
   "source": [
    "my_phone.power"
   ]
  },
  {
   "cell_type": "code",
   "execution_count": 37,
   "id": "5f57d43b-fda4-4b2c-9a18-3f9060660010",
   "metadata": {},
   "outputs": [],
   "source": [
    "my_phone.on()"
   ]
  },
  {
   "cell_type": "code",
   "execution_count": 38,
   "id": "d729b8a4-2f39-418c-9b68-c8944cedc655",
   "metadata": {},
   "outputs": [
    {
     "data": {
      "text/plain": [
       "True"
      ]
     },
     "execution_count": 38,
     "metadata": {},
     "output_type": "execute_result"
    }
   ],
   "source": [
    "my_phone.power"
   ]
  },
  {
   "cell_type": "code",
   "execution_count": 39,
   "id": "27d64f8e-c6e8-4482-95c2-45b434a984f1",
   "metadata": {},
   "outputs": [
    {
     "name": "stdout",
     "output_type": "stream",
     "text": [
      "내 번호는 010-1234-1234입니다.\n",
      "112 번호로 전화 거는 중\n"
     ]
    }
   ],
   "source": [
    "my_phone.call('112')"
   ]
  },
  {
   "cell_type": "code",
   "execution_count": 51,
   "id": "bb43c580-087b-42c2-b7bf-4f21f0147d59",
   "metadata": {},
   "outputs": [],
   "source": [
    "# 연습\n",
    "class MyList:\n",
    "    data = []\n",
    "\n",
    "    def append(self, item):\n",
    "        self.data = self.data + [item]\n",
    "\n",
    "    # data의 제일 마지막 요소를 삭제하고, 삭제된 요소를 리턴\n",
    "    def pop(self):\n",
    "        num = self.data[-1]\n",
    "        self.data = self.data[:-1]\n",
    "        return num"
   ]
  },
  {
   "cell_type": "code",
   "execution_count": 56,
   "id": "be42c45c-77e2-4e50-9cd7-0744cbcccd5d",
   "metadata": {},
   "outputs": [
    {
     "name": "stdout",
     "output_type": "stream",
     "text": [
      "[]\n",
      "[5, 1, 10]\n",
      "10\n",
      "[5, 1]\n"
     ]
    }
   ],
   "source": [
    "list_a = MyList()\n",
    "print(list_a.data)\n",
    "\n",
    "list_a.append(5)\n",
    "list_a.append(1)\n",
    "list_a.append(10)\n",
    "print(list_a.data)\n",
    "\n",
    "print(list_a.pop())\n",
    "print(list_a.data)"
   ]
  },
  {
   "cell_type": "code",
   "execution_count": 53,
   "id": "5dcf55dc-d18c-4a90-8715-96d8755dbdc4",
   "metadata": {},
   "outputs": [
    {
     "name": "stdout",
     "output_type": "stream",
     "text": [
      "[]\n",
      "[2, 4, 6]\n"
     ]
    }
   ],
   "source": [
    "list_b = MyList()\n",
    "print(list_b.data)\n",
    "\n",
    "list_b.append(2)\n",
    "list_b.append(4)\n",
    "list_b.append(6)\n",
    "\n",
    "print(list_b.data)"
   ]
  },
  {
   "cell_type": "code",
   "execution_count": 57,
   "id": "7fbf48c3-10a3-4593-9390-ac9e832cd4b4",
   "metadata": {},
   "outputs": [
    {
     "data": {
      "text/plain": [
       "'kim'"
      ]
     },
     "execution_count": 57,
     "metadata": {},
     "output_type": "execute_result"
    }
   ],
   "source": [
    "# 정리\n",
    "class Person: # 클래스 정의(선언) : 클래스 객체 생성\n",
    "    name = 'kim' # 속성(attribute) : 변수/값/데이터\n",
    "\n",
    "    def hello(self): # 행동(method) : 함수/기능\n",
    "        return self.name\n",
    "\n",
    "p = Person() # 인스턴스화/인스턴스 객체를 생성\n",
    "p.name # 속성을 호출\n",
    "p.hello() # 메소드를 실행"
   ]
  },
  {
   "cell_type": "code",
   "execution_count": 89,
   "id": "14be2311-3fb3-4e81-b8cb-320b6b8839a2",
   "metadata": {},
   "outputs": [],
   "source": [
    "class Fan:\n",
    "    name = 'Super Cool'\n",
    "    version = 'Samsung'\n",
    "    status = 'off'\n",
    "    power = 0\n",
    "\n",
    "    def start(self):\n",
    "        if self.status == 'off':\n",
    "            self.status = 'on'\n",
    "        return self.status\n",
    "        \n",
    "    def powerup(self):\n",
    "        if self.status == 'on':\n",
    "            self.power += 1\n",
    "            print(f'현재 power는 {self.power}입니다.')\n",
    "        else:\n",
    "            print('전원을 켜주세요.')\n",
    "        \n",
    "    def powerdown(self):\n",
    "        if self.status == 'on' and self.power != 0:\n",
    "            self.power -= 1\n",
    "            print(f'현재 power는 {self.power}입니다.')\n",
    "        elif self.status == 'off':\n",
    "            print('전원을 켜주세요.')\n",
    "        elif self.power == 0:\n",
    "            print('더이상 power를 내릴 수 없습니다.')\n",
    "\n",
    "    def end(self):\n",
    "        if self.status == 'on':\n",
    "            self.status = 'off'\n",
    "        return self.status\n"
   ]
  },
  {
   "cell_type": "code",
   "execution_count": 90,
   "id": "7d0e086e-ee36-4b13-bfad-d027a0ed08c3",
   "metadata": {},
   "outputs": [],
   "source": [
    "f= Fan()"
   ]
  },
  {
   "cell_type": "code",
   "execution_count": 91,
   "id": "eaf4a8e6-1798-473f-babc-eaa3fbe58041",
   "metadata": {},
   "outputs": [
    {
     "data": {
      "text/plain": [
       "'on'"
      ]
     },
     "execution_count": 91,
     "metadata": {},
     "output_type": "execute_result"
    }
   ],
   "source": [
    "f.start()"
   ]
  },
  {
   "cell_type": "code",
   "execution_count": 92,
   "id": "002b64f1-9d77-4755-924d-d69068f8d560",
   "metadata": {},
   "outputs": [
    {
     "name": "stdout",
     "output_type": "stream",
     "text": [
      "더이상 power를 내릴 수 없습니다.\n",
      "현재 power는 1입니다.\n",
      "None\n"
     ]
    }
   ],
   "source": [
    "f.powerdown()\n",
    "print(f.powerup())"
   ]
  },
  {
   "cell_type": "code",
   "execution_count": 84,
   "id": "fc869223-0c6c-4489-a616-4501f96df3cb",
   "metadata": {},
   "outputs": [
    {
     "name": "stdout",
     "output_type": "stream",
     "text": [
      "전원을 켜주세요.\n"
     ]
    }
   ],
   "source": [
    "f.end()\n",
    "f.powerup()"
   ]
  },
  {
   "cell_type": "code",
   "execution_count": 108,
   "id": "013d4e9f-bd02-4ea5-a7ff-217f11c0be54",
   "metadata": {},
   "outputs": [],
   "source": [
    "class Person:\n",
    "    name = ''\n",
    "\n",
    "    def hello(self):\n",
    "        print(f'나의 이름은 {self.name}입니다.')"
   ]
  },
  {
   "cell_type": "code",
   "execution_count": 109,
   "id": "545dfe26-996b-424f-ab9f-ba54c308a025",
   "metadata": {},
   "outputs": [
    {
     "name": "stdout",
     "output_type": "stream",
     "text": [
      "\n",
      "나의 이름은 입니다.\n",
      "나의 이름은 kim입니다.\n"
     ]
    }
   ],
   "source": [
    "p = Person()\n",
    "print(p.name)\n",
    "p.hello()\n",
    "\n",
    "p.name = 'kim'\n",
    "p.hello()"
   ]
  },
  {
   "cell_type": "code",
   "execution_count": 110,
   "id": "0cc5a43c-d3c0-4f4b-aea4-509a10fa0258",
   "metadata": {},
   "outputs": [],
   "source": [
    "# self : 인스턴스 객체 자기자신 (다른 언어에서는 this)\n",
    "# - 특별한 상황을 제외하고는 무조건 메소드의 첫번째 인자로 설정\n",
    "# - 인스턴스 메소드를 실행할 때 자동으로 첫번째 인자에 인스턴스 할당"
   ]
  },
  {
   "cell_type": "code",
   "execution_count": 111,
   "id": "379a6589-0a8f-4fa3-96e0-79e39884dbac",
   "metadata": {},
   "outputs": [
    {
     "name": "stdout",
     "output_type": "stream",
     "text": [
      "나의 이름은 입니다.\n",
      "나의 이름은 입니다.\n"
     ]
    }
   ],
   "source": [
    "p1 = Person()\n",
    "\n",
    "# self 매개변수 자리에 p1이라고 하는 인스턴스 객체가 인자로 전달\n",
    "Person.hello(p1)\n",
    "\n",
    "# p1 인스턴스 객체에서부터 메소드가 실행되기 때문에 self == p1\n",
    "p1.hello()"
   ]
  },
  {
   "cell_type": "markdown",
   "id": "4747dae5-a994-4bac-b26f-ab709dc6df77",
   "metadata": {},
   "source": [
    "## 생성자, 소멸자\n",
    "\n",
    "```python\n",
    "class MyClass:\n",
    "def __init__(self):\n",
    "    pass\n",
    "\n",
    "def __del__(self):\n",
    "    pass\n",
    "```"
   ]
  },
  {
   "cell_type": "code",
   "execution_count": 131,
   "id": "8d5fbd99-1d14-4e1f-85ec-0a1cc527e390",
   "metadata": {},
   "outputs": [],
   "source": [
    "class Person:\n",
    "    name = 'noname'\n",
    "\n",
    "    def __init__(self, name = '익명'):\n",
    "        self.name = name\n",
    "        print('생성됨')\n",
    "\n",
    "    def __del__(self):\n",
    "        print('소멸됨')"
   ]
  },
  {
   "cell_type": "code",
   "execution_count": 132,
   "id": "2dc2b837-4fd4-468c-81d6-4199675c2306",
   "metadata": {},
   "outputs": [
    {
     "name": "stdout",
     "output_type": "stream",
     "text": [
      "생성됨\n",
      "소멸됨\n",
      "saein\n"
     ]
    }
   ],
   "source": [
    "p1 = Person() # Person._init__(p1, )\n",
    "p1.name = 'saein'\n",
    "print(p1.name)"
   ]
  },
  {
   "cell_type": "code",
   "execution_count": 130,
   "id": "2720337f-bd19-4cf6-b630-dbc27713fa9f",
   "metadata": {},
   "outputs": [
    {
     "name": "stdout",
     "output_type": "stream",
     "text": [
      "생성됨\n",
      "kim\n"
     ]
    }
   ],
   "source": [
    "p2 = Person('kim') # Person._init__(p2, 'kim')\n",
    "print(p2.name)"
   ]
  },
  {
   "cell_type": "code",
   "execution_count": 160,
   "id": "0429709c-3869-40d6-9f8d-78a7a856792b",
   "metadata": {},
   "outputs": [],
   "source": [
    "# circle 클래스\n",
    "\n",
    "class Circle:\n",
    "    pi = 3.14\n",
    "    \n",
    "    def __init__(self, r, x=0, y=0):\n",
    "        self.r = r\n",
    "        self.x = x\n",
    "        self.y = y        \n",
    "\n",
    "\n",
    "    def area(self):\n",
    "        return self.pi * ( self.r ** 2 )\n",
    "\n",
    "    def move(self, x, y):\n",
    "        self.x= x\n",
    "        self.y = y\n",
    "        print(f'원의 중심이 {x}, {y}로 이동했습니다.')\n",
    "\n",
    "    def center(self):\n",
    "        print(f'현재 원의 중심은 ({self.x}, {self.y})입니다.')"
   ]
  },
  {
   "cell_type": "code",
   "execution_count": 162,
   "id": "cc4738f2-fcbd-438e-bbbc-314073c1e8bc",
   "metadata": {},
   "outputs": [
    {
     "name": "stdout",
     "output_type": "stream",
     "text": [
      "5\n",
      "3\n",
      "28.26\n",
      "원의 중심이 -3, -3로 이동했습니다.\n",
      "현재 원의 중심은 (-3, -3)입니다.\n",
      "0\n",
      "10\n",
      "314.0\n",
      "원의 중심이 10, 10로 이동했습니다.\n",
      "현재 원의 중심은 (10, 10)입니다.\n"
     ]
    }
   ],
   "source": [
    "c1 = Circle(3,5,3)\n",
    "print(c1.x)\n",
    "print(c1.r)\n",
    "print(c1.area())\n",
    "c1.move(-3,-3)\n",
    "c1.center()\n",
    "\n",
    "c2 = Circle(10)\n",
    "print(c2.x)\n",
    "print(c2.r)\n",
    "print(c2.area())\n",
    "c2.move(10,10)\n",
    "c2.center()"
   ]
  },
  {
   "cell_type": "markdown",
   "id": "11fdf678-f20b-4a3b-a13e-2f3cd3e57167",
   "metadata": {},
   "source": [
    "### 클래스변수\n",
    "- 클래스 선언 블록 최상단에 위치\n",
    "\n",
    "### 인스턴스변수\n",
    "- 인스턴스 내부에서 생성한 변수 (self.variable = )\n",
    "\n",
    "```python\n",
    "class TestClass:\n",
    "    class_variable = '클래스변수'\n",
    "\n",
    "    def __init__(self, arg):\n",
    "        self.instance_variable = '인스턴스변수'\n",
    "\n",
    "    def status(self):\n",
    "        return self.instance_variable\n",
    "```"
   ]
  },
  {
   "cell_type": "code",
   "execution_count": 166,
   "id": "561b2604-9050-4011-a877-9ab2fac8be72",
   "metadata": {},
   "outputs": [],
   "source": [
    "class Person:\n",
    "    name = 'kim'\n",
    "    phone = '010-1234-1234'\n",
    "\n",
    "    def __init__(self, name):\n",
    "        self.name = name"
   ]
  },
  {
   "cell_type": "code",
   "execution_count": 169,
   "id": "f0bb45e9-c496-4f94-8be8-aa23462b2f79",
   "metadata": {},
   "outputs": [
    {
     "name": "stdout",
     "output_type": "stream",
     "text": [
      "최세인\n",
      "kim\n",
      "010-1234-1234\n"
     ]
    }
   ],
   "source": [
    "p = Person('최세인')\n",
    "print(p.name) # 인스턴스에 할당된 값이 있으면 그 값을 출력\n",
    "print(Person.name)\n",
    "\n",
    "print(p.phone) # 인스턴스에 없으면 class에 있는 거 가져옴\n",
    "# print(p.location) # class에도 없으면 Error 발생"
   ]
  },
  {
   "cell_type": "markdown",
   "id": "4a4bab25-bb8b-46b5-aa33-2ae5245d51fb",
   "metadata": {},
   "source": [
    "### 클래스메소드, 인스턴스메소드, 스테틱메소드\n",
    "\n",
    "```python\n",
    "class MyClass:\n",
    "    def instance_method(self):\n",
    "        pass\n",
    "\n",
    "    @classmethod\n",
    "    def class_method(cls):\n",
    "        pass\n",
    "\n",
    "    @ststicmethod\n",
    "    def static_method()\n",
    "        pas\n",
    "```"
   ]
  },
  {
   "cell_type": "code",
   "execution_count": 170,
   "id": "2675096b-fd77-4970-b10f-b9c93eec1a02",
   "metadata": {},
   "outputs": [],
   "source": [
    "class MyClass:\n",
    "    def instance_method(self):\n",
    "        return self\n",
    "\n",
    "    @classmethod\n",
    "    def class_method(cls):\n",
    "        return cls\n",
    "\n",
    "    @staticmethod\n",
    "    def static_method():\n",
    "        return 'hello'"
   ]
  },
  {
   "cell_type": "code",
   "execution_count": 175,
   "id": "f1295ab6-5e1a-4d24-9a2a-1a27e2c1f23d",
   "metadata": {},
   "outputs": [
    {
     "name": "stdout",
     "output_type": "stream",
     "text": [
      "<__main__.MyClass object at 0x0000024D5137CB50>\n",
      "<class '__main__.MyClass'>\n",
      "<class '__main__.MyClass'>\n",
      "hello\n"
     ]
    }
   ],
   "source": [
    "c1 = MyClass()\n",
    "\n",
    "print(c1.instance_method())\n",
    "print(MyClass.class_method()) # 인스턴스에 할당되어 있지 않음\n",
    "print(c1.class_method()) # 인스턴스에는 없고 MyClass에 있는 거 가져옴\n",
    "print(c1.static_method())"
   ]
  },
  {
   "cell_type": "code",
   "execution_count": 191,
   "id": "62c52011-9018-4b0d-9807-5c1c9e61a71a",
   "metadata": {},
   "outputs": [],
   "source": [
    "class Puppy:\n",
    "    num_of_puppy = 0\n",
    "\n",
    "    def __init__(self, name):  # instance에 있는 변수를 사용할 때 \n",
    "        self.name = name\n",
    "        Puppy.num_of_puppy += 1\n",
    "\n",
    "    @classmethod  # class에 있는 변수를 사용할 때 \n",
    "    def get_status(cls):\n",
    "        return f'현재 강아지는 {cls.num_of_puppy}마리입니다.'\n",
    "\n",
    "    @staticmethod # class, instance 둘 다 상관없는 변수 사용할 때 \n",
    "    def bark(string = '멍멍'):\n",
    "        return string        "
   ]
  },
  {
   "cell_type": "code",
   "execution_count": 192,
   "id": "011176c8-a822-44d6-af0c-7f3c35b0209d",
   "metadata": {},
   "outputs": [
    {
     "name": "stdout",
     "output_type": "stream",
     "text": [
      "3\n",
      "3\n",
      "3\n",
      "현재 강아지는 3마리입니다.\n",
      "멍멍\n",
      "왕왕\n"
     ]
    }
   ],
   "source": [
    "p1 = Puppy('또또')\n",
    "p2 = Puppy('몽이')\n",
    "p3 = Puppy('흰둥이')\n",
    "\n",
    "print(p1.num_of_puppy)\n",
    "print(p2.num_of_puppy)\n",
    "print(Puppy.num_of_puppy)\n",
    "\n",
    "print(Puppy.get_status())\n",
    "\n",
    "print(p1.bark())\n",
    "print(p2.bark('왕왕'))"
   ]
  },
  {
   "cell_type": "markdown",
   "id": "c4122216-99f2-45b8-b23b-d579dd0a9059",
   "metadata": {},
   "source": [
    "## 정리\n",
    "\n",
    "```\n",
    "class : 변수, 함수를 저장하기 위한 집합\n",
    "\n",
    "    - attribute(속성) : variable, data\n",
    "        - instance_variable\n",
    "        - class_variable\n",
    "\n",
    "    - method(행위)\n",
    "        - instance_method\n",
    "        - class_method\n",
    "        - static_method\n",
    "```"
   ]
  },
  {
   "cell_type": "markdown",
   "id": "1092b977-1666-40f5-914b-0d4503e27039",
   "metadata": {},
   "source": [
    "## 상속"
   ]
  },
  {
   "cell_type": "code",
   "execution_count": 198,
   "id": "3b1b4200-d5e0-479f-956d-cd99b77f6152",
   "metadata": {},
   "outputs": [],
   "source": [
    "class Person:\n",
    "\n",
    "    def __init__(self, name):\n",
    "        self.name = name\n",
    "\n",
    "    def greeting(self):\n",
    "        print(f'안녕하세요 {self.name}입니다.')"
   ]
  },
  {
   "cell_type": "code",
   "execution_count": 199,
   "id": "f73cafca-6e96-48e2-9b5d-d59e03d0de54",
   "metadata": {},
   "outputs": [
    {
     "name": "stdout",
     "output_type": "stream",
     "text": [
      "안녕하세요 홍길동입니다.\n"
     ]
    }
   ],
   "source": [
    "p1 = Person('홍길동')\n",
    "p2 = Person('이순신')\n",
    "\n",
    "p1.greeting()"
   ]
  },
  {
   "cell_type": "code",
   "execution_count": 204,
   "id": "cf75cfd9-ef9d-459a-b3b5-cbfbee8cd427",
   "metadata": {},
   "outputs": [],
   "source": [
    "# 상속을 통해 부모 class가 가지고 있는 모든 함수, 변수를 가지고 옴\n",
    "class Student(Person):\n",
    "\n",
    "    # def __init__(self, name):\n",
    "    #     self.name = name\n",
    "\n",
    "    # def greeting(self):\n",
    "    #     print(f'안녕하세요 {self.name}입니다.')\n",
    "    \n",
    "    def __init__(self, name, student_id):\n",
    "        self.name = name\n",
    "        self.student_id = student_id"
   ]
  },
  {
   "cell_type": "code",
   "execution_count": 206,
   "id": "1bf4ea47-3043-40a5-a00e-17b90e9f6f53",
   "metadata": {},
   "outputs": [
    {
     "name": "stdout",
     "output_type": "stream",
     "text": [
      "안녕하세요 kim입니다.\n",
      "1234\n"
     ]
    }
   ],
   "source": [
    "s1 = Student('kim', 1234)\n",
    "s2 = Student('park', 5678)\n",
    "\n",
    "s1.greeting()\n",
    "print(s1.student_id)"
   ]
  },
  {
   "cell_type": "code",
   "execution_count": 211,
   "id": "5055abeb-2994-4a58-9918-a0d79a5ef729",
   "metadata": {},
   "outputs": [],
   "source": [
    "class Soldier(Person):\n",
    "\n",
    "    # method 덮어씌우기\n",
    "    def greeting(self):\n",
    "        return f'충성! {self.name}입니다.'"
   ]
  },
  {
   "cell_type": "code",
   "execution_count": 212,
   "id": "d0a83b8d-aa4f-4e92-91d6-112caaeba777",
   "metadata": {},
   "outputs": [
    {
     "data": {
      "text/plain": [
       "'충성! 국방이입니다.'"
      ]
     },
     "execution_count": 212,
     "metadata": {},
     "output_type": "execute_result"
    }
   ],
   "source": [
    "s1 = Soldier('국방이')\n",
    "\n",
    "s1.greeting()"
   ]
  },
  {
   "cell_type": "code",
   "execution_count": 213,
   "id": "4887af07-0c3e-4ce6-8175-10bce77f60b1",
   "metadata": {},
   "outputs": [],
   "source": [
    "class Person:\n",
    "    def __init__(self, email, phone, location, name):\n",
    "        self.email = email\n",
    "        self.phone = phone\n",
    "        self.location = location\n",
    "        self.name = name\n",
    "\n",
    "class Studnet(Person):\n",
    "    def __init__(self, email, phone, location, name, student_id):\n",
    "        self.email = email\n",
    "        self.phone = phone\n",
    "        self.location = location\n",
    "        self.name = name\n",
    "        self.student_id = student_id\n",
    "\n",
    "class Soldier(Person):\n",
    "    def __init__(self, email, phone, location, name, soldier_id):\n",
    "        # super() : 부모클래스(Person)\n",
    "        super().__init__(email, phone, location, name)\n",
    "        self.soldier_id = soldier_id\n",
    "        "
   ]
  },
  {
   "cell_type": "code",
   "execution_count": 229,
   "id": "10514d80-a92f-491b-8d78-4dca85637f28",
   "metadata": {},
   "outputs": [
    {
     "name": "stdout",
     "output_type": "stream",
     "text": [
      "kim\n",
      "12345\n",
      "Seoul\n"
     ]
    }
   ],
   "source": [
    "s1 = Soldier('email@email.com', '010-1234-1234', 'Seoul','kim', '12345')\n",
    "print(s1.name)\n",
    "print(s1.soldier_id)\n",
    "print(s1.location)"
   ]
  },
  {
   "cell_type": "markdown",
   "id": "12bf42bd-2194-4d06-9759-0d94365d195c",
   "metadata": {},
   "source": [
    "### 다중상속"
   ]
  },
  {
   "cell_type": "code",
   "execution_count": 223,
   "id": "7c00c58f-ec78-4da1-9a0b-4cc63d7bd944",
   "metadata": {},
   "outputs": [],
   "source": [
    "class Person:\n",
    "    def __init__(self, name):\n",
    "        self.name = name\n",
    "\n",
    "    def breath(self):\n",
    "        print('후하')"
   ]
  },
  {
   "cell_type": "code",
   "execution_count": 224,
   "id": "10af2543-570c-4fc3-a659-47c85450f289",
   "metadata": {},
   "outputs": [],
   "source": [
    "class Mon(Person):\n",
    "    gene = 'xx'\n",
    "\n",
    "    def swim(self):\n",
    "        print('어푸어푸')"
   ]
  },
  {
   "cell_type": "code",
   "execution_count": 225,
   "id": "8e7371cc-59dd-4692-a5a2-76b77f063328",
   "metadata": {},
   "outputs": [],
   "source": [
    "class Dad(Person):\n",
    "    gene = 'xy'\n",
    "\n",
    "    def run(self):\n",
    "        print('다다다')"
   ]
  },
  {
   "cell_type": "code",
   "execution_count": 226,
   "id": "19ff6e85-8026-4ca7-98d4-e0b754449651",
   "metadata": {},
   "outputs": [],
   "source": [
    "class Baby(Mon, Dad):\n",
    "    pass"
   ]
  },
  {
   "cell_type": "code",
   "execution_count": 291,
   "id": "e99fc64a-1bfb-4622-a861-143d3387e711",
   "metadata": {},
   "outputs": [
    {
     "name": "stdout",
     "output_type": "stream",
     "text": [
      "후하\n",
      "어푸어푸\n",
      "다다다\n",
      "xx\n"
     ]
    }
   ],
   "source": [
    "b = Baby('금쪽이')\n",
    "b.breath()\n",
    "b.swim()\n",
    "b.run()\n",
    "\n",
    "# 다중상속을 한 경우 먼저 상속받은 데이터/메소드가 우선\n",
    "print(b.gene) "
   ]
  },
  {
   "cell_type": "code",
   "execution_count": 292,
   "id": "0fc362de-0965-49b3-b72f-efef42b0cbad",
   "metadata": {},
   "outputs": [],
   "source": [
    "# 연습(포켓몬)"
   ]
  },
  {
   "cell_type": "code",
   "execution_count": 283,
   "id": "8aaaa1df-9062-42d4-b966-9db8b944a460",
   "metadata": {},
   "outputs": [],
   "source": [
    "class Pocketmon:\n",
    "    def __init__(self, name, friend, hp, favorite):\n",
    "        self.name = name\n",
    "        self.friend = friend\n",
    "        self.hp = hp\n",
    "        self.favorite = favorite\n",
    "\n",
    "    def bark(self):\n",
    "        print(self.name[0:2]*2)\n",
    "\n",
    "    def attack(self, power):\n",
    "        self.power = power\n",
    "        print(f'{self.name}(이)가 {self.power}공격을 시전하였다!')"
   ]
  },
  {
   "cell_type": "code",
   "execution_count": 293,
   "id": "67fe86ec-361f-4ae4-9a3c-b2ac17e40c7f",
   "metadata": {},
   "outputs": [],
   "source": [
    "class Picka(Pocketmon):\n",
    "    \n",
    "    def evolution(self):\n",
    "        print(f'{self.name}(이)가 라이츄가 되었다!')"
   ]
  },
  {
   "cell_type": "code",
   "execution_count": 294,
   "id": "35f70504-e84b-4093-8c02-3d2fb71e177e",
   "metadata": {},
   "outputs": [
    {
     "name": "stdout",
     "output_type": "stream",
     "text": [
      "피카츄\n",
      "피카피카\n",
      "피카츄(이)가 라이츄가 되었다!\n",
      "피카츄(이)가 전기공격을 시전하였다!\n"
     ]
    }
   ],
   "source": [
    "p = Picka('피카츄', '지우', 100, '케첩')\n",
    "print(p.name)\n",
    "p.bark()\n",
    "p.evolution()\n",
    "p.attack('전기')"
   ]
  },
  {
   "cell_type": "code",
   "execution_count": 286,
   "id": "a7bf48cc-d785-413f-8cd0-a131377139e9",
   "metadata": {},
   "outputs": [],
   "source": [
    "class Turtle(Pocketmon):\n",
    "\n",
    "    def flower(self):\n",
    "        print(f'{self.name}(이)가 꽃을 건네주었다!')"
   ]
  },
  {
   "cell_type": "code",
   "execution_count": 287,
   "id": "4700330f-37c9-4a02-9bc8-291e80b71dc1",
   "metadata": {},
   "outputs": [
    {
     "name": "stdout",
     "output_type": "stream",
     "text": [
      "꼬부기\n",
      "꼬부꼬부\n",
      "꼬부기(이)가 꽃을 건네주었다!\n",
      "꼬부기(이)가 물대포공격을 시전하였다!\n"
     ]
    }
   ],
   "source": [
    "t = Turtle('꼬부기', '지우', 80,'꽃')\n",
    "print(t.name)\n",
    "t.bark()\n",
    "t.flower()\n",
    "t.attack('물대포')"
   ]
  },
  {
   "cell_type": "code",
   "execution_count": 289,
   "id": "cf6abaa3-fb40-4677-be27-7ac061ab050e",
   "metadata": {},
   "outputs": [],
   "source": [
    "class Cat(Pocketmon):\n",
    "    def __init__(self, name, hp, colleague, hate):\n",
    "        self.name = name\n",
    "        self.hp = hp\n",
    "        self.colleague = colleague\n",
    "        self.hate = hate\n",
    "        \n",
    "    def fly(self):\n",
    "        print('불쌍한 내 인생~!')"
   ]
  },
  {
   "cell_type": "code",
   "execution_count": 296,
   "id": "e52af961-5146-457d-9e42-5c84a21ec66e",
   "metadata": {},
   "outputs": [
    {
     "name": "stdout",
     "output_type": "stream",
     "text": [
      "냐옹이\n",
      "(루이, 로사)\n",
      "냐옹냐옹\n",
      "불쌍한 내 인생~!\n",
      "냐옹이(이)가 할퀴기공격을 시전하였다!\n"
     ]
    }
   ],
   "source": [
    "c = Cat('냐옹이', 70, '(루이, 로사)', '지우')\n",
    "print(c.name)\n",
    "print(c.colleague)\n",
    "c.bark()\n",
    "c.fly()\n",
    "c.attack('할퀴기')"
   ]
  }
 ],
 "metadata": {
  "kernelspec": {
   "display_name": "Python 3 (ipykernel)",
   "language": "python",
   "name": "python3"
  },
  "language_info": {
   "codemirror_mode": {
    "name": "ipython",
    "version": 3
   },
   "file_extension": ".py",
   "mimetype": "text/x-python",
   "name": "python",
   "nbconvert_exporter": "python",
   "pygments_lexer": "ipython3",
   "version": "3.11.4"
  }
 },
 "nbformat": 4,
 "nbformat_minor": 5
}
